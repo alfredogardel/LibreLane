{
  "cells": [
    {
      "cell_type": "markdown",
      "metadata": {
        "id": "view-in-github",
        "colab_type": "text"
      },
      "source": [
        "<a href=\"https://colab.research.google.com/github/alfredogardel/LibreLane/blob/main/notebook.ipynb\" target=\"_parent\"><img src=\"https://colab.research.google.com/assets/colab-badge.svg\" alt=\"Open In Colab\"/></a>"
      ]
    },
    {
      "cell_type": "markdown",
      "metadata": {
        "id": "K17fgoLECay5"
      },
      "source": [
        "## LibreLane Colab\n",
        "\n",
        "This Google Colab notebook will:\n",
        "* Install LibreLane and its dependencies\n",
        "* Run a simple design, namely a serial-parallel multiplier, through the flow\n",
        "  and targeting the [open source sky130 PDK](https://github.com/google/skywater-pdk/)\n",
        "  by Google and Skywater."
      ]
    },
    {
      "cell_type": "code",
      "execution_count": 2,
      "metadata": {
        "colab": {
          "base_uri": "https://localhost:8080/"
        },
        "id": "laNqgAb1Cay8",
        "outputId": "a22d6068-466b-4a92-efb7-984c05ec99ce"
      },
      "outputs": [
        {
          "output_type": "stream",
          "name": "stdout",
          "text": [
            "info: downloading installer\n",
            " INFO nix-installer v3.11.2\n",
            "\n",
            "\u001b[3m\u001b[31m\u001b[1mImportant:\u001b[0m\u001b[39m\u001b[0m The Determinate Nix Installer will stop distributing upstream Nix no sooner than \u001b[3mJanuary 1, 2026\u001b[0m.\n",
            "\n",
            "\u001b[4m\u001b[1mTimeline\u001b[0m\u001b[0m\n",
            "* \u001b[1mNovember 10\u001b[0m: we are changing the installer to default to Determinate Nix.\n",
            "  You can add the `\u001b[3m--prefer-upstream-nix\u001b[0m` flag now to keep upstream Nix as the default.\n",
            "* \u001b[1mJanuary 1\u001b[0m: we are removing support for installing upstream Nix.\n",
            "  The `\u001b[3m--prefer-upstream-nix\u001b[0m` flag will not have an effect any longer.\n",
            "\n",
            "The DeterminateSystems/nix-installer-action GitHub Action is also affected.\n",
            "\n",
            "\u001b[3m\u001b[1mDetails:\u001b[0m\u001b[0m https://determinate.systems/blog/installer-dropping-upstream/\n",
            " INFO Step: Create directory `/nix`\n",
            " INFO Step: Provision Nix\n",
            " INFO Step: Create build users (UID 30001-30032) and group (GID 30000)\n",
            " INFO Step: Configure Nix\n",
            " INFO Step: Create directory `/etc/tmpfiles.d`\n",
            " INFO Step: Configure upstream Nix daemon service\n",
            " INFO Step: Remove directory `/nix/temp-install-dir`\n",
            " WARN SelfTest([ShellFailed { shell: Sh, command: \"\\\"sh\\\" \\\"-lc\\\" \\\"exec nix build --option substitute false --option post-build-hook \\\\'\\\\' --no-link --expr \\\\'derivation { name = \\\\\\\"self-test-sh-1758789834548\\\\\\\"; system = \\\\\\\"x86_64-linux\\\\\\\"; builder = \\\\\\\"/bin/sh\\\\\\\"; args = [\\\\\\\"-c\\\\\\\" \\\\\\\"echo hello > \\\\\\\\$out\\\\\\\"]; }\\\\'\\\"\", output: Output { status: ExitStatus(unix_wait_status(256)), stdout: \"\", stderr: \"error:\\n       … while calling the 'derivationStrict' builtin\\n         at <nix/derivation-internal.nix>:37:12:\\n           36|\\n           37|   strict = derivationStrict drvAttrs;\\n             |            ^\\n           38|\\n\\n       … while evaluating derivation 'self-test-sh-1758789834548'\\n         whose name attribute is located at «string»:1:14\\n\\n       error: cannot connect to socket at '/nix/var/nix/daemon-socket/socket': No such file or directory\\n\" } }, ShellFailed { shell: Bash, command: \"\\\"bash\\\" \\\"-lc\\\" \\\"exec nix build --option substitute false --option post-build-hook \\\\'\\\\' --no-link --expr \\\\'derivation { name = \\\\\\\"self-test-bash-1758789834605\\\\\\\"; system = \\\\\\\"x86_64-linux\\\\\\\"; builder = \\\\\\\"/bin/sh\\\\\\\"; args = [\\\\\\\"-c\\\\\\\" \\\\\\\"echo hello > \\\\\\\\$out\\\\\\\"]; }\\\\'\\\"\", output: Output { status: ExitStatus(unix_wait_status(256)), stdout: \"\", stderr: \"error:\\n       … while calling the 'derivationStrict' builtin\\n         at <nix/derivation-internal.nix>:37:12:\\n           36|\\n           37|   strict = derivationStrict drvAttrs;\\n             |            ^\\n           38|\\n\\n       … while evaluating derivation 'self-test-bash-1758789834605'\\n         whose name attribute is located at «string»:1:14\\n\\n       error: cannot connect to socket at '/nix/var/nix/daemon-socket/socket': No such file or directory\\n\" } }])\n",
            "\u001b[1m\u001b[32mNix was installed successfully!\u001b[39m\u001b[0m\n",
            "To get started using Nix, open a new shell or run `\u001b[1m. /nix/var/nix/profiles/default/etc/profile.d/nix-daemon.sh\u001b[0m`\n",
            "\n"
          ]
        }
      ],
      "source": [
        "# @title Setup Nix {display-mode: \"form\"}\n",
        "# @markdown <img src=\"https://raw.githubusercontent.com/NixOS/nixos-artwork/51a27e4a011e95cb559e37d32c44cf89b50f5154/logo/nix-snowflake-colours.svg\" width=\"32\"/>\n",
        "# @markdown\n",
        "# @markdown Nix is a package manager with an emphasis on reproducible builds,\n",
        "# @markdown and it is the primary method for installing LibreLane.\n",
        "# @markdown\n",
        "# @markdown This step installs the Nix package manager and enables the\n",
        "# @markdown FOSSi Foundation Nix Cache.\n",
        "# @markdown\n",
        "# @markdown If you're not in a Colab, this just sets the environment variables.\n",
        "# @markdown You will need to install Nix and enable flakes on your own following\n",
        "# @markdown [this guide](https://librelane.readthedocs.io/en/stable/getting_started/common/nix_installation/index.html).\n",
        "import os\n",
        "from pathlib import Path\n",
        "import subprocess\n",
        "import sys\n",
        "import shutil\n",
        "import tempfile\n",
        "\n",
        "os.environ[\"LOCALE_ARCHIVE\"] = \"/usr/lib/locale/locale-archive\"\n",
        "\n",
        "if \"google.colab\" in sys.modules:\n",
        "    if shutil.which(\"nix-env\") is None:\n",
        "        with tempfile.TemporaryDirectory() as d:\n",
        "            d = Path(d)\n",
        "            installer_path = d / \"nix\"\n",
        "            !curl --proto '=https' --tlsv1.2 -sSf -L https://install.determinate.systems/nix > {installer_path}\n",
        "            with subprocess.Popen(\n",
        "                [\n",
        "                    \"bash\",\n",
        "                    installer_path,\n",
        "                    \"install\",\n",
        "                    \"--prefer-upstream-nix\",\n",
        "                    \"--no-confirm\",\n",
        "                    \"--extra-conf\",\n",
        "                    \"extra-substituters = https://nix-cache.fossi-foundation.org\\nextra-trusted-public-keys = nix-cache.fossi-foundation.org:3+K59iFwXqKsL7BNu6Guy0v+uTlwsxYQxjspXzqLYQs=\\n\",\n",
        "                ],\n",
        "                stdout=subprocess.PIPE,\n",
        "                stderr=subprocess.STDOUT,\n",
        "                encoding=\"utf8\",\n",
        "            ) as p:\n",
        "                for line in p.stdout:\n",
        "                    print(line, end=\"\")\n",
        "else:\n",
        "    if shutil.which(\"nix-env\") is None:\n",
        "        raise RuntimeError(\"Nix is not installed!\")\n",
        "\n",
        "os.environ[\"PATH\"] = f\"/nix/var/nix/profiles/default/bin/:{os.getenv('PATH')}\""
      ]
    },
    {
      "cell_type": "code",
      "execution_count": 3,
      "metadata": {
        "colab": {
          "base_uri": "https://localhost:8080/",
          "height": 1000,
          "referenced_widgets": [
            "b62b3695678a45498c1618b07736cb41",
            "311b197edda7490ab7cc200237fcaac1",
            "ec539fa505d64513a391b65915b76c02",
            "d6dcc0b50d464207a13bc5072fd2770c",
            "d79753e6ecbe49bea11f0fef8f3ab322",
            "04270036aeb6446fbd7a6d156eb574c9",
            "da3d850038e048f082919107c3832a2f",
            "2d155dbc86244bcfa0303a348a90e623",
            "2b28766de9db4d32a6ea8abae8888c39",
            "44d38fd7f54b473f8ef1afe74e713056",
            "80a998210d8b436284be1e8d7710ba1f",
            "80add7c377d0430a8e288063ab247b22",
            "5a438b4968cd4d209817d0073e5b90db",
            "99908bff672a40ed843c957b5966d21b",
            "988b7885e7e64eaba9dc57b80483ba6a",
            "ce71136566fb464ba76642620008edba",
            "3622c7d88b6c4a96955a4ec46c4c951b",
            "1de8bee8bbcb4522aefb77ec9af16e05",
            "bd66a9fa05b5469faec59f9dde2037ee",
            "6a3afba9bc9344ddaac5052e864ac3f8",
            "5a4e4e98bbbc4a779d551ee97b2c0002",
            "9b9923b2ecde487d89f02f98256e81f6",
            "82054e3a7a1945fd9f4879c0db040d39",
            "34e4ac5b4f9d4d08b19f3d752b3727db",
            "a1ab807197a64c85ba4928b3b13a82f6",
            "5cd10945797543b6980e7bf3a01b1da9"
          ]
        },
        "id": "cEyCTUTdCay9",
        "outputId": "9a2a61bd-6b02-499d-baa6-6e21dd537f17"
      },
      "outputs": [
        {
          "output_type": "display_data",
          "data": {
            "text/plain": [
              "<IPython.core.display.HTML object>"
            ],
            "text/html": [
              "<h3>Downloading LibreLane…</a>"
            ]
          },
          "metadata": {}
        },
        {
          "output_type": "stream",
          "name": "stdout",
          "text": [
            "  % Total    % Received % Xferd  Average Speed   Time    Time     Time  Current\n",
            "                                 Dload  Upload   Total   Spent    Left  Speed\n",
            "  0     0    0     0    0     0      0      0 --:--:-- --:--:-- --:--:--     0\n",
            "100 9525k    0 9525k    0     0   9.9M      0 --:--:-- --:--:-- --:--:-- 70.8M\n"
          ]
        },
        {
          "output_type": "display_data",
          "data": {
            "text/plain": [
              "<IPython.core.display.HTML object>"
            ],
            "text/html": [
              "<h3>Downloading LibreLane's dependencies…</a>"
            ]
          },
          "metadata": {}
        },
        {
          "output_type": "stream",
          "name": "stdout",
          "text": [
            "warning: 'install' is a deprecated alias for 'add'\n",
            "unpacking 'github:fossi-foundation/nix-eda/f8fb90fb348f04d021ca773f268c6e15a24ae11f?narHash=sha256-IyEhOQOtSoYOO0xdbYeoxOufBUdt7yDrYlJpQgVon8I%3D' into the Git cache...\n",
            "copying path '/nix/store/i1aw9jjgxcvyd642s12kw3iasmarwd42-source' from 'https://cache.nixos.org'...\n",
            "unpacking 'github:numtide/devshell/7c9e793ebe66bcba8292989a68c0419b737a22a0?narHash=sha256-kWNaq6wQUbUMlPgw8Y%2B9/9wP0F8SHkjy24/mN3UAppg%3D' into the Git cache...\n",
            "unpacking 'github:fossi-foundation/ciel/f4990f916c29f1cb7d890ab5b0716f63ce9de1b4?narHash=sha256-QoaS950TbRvvtndqHf8yz9VrQOZoTJCTPl4wWHgpRDM%3D' into the Git cache...\n",
            "this derivation will be built:\n",
            "  /nix/store/wxd6wah477mx6xhnmgkj7l52ddhf13lm-librelane-colab-env.drv\n",
            "these 370 paths will be fetched (883.52 MiB download, 4597.07 MiB unpacked):\n",
            "  /nix/store/wmwgqi3w2q5gk1nl6pjqkhblqnh9gq8r-abseil-cpp-20210324.2\n",
            "  /nix/store/hx8k94a5jddw4f5ipbk444v2rlp1dhsp-abseil-cpp-20220623.2\n",
            "  /nix/store/ha7gbcgbp9bv4hmll7ghy7kqrcpyjlka-abseil-cpp-20240116.2\n",
            "  /nix/store/mjgi65m3hgzqqvqcix848gskkw5zzwi9-acl-2.3.2\n",
            "  /nix/store/0g7r7krqiz6g3nb3651sfa5myd9gqkzf-alsa-lib-1.2.11\n",
            "  /nix/store/k3rllmlx64awzszan2d17kyl9mb8p3pr-alsa-topology-conf-1.2.5.1\n",
            "  /nix/store/xdb66yb8cqghrrc8j8rgpr31mhdmyp0m-alsa-ucm-conf-1.2.11\n",
            "  /nix/store/n4ipmip39rmapwnypvq5kk31w6aq7gyg-antlr-runtime-cpp-4.13.0\n",
            "  /nix/store/6rigmq2ycbpgywmq9jjyhdr6vs8k8h8x-at-spi2-core-2.52.0\n",
            "  /nix/store/5nk2ga7i2f030am4qpcdsd8qlk6i3z83-attr-2.5.2\n",
            "  /nix/store/cz3qp4hxqxcwcyx04cajvjhy388dhw2q-audit-3.1.2\n",
            "  /nix/store/jza1j1lqb26l36m1q6gdh8nlcc48jzjn-avahi-0.8\n",
            "  /nix/store/306znyj77fv49kwnkpxmb0j2znqpa8bj-bash-5.2p26\n",
            "  /nix/store/rdd4pnr4x9rqc9wgbibhngv217w2xvxl-bash-interactive-5.2p26\n",
            "  /nix/store/bgcaxhhxswzvmxjbbgvvaximm5hwghz1-binutils-2.41\n",
            "  /nix/store/j3svbki41ax01mhd0bax91y1q8gvc5c4-binutils-2.41-lib\n",
            "  /nix/store/7bd6mlnyj4192ssw50hksnqbxmj98p26-binutils-wrapper-2.41\n",
            "  /nix/store/kln7kinji3b7sz8r50h4gn9yy6k1js9a-binutils-wrapper-2.41\n",
            "  /nix/store/idlf6vx1hscsfgkh47zlcgvfyaq44926-bitwuzla-unstable-2022-10-03\n",
            "  /nix/store/sdyn5834dw2w6nkijzn66zj280wwl82x-blas-3\n",
            "  /nix/store/3w639jz93a49sd9a3bm9cgiqf646q0hi-blas-3-dev\n",
            "  /nix/store/bgqqrs1c0sy646g3x2l5lv26qw40z964-boost-1.83.0\n",
            "  /nix/store/8zzadbd854igw91p0qp25qz1lw7n65yg-boost-1.85.0\n",
            "  /nix/store/ss5nv8y5hqfjxw3l49mb32ngk9wb90wi-boost-1.85.0\n",
            "  /nix/store/ra07lq4fpf8nfwligri4f7yj55v1l587-boost-1.85.0-dev\n",
            "  /nix/store/0xj7i7pnp1xyk09qg8dgsvl60gz1psyl-brotli-1.1.0\n",
            "  /nix/store/62fdhzhrs5smykxkxvjhw3y6yck2iih4-brotli-1.1.0-dev\n",
            "  /nix/store/jpjmh2325b6k3svvsmhj57wqlph9srdx-brotli-1.1.0-lib\n",
            "  /nix/store/c700lzjplz0g1nhxksj1rj8n3gpmcv47-btor2tools-1.0.0-pre_9831f9909fb283752a3d6d60d43613173bd8af42-lib\n",
            "  /nix/store/xwcf1rw3ackqp2vxms9myf9jq2ny6ynv-bzip2-1.0.8\n",
            "  /nix/store/mxcq77rlan82dzpv3cgj0fh6qvv8ncil-bzip2-1.0.8-bin\n",
            "  /nix/store/5yqz7al0lv1jhkmbka3ghswqk5wlxvq5-bzip2-1.0.8-dev\n",
            "  /nix/store/04930y985jdp218g58zp0libac2vkrah-cadical-1.9.5-lib\n",
            "  /nix/store/b9f9c4ml2k6fg0pgc80d9y4a6byqflmp-cairo-1.18.0\n",
            "  /nix/store/ljrz822j7b6db3jnmw1jiafgrm8armcw-cairo-1.18.0-dev\n",
            "  /nix/store/hd7c7qjqisx2anb2mpf2rs9dmir08xpa-capnproto-1.0.2\n",
            "  /nix/store/nqch0jn2facpjab35sld321s47w9z3m9-cbc-2.10.4\n",
            "  /nix/store/3g4dm056wsjg3nhxsqgd4hkx4lha9jpb-cdparanoia-III-10.2\n",
            "  /nix/store/gx27b857v63sm7syli75gjzdvayf2xsr-clang-17.0.6\n",
            "  /nix/store/wxxgsgjxbnkkyczgf8lkbfrsqiywm8bi-clang-17.0.6-lib\n",
            "  /nix/store/mzhqknx2mc94jdz4n320hn1lml86398y-clang-wrapper-17.0.6\n",
            "  /nix/store/x8k2sqkbbyh4qlmdb7b258v2fp99yzfv-clp-1.17.9\n",
            "  /nix/store/jxm88kqrs373ydzlj73c7y1yhk7rjc63-coinutils-2.11.10\n",
            "  /nix/store/2ryq88lrrrrmidsvridcv8rcs3arp1f3-compiler-rt-libc-17.0.6\n",
            "  /nix/store/x9pcjqpxv8j7fsc5aivx0m38529fxsmi-compiler-rt-libc-17.0.6-dev\n",
            "  /nix/store/php4qidg2bxzmm79vpri025bqi0fa889-coreutils-9.5\n",
            "  /nix/store/iia4qvk02272cvfq4lfww1a48fpk08ml-cracklib-2.9.11\n",
            "  /nix/store/fbfvlqwm0w9pqvxy0pd5s4wvi8bjmgmz-critcl-3.2\n",
            "  /nix/store/d4awhg7d4f5nq1nljk8fd8qqysf6pp82-cryptominisat-5.11.21\n",
            "  /nix/store/yi5kdmy956hbvqrvmsi2qxykks4fhnad-cryptsetup-2.7.1\n",
            "  /nix/store/0bp09zmflpq2igy8cm2b83dl0rpmyw90-cups-2.4.7-lib\n",
            "  /nix/store/36kr91f8s509z2r8hqvpayw5bqyqgyzr-curl-8.7.1\n",
            "  /nix/store/8anib06b270c8k62fglw6dimnwivrcvy-db-4.8.30\n",
            "  /nix/store/jd41k79l3nxq4b7b7yvc0kmcjd3lq7sa-dbus-1.14.10-lib\n",
            "  /nix/store/g19314860ijffhbksw25pl2rcagk7wcx-dconf-0.40.0-lib\n",
            "  /nix/store/v9mbmh6gfg69akbdbw68q2kq5l16ncxp-dejavu-fonts-minimal-2.37\n",
            "  /nix/store/i34mknsjgrfyy71k2h79gda0bvagzc2j-diffutils-3.10\n",
            "  /nix/store/v0d8k5by479gzc9yfdnvw63m0jzcppjk-dns-root-data-2023-11-27\n",
            "  /nix/store/1sffjkg6c6ff16fz5yr0pnz3j7vja42h-ed-1.20.2\n",
            "  /nix/store/r20kl3djvc3r5w5a0gwy4d896mn6b22a-elfutils-0.191\n",
            "  /nix/store/gnjp969f02l4fp2bj6vxibnb6c0qfqb5-expand-response-params\n",
            "  /nix/store/pqajcwpmpr0jspa4z8xhxxnnfqfy5al4-expand-response-params\n",
            "  /nix/store/0bm4z6dh3v6nnr539xzsak0pn4wccb5l-expat-2.6.2\n",
            "  /nix/store/3bsk1131lgpvp0amxml4adnb8m5p18nk-fftw-single-3.3.10\n",
            "  /nix/store/xx7x1dwybpssfhq8yikvzz38bh3yrq97-file-5.45\n",
            "  /nix/store/jjcsr5gs4qanf7ln5c6wgcq4sn75a978-findutils-4.9.0\n",
            "  /nix/store/a1vdbxij9xn9i2qs695rlcn3jkwpldd2-flac-1.4.3\n",
            "  /nix/store/s2lqglzdkd1061h0mfvzls5qpdf4r5aw-fontconfig-2.15.0\n",
            "  /nix/store/n0g1wrj6h8g5knynm8i3832ps41snada-fontconfig-2.15.0-bin\n",
            "  /nix/store/s0mcb1kw1a4a9vdvcm8jpsdpn6bqkljm-fontconfig-2.15.0-dev\n",
            "  /nix/store/azbphnp68h4fkm0fsbird88bn76ggjsh-fontconfig-2.15.0-lib\n",
            "  /nix/store/c9n99v77q5wrk7dxr4xi16bn1l4cglly-freetype-2.13.2\n",
            "  /nix/store/a6yfhfzpmvz8v73796djqk811p4b6wan-freetype-2.13.2-dev\n",
            "  /nix/store/dkg8ygd2z3b3n5fki62z8yii2bh8gv4x-fribidi-1.0.13\n",
            "  /nix/store/8vvkbgmnin1x2jkp7wcb2zg1p0vc4ks9-gawk-5.2.2\n",
            "  /nix/store/14c6s4xzhy14i2b05s00rjns2j93gzz4-gcc-13.2.0\n",
            "  /nix/store/xvzz97yk73hw03v5dhhz3j47ggwf1yq1-gcc-13.2.0-lib\n",
            "  /nix/store/0rxb3ixzk4zaqivc9s795m0a3679wbw2-gcc-13.2.0-libgcc\n",
            "  /nix/store/9bv7dcvmfcjnmg5mnqwqlq2wxfn8d7yi-gcc-wrapper-13.2.0\n",
            "  /nix/store/ncqv9zy0avac3698klhzqk6v68jk1ldp-gdbm-1.23\n",
            "  /nix/store/k2fmr13zj9rhkr29axhkaizjqn1llxaz-gdk-pixbuf-2.42.11\n",
            "  /nix/store/5ln5j8ix4fxzvs4f21pkkp3ky56wk7rh-getent-glibc-2.39-52\n",
            "  /nix/store/z14w63wj0gk97hr06l76d4s723ynhr2k-gettext-0.21.1\n",
            "  /nix/store/x012fzpyg0vxza2iiajdfp0437b11bli-gfortran-13.2.0-lib\n",
            "  /nix/store/plf9x9hx0j54raaf6dl9qdv93sry9sfw-gfortran-13.2.0-libgcc\n",
            "  /nix/store/ym0zzc1ixlgraf114nabkyr664r41537-ghdl-mcode-4.1.0\n",
            "  /nix/store/c2v6ycn0sjcpx9ww8x7j4ima6xnpssry-glib-2.80.2\n",
            "  /nix/store/3xmijza6nscnn52jry8fw2sw2nzsl9am-glib-2.80.2-bin\n",
            "  /nix/store/gdr1ghkakyjfdj8bc6n0virwllm4zpwz-glib-2.80.2-dev\n",
            "  /nix/store/k7zgvzp2r31zkg9xqgjim7mbknryv6bs-glibc-2.39-52\n",
            "  /nix/store/c2i631h8i5vcs1sqifwxfsazhwrg6wr5-glibc-2.39-52-bin\n",
            "  /nix/store/fwh4fxd747m0py3ib3s5abamia9nrf90-glibc-2.39-52-dev\n",
            "  /nix/store/ggsvk22xykxpsqznqipvr6lfl31qzslg-glibc-2.39-52-getent\n",
            "  /nix/store/r717wgkg911wp6spacgbg3w2dyzybvk7-glibc-iconv-2.39\n",
            "  /nix/store/hmy0ml9nw48c6znk3vn692m1pvk31k54-glibc-locales-2.39-52\n",
            "  /nix/store/38qlr97b3c7dg92sjn7xx8ccb5klz3bj-glpk-5.0\n",
            "  /nix/store/ls108c83hxrwzj922hhxf88rq53z10vq-gmp-6.3.0\n",
            "  /nix/store/7ivacs3m2fm19hyxdmrs05xisj82v6y5-gmp-with-cxx-6.3.0\n",
            "  /nix/store/rx6nkd40819acppajq29g1hxa4d9r35f-gmp-with-cxx-6.3.0\n",
            "  /nix/store/gpc329ris11zp7k3ss7m4imdmhvd0673-gnat-12.3.0\n",
            "  /nix/store/mckrz4w3hn8ixnnzjy5gzyrz4ycpp7js-gnat-12.3.0-lib\n",
            "  /nix/store/ac8gi5ddjqs2vh6dhn1qpmfkqwxx4xf4-gnat-12.3.0-libgcc\n",
            "  /nix/store/nm8affp2bycrhli4n1d7iribbn16cbax-gnat-bootstrap-12.1.0-2\n",
            "  /nix/store/4i0j14zymvlngyyhq2254f4g9m9my98y-gnu-config-2024-01-01\n",
            "  /nix/store/28gpmx3z6ss3znd7fhmrzmvk3x5lnfbk-gnugrep-3.11\n",
            "  /nix/store/cdzpn0rdq810aknww3w9fy3wmw9ixr66-gnumake-4.4.1\n",
            "  /nix/store/0vjmplyvp26dc08j6bfff8y4ajmwmnlc-gnupg-2.4.5\n",
            "  /nix/store/5zjms21vpxlkbc0qyl5pmj2sidfmzmd7-gnused-4.9\n",
            "  /nix/store/rik7p68cq7yzlj5pmfpf4yv6jnrpvlgf-gnutar-1.35\n",
            "  /nix/store/wf7w1vbis4fphasyn4z3vad6336rxc64-gnutls-3.8.5\n",
            "  /nix/store/l52rz944j7ndzz4ss78wbcszwp4rzfsk-gobject-introspection-1.80.1\n",
            "  /nix/store/ly4g5lbsb06amm5ig7p20hfb9p5amp0r-gperftools-2.15\n",
            "  /nix/store/qry8n35h3217nw6jw0gf42skn6my9428-graphene-1.10.8\n",
            "  /nix/store/11ms8j8iwn7d94x8q5syrss8hxh0w212-graphite2-1.3.14\n",
            "  /nix/store/1s817f9iyszdjkivddb9kjj8xd2kgmbs-gsettings-desktop-schemas-46.0\n",
            "  /nix/store/fjqvwg4hxszzna6znkran8zqcj3h6a6a-gst-plugins-base-1.24.2\n",
            "  /nix/store/n90qk04jw71dk42g7c1ifwdswmbpm3ml-gstreamer-1.24.2\n",
            "  /nix/store/g1xqvy5p9xgl33iywjy8192xpsfw33b1-gtest-1.14.0\n",
            "  /nix/store/6pzxmb82pda01y6zxncdmmp7lhafb75h-gtk+3-3.24.41\n",
            "  /nix/store/j5chw7v1x3vlmf3wmdpdb5gwh9hl0b80-gzip-1.13\n",
            "  /nix/store/d8sw2gwfjkhigipm6jiqsgknxpjzdzrz-harfbuzz-8.4.0\n",
            "  /nix/store/scd82w4wrp0955kngpa4xllqp5ly2ycy-http-parser-2.9.4\n",
            "  /nix/store/79fnxa6j0ylcx8xjmgxhjlskbmz4wnxq-hwdata-0.382\n",
            "  /nix/store/lvq4hib247ayxib31hp7gryx444m1l3a-icu4c-73.2\n",
            "  /nix/store/isqrn21fmha9dxf1bbl4mm7j6irpw1x8-iptables-1.8.10\n",
            "  /nix/store/gym191qh9gdm4591nkkz26ibsmi2qfxd-isl-0.20\n",
            "  /nix/store/x8l5i68xcy2iyr0gwy71s1f0mh8s5c33-isl-0.20\n",
            "  /nix/store/an1hq4ipmp32gffqakx7ps774yb228gl-iso-codes-4.16.0\n",
            "  /nix/store/vh3lcg8gq2c3pxbqkqmrk3fmf3papk52-iverilog-12.0\n",
            "  /nix/store/wj863gr3vmxmm2ln6n52nkqmrwx75jg3-json-c-0.17\n",
            "  /nix/store/kh5v9i6xxiqph9sb2850q4p1l8iznp7d-json-glib-1.8.0\n",
            "  /nix/store/c834fr2k0c3g8a3s97qilfc5q8z0mxxz-kbd-2.6.4\n",
            "  /nix/store/cibpmwf213v9adwh09pg2kk92xzgp39l-kexec-tools-2.0.28\n",
            "  /nix/store/0vcrqaqf5sk158xy77mcl52374c1dlbi-keyutils-1.6.3-lib\n",
            "  /nix/store/jzpyz5b68vhp1l6wq64kgg6c8swgs920-klayout\n",
            "  /nix/store/9amlz11vfaczjwjqbmsyql7kvd2bns9w-kmod-31\n",
            "  /nix/store/r2q8hr14sxaijryjc2xw5gqvfyhcfhpq-kmod-31-lib\n",
            "  /nix/store/l738rl0x75xhna5qy2g2nww6i8nwzacf-lame-3.100-lib\n",
            "  /nix/store/0f6mid0waihb60md004x7sc9ix36p2qs-lerc-4.0.0\n",
            "  /nix/store/dxp9ffxm50hj300xvzwhsllwgjwxvwpp-libGL-1.7.0\n",
            "  /nix/store/alryr2fk5z2n19s72q1yf0r71ych8jml-libICE-1.1.1\n",
            "  /nix/store/h8j225cl14p2yz55xa76rasfins4540w-libSM-1.2.4\n",
            "  /nix/store/x9fw7rbdb34gq0f8q750kw344lbv9nk1-libX11-1.8.9\n",
            "  /nix/store/0gxrwp9xnzb5li8i7w3q7qmm0lm808qq-libX11-1.8.9-dev\n",
            "  /nix/store/8n7i76nx0k6b0zz752lvd3rv8gym39da-libXau-1.0.11\n",
            "  /nix/store/l04bgrdvkbxq81v7yq53nkmr7f1aiav7-libXau-1.0.11-dev\n",
            "  /nix/store/y16mr4fhn8a8snp5177a6aznq42ci22c-libXcomposite-0.4.6\n",
            "  /nix/store/53vv8bkh0nvrfifac45dvhhcs3ybywjb-libXcursor-1.2.2\n",
            "  /nix/store/2y8irckx5v4fav7r7p9ghaz7rbwdmfb2-libXdamage-1.1.6\n",
            "  /nix/store/m7v406dmjc4pzd0qgbhw58d5gswcv412-libXdmcp-1.1.5\n",
            "  /nix/store/gbjygp4wz7b5rgayckmqfc00hy34dqfn-libXext-1.3.6\n",
            "  /nix/store/h967azc5nfhmxjvncbim3d0mxxb8g0ky-libXext-1.3.6-dev\n",
            "  /nix/store/1jjjvxa4v0qqjhlc9ig3j6ljdlskm2kr-libXfixes-6.0.1\n",
            "  /nix/store/0kf3d2yigxk6xbbnc09x42c5as8xgjv8-libXft-2.3.8\n",
            "  /nix/store/fgvf7jj541gw38ykdsmgvgha1p074p05-libXft-2.3.8-dev\n",
            "  /nix/store/8dznd000dbv8kjvq93zwj7b5xf5chf6z-libXi-1.8.1\n",
            "  /nix/store/g1k5ak1wb3xpsbjarjkmql8zbd1nmym4-libXinerama-1.1.5\n",
            "  /nix/store/2rq584mkybbbvm1ciyams5s2lh8cdq32-libXrandr-1.5.4\n",
            "  /nix/store/37bzg32wlrlknwbrsvjr4cxwmjh8dbzl-libXrender-0.9.11\n",
            "  /nix/store/gf6p8dn78x0kscxjjm20zsvgm4rb08pm-libXrender-0.9.11-dev\n",
            "  /nix/store/0ig3lz1130srhy0g92ss16pwswnzkdjp-libXtst-1.2.4\n",
            "  /nix/store/6sswk92hhbrlfzqmc6pxl1iqngkwrf0v-libXv-1.0.12\n",
            "  /nix/store/y2ds7vvhg0fsy8gf55q4x1hxjw3xkjp6-libapparmor-3.1.7\n",
            "  /nix/store/kflbjsv5gk1vimv0z54damzsqxrrkbf5-libargon2-20190702\n",
            "  /nix/store/vwzyblmr6md6jimsb4lfhig0qmr9j991-libassuan-2.5.7\n",
            "  /nix/store/m8dz4ij709536xzxn8prgg2a3jc0s3j6-libbpf-1.4.2\n",
            "  /nix/store/p222av5bbv60iq8pya7bh7rx0rx9gaxx-libbsd-0.11.8\n",
            "  /nix/store/hrv0rl13qlmqic54mhzv98wllqvj6zkk-libbsd-0.11.8-dev\n",
            "  /nix/store/yvhyhcfhc98wm86pw4ygk5jdr804iwrw-libcap-2.69-lib\n",
            "  /nix/store/jjzrf6hcd65vf9kpqbri6dlmsv7yj199-libcbor-0.11.0\n",
            "  /nix/store/va5vdkx7nfgfgf96kmy3v1z7yzl3khpf-libdaemon-0.14\n",
            "  /nix/store/0963cfpba5zmzm0nbxxbyvhr57zzf87q-libdatrie-2019-12-20-lib\n",
            "  /nix/store/cm58jpx9hqzpg0g1azm1pnif0fifk310-libdeflate-1.20\n",
            "  /nix/store/y31zz9k1v2gqlzrs7p50llx8db6m2gdr-libdrm-2.4.120\n",
            "  /nix/store/bmjckrv5ryxahvkldr47jyx7zmlrcan3-libedit-20230828-3.1\n",
            "  /nix/store/cfg48yxj3wa3mfdbhxa26mf72qjg6adm-libedit-20230828-3.1-dev\n",
            "  /nix/store/w50yhydmlak1ivrxdc88yyf4n09wrw6k-libepoxy-1.5.10\n",
            "  /nix/store/sfdhn27q9py7mm74lqbkry1n922mab88-libevdev-1.13.1\n",
            "  /nix/store/qr0d05pw8cpznhrq4kfyz64pcm6xppcq-libevent-2.1.12\n",
            "  /nix/store/kbg5m7fyi1w23fyfmxjhhzcbd577rpg0-libffi-3.4.6\n",
            "  /nix/store/1xcnwyx7pdmdq66xdz20fbl2q0arjzrl-libffi-3.4.6-dev\n",
            "  /nix/store/nkg8ikby80sv07z4qcag77w0h8zl24s0-libfido2-1.14.0\n",
            "  /nix/store/6c947fh1y2ln5cr8kpcl14b3hfnni0av-libgcrypt-1.10.3\n",
            "  /nix/store/a59krsrvrc575kmqv7rwcmgny3rz01j8-libgit2-1.7.2-lib\n",
            "  /nix/store/jz3vvf4nsyirb25rh9dbhksm4gq6wybb-libglvnd-1.7.0\n",
            "  /nix/store/193fnfad15rgch01xxg7vf81rmmfwp8w-libgpg-error-1.48\n",
            "  /nix/store/ixhnknjs96z164xf54rz5yg66nvp7vy0-libgudev-238\n",
            "  /nix/store/ic63ay0py10fyryaw7345k4ps32da33w-libidn2-2.3.7\n",
            "  /nix/store/279k8iw3mb4hdsqxsw22xdym4ayh03ss-libinput-1.25.0\n",
            "  /nix/store/pgj3xdvp8hj61wwkcw2k0wfbyr3ni64h-libjpeg-turbo-3.0.3\n",
            "  /nix/store/5pcy995yarjy7bfdswgkfggbzg48dlq0-libkrb5-1.21.2\n",
            "  /nix/store/2bvbxxq8vzq6lis903p8zmkngsxppmkv-libmd-1.1.0\n",
            "  /nix/store/n7nbsn0d6w5m60hqnr7af8gzshnynx5y-libmicrohttpd-0.9.77\n",
            "  /nix/store/br26gam6kclf8yydzbj1wna2assyx3dm-libmnl-1.0.5\n",
            "  /nix/store/a9akcdqf2521sa7mcdbxzq6xgg1iv0x2-libmpc-1.3.1\n",
            "  /nix/store/cya37dqm7s6jg5alb77n8y3c421k0xbi-libmpc-1.3.1\n",
            "  /nix/store/ds2h2v0frms447yhg9cgyk78mrp5240a-libmpg123-1.32.6\n",
            "  /nix/store/zli13vajyx4a3vjnja0pd0irhdk7a34k-libnetfilter_conntrack-1.0.9\n",
            "  /nix/store/x49fq9q91icvhs7drn92isz3lir2ybxs-libnfnetlink-1.0.2\n",
            "  /nix/store/brm3iyn8hzixjh7rfhdqm6n2sy9kxnjd-libnftnl-1.2.6\n",
            "  /nix/store/whbs2x9f2nrxbzcrcla5a7pr5mvdqf98-libnl-3.8.0\n",
            "  /nix/store/lfpszg9pqbl4g5gwif16kq5sshv1qcd2-libogg-1.3.5\n",
            "  /nix/store/mxg79hhk4dgv0lnifhj6k9jgk7xrkcsd-libopus-1.5.2\n",
            "  /nix/store/x4z4n4270bqh5549b78xb5yzik9c77xi-libossp-uuid-1.6.2\n",
            "  /nix/store/dc36aapzjrqiyh4zzsh6ilwidcfs5xga-libpcap-1.10.4\n",
            "  /nix/store/vz0rlaa0i7r61ivhvpyjcrbianai35yp-libpciaccess-0.18.1\n",
            "  /nix/store/55kivg8damd3y2c5k7286nvckw8pb2xf-libpng-apng-1.6.43\n",
            "  /nix/store/1rdmf4lap3f82pqdlmrgj1vjs08dk5xw-libpng-apng-1.6.43-dev\n",
            "  /nix/store/2vqgx0si98m8c3yd2fhspmikavf3nvmd-libpsl-0.21.5\n",
            "  /nix/store/ha8i7q6xf4794idzrzh35vsycb5lmjzn-libpulseaudio-17.0\n",
            "  /nix/store/86gmcmapjs9kdkpxvxcimq0aq8ha921q-libpwquality-1.4.5-lib\n",
            "  /nix/store/83jfjv2b6cc33jv7q1lvvd846crkd0wh-libseccomp-2.5.5-lib\n",
            "  /nix/store/5frkz5kp1p3i6wfgcjgbba38pypg4app-libselinux-3.6\n",
            "  /nix/store/rv8x9609d5nh5z8v7v9gmhy6z1wnrhkk-libsndfile-1.2.2\n",
            "  /nix/store/1mldrzcgkfpzs56371gj7zpk9zx95bxk-libsoup-2.74.3\n",
            "  /nix/store/npb9hyshsbnfwx89jfa1ykrb18ncmw7s-libsoup-3.4.4\n",
            "  /nix/store/vrqy1mn0nw6g6y0w22gipbspknnwr9q5-libssh2-1.11.0\n",
            "  /nix/store/d857vkjzr4rf68ycyfkcpdiax6v4d3c0-libtasn1-4.19.0\n",
            "  /nix/store/j0hrn5b7vjg178q1ykg9izmaccq2fayv-libthai-0.1.29\n",
            "  /nix/store/zbdrwxipqgn9xaz8apbf9frgk6n8mpjm-libtheora-1.1.1\n",
            "  /nix/store/ic5bx78h039m3lfxxb6bl64qlbdxzzj9-libtiff-4.6.0\n",
            "  /nix/store/gsxhddisz2211yzih47vskgabv0ry51x-libtool-2.4.7-lib\n",
            "  /nix/store/yfp7dr8m7zi7kxk49wd714gwvhb105hf-libunistring-1.1\n",
            "  /nix/store/r2jjxkphbxfyrawn8qvyc6r2wrkyvjwn-libunwind-1.8.1\n",
            "  /nix/store/dqgcwada9y3hd6kynlawvp5jrzmc0bfi-libvisual-0.4.1\n",
            "  /nix/store/d1g6mz24zwx4pcl1wfwja6lgbf8x0m8d-libvorbis-1.3.7\n",
            "  /nix/store/9ijlindhb6bsjkakc3rq2hcpackg2l21-libwacom-2.11.0\n",
            "  /nix/store/18kar5zwp16xyppfmigq92xzm1pkcqf1-libxcb-1.17.0\n",
            "  /nix/store/y28z5yg4v9f8vi6mq97qhr8pqmf1aijx-libxcb-1.17.0-dev\n",
            "  /nix/store/5xynf9c9ml7d97q70kpq9rpqqmx13xl8-libxcrypt-4.4.36\n",
            "  /nix/store/1mv469gq5n0l32cb2lam7mkfl9s22dlg-libxkbcommon-1.7.0\n",
            "  /nix/store/kf7fzax0av9him9m4zcmbqmihh5108wq-libxml2-2.12.7\n",
            "  /nix/store/88k4pdqc47zv1jdzk3khibpcwl9a3y0b-libyaml-0.2.5\n",
            "  /nix/store/jav2nqciqzp9p3h3qxwm3yqph0qrz6nd-lingeling-pre1_708beb26-lib\n",
            "  /nix/store/xz8mzas29lck99m79q211n0v5h1cmd40-linux-headers-6.7\n",
            "  /nix/store/b6bgs55kyriqndagqzck1v7w8ip9dzzn-linux-pam-1.6.1\n",
            "  /nix/store/ax9wbqknwawnl21kvkp8l6jn2r6q0l90-llvm-17.0.6-lib\n",
            "  /nix/store/bylm45pik44qjqq436xc7nf8610fvn0d-lndir-1.0.5\n",
            "  /nix/store/4ccjj4v7vc782xc3ljjq2zfqj3d3l276-lvm2-2.03.23-lib\n",
            "  /nix/store/9wkzjgwdzivacwi50s6xvg6wxd1rc0s4-lz4-1.9.4\n",
            "  /nix/store/kh8imbr9x09a76n3bww3s674l5jxvvxp-magic-vlsi\n",
            "  /nix/store/zk9ybjjixdwyv3jmpg2i7s8p7iqi5vhh-mailcap-2.1.53\n",
            "  /nix/store/j4v3byv2scsa3fz577y883aibmrl4b2v-mariadb-connector-c-3.3.5\n",
            "  /nix/store/126hf3b2wc503jvcs85r80mxy1a0pz9a-minisat-2.2.1\n",
            "  /nix/store/bsv4wkwiqgns5w83hayd8n9msclr7qgb-mpdecimal-4.0.0\n",
            "  /nix/store/fyr5dbvc94fh9rabx010m7aqv7sd5an1-mpfr-4.2.1\n",
            "  /nix/store/hhr2s52vw5wdhlwcc60imbc85pi31121-mpfr-4.2.1\n",
            "  /nix/store/n20d5kgnlilhf9hbm336481i2pc0nib5-mtdev-1.1.7\n",
            "  /nix/store/j4m3lwhh4x0bzilvi77d512ahry775nq-ncurses-6.4\n",
            "  /nix/store/1c9jq1csrx42g5vqynlfl0x63k2nx1x9-ncurses-6.4-dev\n",
            "  /nix/store/af9bsxhqip4jpf6qb3g99vxb23f3abik-ncurses-6.4-man\n",
            "  /nix/store/zcjy82jk8i8y1cvvzaadj5wiz41gvp53-ncurses-abi5-compat-6.4\n",
            "  /nix/store/d55q9bly3qrnbkif0sc6nmmvba3law57-netgen\n",
            "  /nix/store/cfgpxq64il1sfsjqbblghds82jf2a185-nettle-3.9.1\n",
            "  /nix/store/kw1nc4sg6hp550z8g8pdjb3d3ixz4m3l-nghttp2-1.61.0-lib\n",
            "  /nix/store/59q5nl573y3znmwqqaw91m0crrss2vgd-npth-1.7\n",
            "  /nix/store/kmp5kw2zjbgmhq58xdgipqaxb3yj1zw8-openblas-0.3.27\n",
            "  /nix/store/6ia2skn5r0sryd3pn5398d0zm8xsyk69-openmp-17.0.6\n",
            "  /nix/store/zzypcxbrgw1qink1l7fwgwpbk7fvdwpg-openroad\n",
            "  /nix/store/784j83ynrvz85rsqnlz32fzvby4wabaz-openroad-python3-3.11.9-env\n",
            "  /nix/store/gp504m4dvw5k2pdx6pccf1km79fkcwgf-openssl-3.0.13\n",
            "  /nix/store/qannz09m66qpcy3ny1f4nkl4ql0g71ks-openssl-3.0.13-bin\n",
            "  /nix/store/191vca5vdxdlr32k2hpzd66mic98930f-openssl-3.0.13-dev\n",
            "  /nix/store/q5ycjmn0d9awbcq05c75z2rmgwjgbc9g-opensta\n",
            "  /nix/store/vvmhlk6ffa4m6sqz8rijbij29c4iw3a7-or-tools-9.4\n",
            "  /nix/store/5rplqz6dwgfhrfazyr4bv45j14iddzlb-orc-0.4.38\n",
            "  /nix/store/0w6sqswywna5x4smm5sxin57a55q00ww-osi-0.108.10\n",
            "  /nix/store/771mz0x86qzhlphd22awf3s601mhwpkv-p11-kit-0.25.3\n",
            "  /nix/store/7ammyzfh4i39dqxj3v0rxs21crrxp4nb-pango-1.52.2\n",
            "  /nix/store/0lfxbmchigx9vs9qmrlbahcy6nxwfnj1-patch-2.7.6\n",
            "  /nix/store/nbad47q0m0m9c5xid7zh05hiknwircbp-patchelf-0.15.0\n",
            "  /nix/store/a9srfwlyidwnlddlp3jcryh0kj9za0gz-pcre-8.45\n",
            "  /nix/store/g3vi60zgyjsvij7xkk6dxky1hkwh0ynd-pcre2-10.43\n",
            "  /nix/store/y418s044ij61yx03rpnc0hja07snbp2h-pcsclite-2.1.0-lib\n",
            "  /nix/store/1iscdpbd3x9x3s3s25jd5ppl7yra0b77-perl-5.38.2\n",
            "  /nix/store/66x1iwsvnx6lxprakk7wk3r2kz4gxmrv-picosat-965\n",
            "  /nix/store/cy880gzg1h6awfrq7024543vicphg908-pixman-0.43.4\n",
            "  /nix/store/xb4h083j02mr2ix7pgj7iawxh2hk100l-postgresql-15.7-lib\n",
            "  /nix/store/d4s1r8cb969mi7b68lw8095s1y7qga16-protobuf-21.12\n",
            "  /nix/store/bqznkfzv8dy1c4ngp6nnhrcxsprdsbh0-publicsuffix-list-0-unstable-2024-01-07\n",
            "  /nix/store/7hnr99nxrd2aw6lghybqdmkckq60j6l9-python3-3.11.9\n",
            "  /nix/store/bi3ki0z1bdwf0apbjl108z1al1i3cr34-python3-3.11.9-env\n",
            "  /nix/store/cvvch3mi6xyiazvyxiv8cyqapydrm4zb-python3-3.11.9-env\n",
            "  /nix/store/wdgnb83nybfn9k74ik4qdh7j6p5y59m9-python3-3.11.9-env\n",
            "  /nix/store/4flhri1nwh8n0d8a4bx2yjnyigpz00bg-python3.11-click-8.1.7\n",
            "  /nix/store/klj6938h32ra3mlwkavcr285d2387h38-python3.11-markdown-it-py-3.0.0\n",
            "  /nix/store/kalmrzx2fllfk713lm0m1yb1p5rqw1ly-python3.11-mdurl-0.1.2\n",
            "  /nix/store/ylvsb39l0wq5q6xdphrq35an6dxqhjw9-python3.11-numpy-1.26.4\n",
            "  /nix/store/lwjnn5iyh8jzzhbvlqw31498mhhkmhcx-python3.11-packaging-24.0\n",
            "  /nix/store/60calfq476h3lcrvgy5ihkr46a6v21pn-python3.11-protobuf-4.21.12\n",
            "  /nix/store/cid5kxmrjdgikliwbhry3wq6j0117595-python3.11-pygments-2.17.2\n",
            "  /nix/store/v05ziwqwbfnrgdd7bgqaygj4wj2asfgs-python3.11-pyyaml-6.0.1\n",
            "  /nix/store/gkfkq6d57dran0fkgz81738zc8wc3w13-python3.11-rich-13.7.1\n",
            "  /nix/store/g4h9138sa5wh6kkfwc7f49q169wcs8s9-python3.11-setuptools-69.5.1\n",
            "  /nix/store/yjys7hkz89mais5f7j012zbz213qd27z-python3.11-wheel-0.43.0\n",
            "  /nix/store/g1iia7k8ahhmg8590cy5dm13gdg7mrz4-qrencode-4.1.1\n",
            "  /nix/store/qpk85xnnx7w7fc8zkiq6mav3n4jiiffr-qtbase-5.15.12\n",
            "  /nix/store/nz0w9rx1bmhaa3a888ryvbcripj7ydr4-qtbase-5.15.12-bin\n",
            "  /nix/store/xzi28s2b4117fn05y3f9d7xlq4dkqq99-qtcharts-5.15.12\n",
            "  /nix/store/s5md4rhqvdimz0rljncsm78khvfvx42q-qtcharts-5.15.12-bin\n",
            "  /nix/store/4i8k74x7dy9l54g9l9jw712rlkbpsk02-qtdeclarative-5.15.12\n",
            "  /nix/store/i518pv0gp22rp7kh6m7fxqx9v8g76h84-qtdeclarative-5.15.12-bin\n",
            "  /nix/store/f5xfhkss8f3rrmb0k3mbmpdpdads8qw2-qtmultimedia-5.15.12\n",
            "  /nix/store/7wg9ck2rbn1anzx3j9ghwjjar7k2mnkm-qtmultimedia-5.15.12-bin\n",
            "  /nix/store/20nrlmvmflghnqs5xbna8mn1fb345cf2-qtquickcontrols-5.15.12\n",
            "  /nix/store/vn30pj6dmv6igq5ldrnyshs7v219m6hg-qtsvg-5.15.12\n",
            "  /nix/store/2bvcvq2if4fw4wyqkn3f422mdrwa9h04-qtsvg-5.15.12-bin\n",
            "  /nix/store/wyn8ivahb900pl2d6bh5xscjn7nimjn2-qttools-5.15.12\n",
            "  /nix/store/dxh1wyxbkg6fbrfmcq8xknrqfac2fjv8-qttools-5.15.12-bin\n",
            "  /nix/store/zv1c6999rh3b2g9km1gvxy8j6xfiz5s3-qttranslations-5.15.12\n",
            "  /nix/store/7spw2ns49wsc2x3zdg783rsi5979xghb-qtwayland-5.15.12\n",
            "  /nix/store/hjg4qxxm6iirrvz434s8fbr3jyr5qa8p-qtwayland-5.15.12-bin\n",
            "  /nix/store/qqva51zs01b6xgd5jy3k5hy8s8xwjh3f-qtxmlpatterns-5.15.12\n",
            "  /nix/store/xajw0924xf27g0kla8cr80xl9lp06n49-re2-2024-05-01\n",
            "  /nix/store/4n8fsrg6kslmnq5g2xsrs6vmpqfbyz2m-readline-8.2p10\n",
            "  /nix/store/c4bdx4dja3h06xg1ksv3f51alp5a44li-ruby-3.1.5\n",
            "  /nix/store/wws29jxqkf3zwg2i97jdgfcwk8mdxld0-soxr-0.1.3\n",
            "  /nix/store/yh58ccnnkfmhiz2sd0vvrr0yvv67vjyy-spdlog-1.13.0\n",
            "  /nix/store/q1fsrgy54qq6shp6hrrjxgvn06mphs32-speexdsp-1.2.1\n",
            "  /nix/store/y5p181lnbh8rrwd3ljp83k0cn3xklyk2-sqlite-3.45.3\n",
            "  /nix/store/rg6agzlb4gcl4w2126m16qm4mgr8jgi6-stdenv-linux\n",
            "  /nix/store/zlr7s45h2mc11kf7vvzdgqipk930kxsh-surelog\n",
            "  /nix/store/xjiifrz7ha6s29gp0p0j3w0155phxmia-systemd-255.6\n",
            "  /nix/store/bp74x3bkh8979gxz72wc9hq3jb0hdaq7-systemd-minimal-255.6\n",
            "  /nix/store/7j8mbhf7c3sigq7lwl5vc5h7lhx34m6d-systemd-minimal-libs-255.6\n",
            "  /nix/store/p16s3zg96afj68mfp17m03svhwmdgcz8-tcl-8.6.13\n",
            "  /nix/store/4hfh7f74sndd10ck47xifsxpr5n5j67y-tclFull\n",
            "  /nix/store/aj87c04nai6f7pk9lyyic1h2zz9j59ci-tcllib-1.21\n",
            "  /nix/store/plp73726f09hrpk11ay58pgda6fq69gb-tcllib-1.21\n",
            "  /nix/store/gkc9xrp06hxgjfp7xbfmfwayidvhfylw-tclreadline-2.3.8\n",
            "  /nix/store/gkhv5ld2mr8hr1q44cf9wj3mfsa9gzh9-tclx-8.6.3\n",
            "  /nix/store/c94l89pbgm24xbflf5ccxbv2aqvfaxag-tk-8.6.13\n",
            "  /nix/store/lmci3q5pnjkas9d2x81kd05jgmiffkn3-tk-8.6.13\n",
            "  /nix/store/dvpfisjf3fx338dl46ismrg09kc9wmd4-tk-8.6.13-dev\n",
            "  /nix/store/hw6nhpg3n3wwbvlraw40y3af5dkwl1l1-tpm2-tss-4.1.1\n",
            "  /nix/store/np28inlwlqafqk2n6s7ylzf59bh3aa8c-tracker-3.7.3\n",
            "  /nix/store/w1f1kw8bvg9i12358z5i2ssffl86mi01-tremor-unstable-2018-03-16\n",
            "  /nix/store/y6hmqbmbwq0rmx1fzix5c5jszla2pzmp-tzdata-2024a\n",
            "  /nix/store/6ff9abnxvgpii09zrjbrv5vcjgbhqk61-unbound-1.20.0-lib\n",
            "  /nix/store/bq6xbl9cq6hkcn65mz2fzc2k38xiv87h-update-autotools-gnu-config-scripts-hook\n",
            "  /nix/store/05n35k0p8l969kfskxqhbqhy8il3a3cq-util-linux-minimal-2.40.1-lib\n",
            "  /nix/store/ygmngxklhr4iw8myam49ld30mfansylv-util-linux-minimal-2.40.1-login\n",
            "  /nix/store/s3i30zgs08s2a5azm8jzimyvl4yhpw1n-util-linux-minimal-2.40.1-mount\n",
            "  /nix/store/s0vz12hrphzlc45sj1fp6cc45c75kr8x-util-linux-minimal-2.40.1-swap\n",
            "  /nix/store/mky7gdsf8m3da333lxz2mjf2n3n1v1xy-verilator\n",
            "  /nix/store/7rnc20sb0h5zxqm5vims6mvi6gr3iy27-wayland-1.22.0\n",
            "  /nix/store/db6pm9dj75nb9dvv6ax5b39pvzlnwxxj-xcb-util-0.4.1\n",
            "  /nix/store/knay1zabn079xa2zwzgign79whkxmwc7-xcb-util-image-0.4.1\n",
            "  /nix/store/kpkh2i4sqrkycf2b63ajsg9091mph4s0-xcb-util-keysyms-0.4.1\n",
            "  /nix/store/1m2f289ihjfnbfzc8cdbp9k21sv4yq3h-xcb-util-renderutil-0.3.10\n",
            "  /nix/store/zmclxbw02c9xwcm8ss1c4m2b2vkif9rz-xcb-util-wm-0.4.2\n",
            "  /nix/store/1q9vc0lq7qjlfjz47mfmlzdf86c543jy-xgcc-13.2.0-libgcc\n",
            "  /nix/store/4d6p2fvack9fzcfp78xw9g45wz6m0pri-xkeyboard-config-2.41\n",
            "  /nix/store/ny34a9migrcin09zwgbkr0ymx72mvlfg-xorgproto-2024.1\n",
            "  /nix/store/lphbn1va4i43fj7f3m9xskf9y86khzf3-xz-5.4.6\n",
            "  /nix/store/6i4xxaa812vsbli9jkq4mksdddrk27lw-xz-5.4.6-bin\n",
            "  /nix/store/9r0bh7sp051dpm8km8bqlb028anpd3v3-yosys\n",
            "  /nix/store/6l3aj1gi4lja8z5s4lan2k2cfz9mqkrz-yosys-abc\n",
            "  /nix/store/gna3lkpzc7wjcmqfwqv7lcv4syjl86rl-yosys-eqy\n",
            "  /nix/store/17rj91ys7rmdjjalvj450y1xlhhilllk-yosys-f4pga-sdc\n",
            "  /nix/store/r3xmhhl5bwa4hqs8kn038x5d4nyrmpcm-yosys-ghdl\n",
            "  /nix/store/klshy15prwsp55yzy963rs0fqbwz9pz6-yosys-lighter\n",
            "  /nix/store/gbkfy60wfrhq229pchp6n7321pdk7zsj-yosys-sby\n",
            "  /nix/store/7vsbsrhbj6kx5lfdc8qs9wlccxfb8f7h-yosys-synlig-sv\n",
            "  /nix/store/y4lsl792fjahppq4xk68s5ckh7mwks70-yosys-with-plugins\n",
            "  /nix/store/zdhr86kv5rxlp0s58rzxk1aki1igankx-yosys-with-plugins-python3-3.11.9-env\n",
            "  /nix/store/lv6nackqis28gg7l2ic43f6nk52hb39g-zlib-1.3.1\n",
            "  /nix/store/qj9byzfvh7dd61kk0aglj7cwqj1xqg6l-zlib-1.3.1-dev\n",
            "  /nix/store/by853zqacqy647v0z7l70xm77xl9ifal-zstd-1.5.6\n",
            "  /nix/store/hxhdhc0zddbhmqvv99nldq2gfmy9983x-zstd-1.5.6-bin\n",
            "copying path '/nix/store/0rxb3ixzk4zaqivc9s795m0a3679wbw2-gcc-13.2.0-libgcc' from 'https://nix-cache.fossi-foundation.org'...\n",
            "copying path '/nix/store/hmy0ml9nw48c6znk3vn692m1pvk31k54-glibc-locales-2.39-52' from 'https://cache.nixos.org'...\n",
            "copying path '/nix/store/ny34a9migrcin09zwgbkr0ymx72mvlfg-xorgproto-2024.1' from 'https://cache.nixos.org'...\n",
            "copying path '/nix/store/v9mbmh6gfg69akbdbw68q2kq5l16ncxp-dejavu-fonts-minimal-2.37' from 'https://cache.nixos.org'...\n",
            "copying path '/nix/store/4i0j14zymvlngyyhq2254f4g9m9my98y-gnu-config-2024-01-01' from 'https://cache.nixos.org'...\n",
            "copying path '/nix/store/xz8mzas29lck99m79q211n0v5h1cmd40-linux-headers-6.7' from 'https://cache.nixos.org'...\n",
            "copying path '/nix/store/zk9ybjjixdwyv3jmpg2i7s8p7iqi5vhh-mailcap-2.1.53' from 'https://nix-cache.fossi-foundation.org'...\n",
            "copying path '/nix/store/zv1c6999rh3b2g9km1gvxy8j6xfiz5s3-qttranslations-5.15.12' from 'https://cache.nixos.org'...\n",
            "copying path '/nix/store/y6hmqbmbwq0rmx1fzix5c5jszla2pzmp-tzdata-2024a' from 'https://nix-cache.fossi-foundation.org'...\n",
            "copying path '/nix/store/1q9vc0lq7qjlfjz47mfmlzdf86c543jy-xgcc-13.2.0-libgcc' from 'https://nix-cache.fossi-foundation.org'...\n",
            "copying path '/nix/store/k3rllmlx64awzszan2d17kyl9mb8p3pr-alsa-topology-conf-1.2.5.1' from 'https://cache.nixos.org'...\n",
            "copying path '/nix/store/xdb66yb8cqghrrc8j8rgpr31mhdmyp0m-alsa-ucm-conf-1.2.11' from 'https://cache.nixos.org'...\n",
            "copying path '/nix/store/1s817f9iyszdjkivddb9kjj8xd2kgmbs-gsettings-desktop-schemas-46.0' from 'https://cache.nixos.org'...\n",
            "copying path '/nix/store/an1hq4ipmp32gffqakx7ps774yb228gl-iso-codes-4.16.0' from 'https://cache.nixos.org'...\n",
            "copying path '/nix/store/yfp7dr8m7zi7kxk49wd714gwvhb105hf-libunistring-1.1' from 'https://nix-cache.fossi-foundation.org'...\n",
            "copying path '/nix/store/4d6p2fvack9fzcfp78xw9g45wz6m0pri-xkeyboard-config-2.41' from 'https://cache.nixos.org'...\n",
            "copying path '/nix/store/04930y985jdp218g58zp0libac2vkrah-cadical-1.9.5-lib' from 'https://cache.nixos.org'...\n",
            "copying path '/nix/store/v0d8k5by479gzc9yfdnvw63m0jzcppjk-dns-root-data-2023-11-27' from 'https://cache.nixos.org'...\n",
            "copying path '/nix/store/plf9x9hx0j54raaf6dl9qdv93sry9sfw-gfortran-13.2.0-libgcc' from 'https://cache.nixos.org'...\n",
            "copying path '/nix/store/ac8gi5ddjqs2vh6dhn1qpmfkqwxx4xf4-gnat-12.3.0-libgcc' from 'https://cache.nixos.org'...\n",
            "copying path '/nix/store/79fnxa6j0ylcx8xjmgxhjlskbmz4wnxq-hwdata-0.382' from 'https://cache.nixos.org'...\n",
            "copying path '/nix/store/jav2nqciqzp9p3h3qxwm3yqph0qrz6nd-lingeling-pre1_708beb26-lib' from 'https://cache.nixos.org'...\n",
            "copying path '/nix/store/s2lqglzdkd1061h0mfvzls5qpdf4r5aw-fontconfig-2.15.0' from 'https://cache.nixos.org'...\n",
            "copying path '/nix/store/af9bsxhqip4jpf6qb3g99vxb23f3abik-ncurses-6.4-man' from 'https://cache.nixos.org'...\n",
            "copying path '/nix/store/bqznkfzv8dy1c4ngp6nnhrcxsprdsbh0-publicsuffix-list-0-unstable-2024-01-07' from 'https://cache.nixos.org'...\n",
            "copying path '/nix/store/bq6xbl9cq6hkcn65mz2fzc2k38xiv87h-update-autotools-gnu-config-scripts-hook' from 'https://cache.nixos.org'...\n",
            "copying path '/nix/store/ic63ay0py10fyryaw7345k4ps32da33w-libidn2-2.3.7' from 'https://nix-cache.fossi-foundation.org'...\n",
            "copying path '/nix/store/k7zgvzp2r31zkg9xqgjim7mbknryv6bs-glibc-2.39-52' from 'https://nix-cache.fossi-foundation.org'...\n",
            "copying path '/nix/store/hx8k94a5jddw4f5ipbk444v2rlp1dhsp-abseil-cpp-20220623.2' from 'https://cache.nixos.org'...\n",
            "copying path '/nix/store/5nk2ga7i2f030am4qpcdsd8qlk6i3z83-attr-2.5.2' from 'https://nix-cache.fossi-foundation.org'...\n",
            "copying path '/nix/store/0g7r7krqiz6g3nb3651sfa5myd9gqkzf-alsa-lib-1.2.11' from 'https://cache.nixos.org'...\n",
            "copying path '/nix/store/dkg8ygd2z3b3n5fki62z8yii2bh8gv4x-fribidi-1.0.13' from 'https://cache.nixos.org'...\n",
            "copying path '/nix/store/8vvkbgmnin1x2jkp7wcb2zg1p0vc4ks9-gawk-5.2.2' from 'https://cache.nixos.org'...\n",
            "copying path '/nix/store/306znyj77fv49kwnkpxmb0j2znqpa8bj-bash-5.2p26' from 'https://nix-cache.fossi-foundation.org'...\n",
            "copying path '/nix/store/jpjmh2325b6k3svvsmhj57wqlph9srdx-brotli-1.1.0-lib' from 'https://cache.nixos.org'...\n",
            "copying path '/nix/store/c700lzjplz0g1nhxksj1rj8n3gpmcv47-btor2tools-1.0.0-pre_9831f9909fb283752a3d6d60d43613173bd8af42-lib' from 'https://cache.nixos.org'...\n",
            "copying path '/nix/store/xwcf1rw3ackqp2vxms9myf9jq2ny6ynv-bzip2-1.0.8' from 'https://nix-cache.fossi-foundation.org'...\n",
            "copying path '/nix/store/3g4dm056wsjg3nhxsqgd4hkx4lha9jpb-cdparanoia-III-10.2' from 'https://cache.nixos.org'...\n",
            "copying path '/nix/store/1sffjkg6c6ff16fz5yr0pnz3j7vja42h-ed-1.20.2' from 'https://cache.nixos.org'...\n",
            "copying path '/nix/store/gnjp969f02l4fp2bj6vxibnb6c0qfqb5-expand-response-params' from 'https://cache.nixos.org'...\n",
            "copying path '/nix/store/pqajcwpmpr0jspa4z8xhxxnnfqfy5al4-expand-response-params' from 'https://cache.nixos.org'...\n",
            "copying path '/nix/store/0bm4z6dh3v6nnr539xzsak0pn4wccb5l-expat-2.6.2' from 'https://cache.nixos.org'...\n",
            "copying path '/nix/store/xvzz97yk73hw03v5dhhz3j47ggwf1yq1-gcc-13.2.0-lib' from 'https://nix-cache.fossi-foundation.org'...\n",
            "copying path '/nix/store/ncqv9zy0avac3698klhzqk6v68jk1ldp-gdbm-1.23' from 'https://cache.nixos.org'...\n",
            "copying path '/nix/store/x012fzpyg0vxza2iiajdfp0437b11bli-gfortran-13.2.0-lib' from 'https://cache.nixos.org'...\n",
            "copying path '/nix/store/mxcq77rlan82dzpv3cgj0fh6qvv8ncil-bzip2-1.0.8-bin' from 'https://nix-cache.fossi-foundation.org'...\n",
            "copying path '/nix/store/ggsvk22xykxpsqznqipvr6lfl31qzslg-glibc-2.39-52-getent' from 'https://cache.nixos.org'...\n",
            "copying path '/nix/store/c2i631h8i5vcs1sqifwxfsazhwrg6wr5-glibc-2.39-52-bin' from 'https://cache.nixos.org'...\n",
            "copying path '/nix/store/ls108c83hxrwzj922hhxf88rq53z10vq-gmp-6.3.0' from 'https://cache.nixos.org'...\n",
            "copying path '/nix/store/mjgi65m3hgzqqvqcix848gskkw5zzwi9-acl-2.3.2' from 'https://nix-cache.fossi-foundation.org'...\n",
            "copying path '/nix/store/5ln5j8ix4fxzvs4f21pkkp3ky56wk7rh-getent-glibc-2.39-52' from 'https://cache.nixos.org'...\n",
            "copying path '/nix/store/cdzpn0rdq810aknww3w9fy3wmw9ixr66-gnumake-4.4.1' from 'https://cache.nixos.org'...\n",
            "copying path '/nix/store/5zjms21vpxlkbc0qyl5pmj2sidfmzmd7-gnused-4.9' from 'https://cache.nixos.org'...\n",
            "copying path '/nix/store/5yqz7al0lv1jhkmbka3ghswqk5wlxvq5-bzip2-1.0.8-dev' from 'https://cache.nixos.org'...\n",
            "copying path '/nix/store/cz3qp4hxqxcwcyx04cajvjhy388dhw2q-audit-3.1.2' from 'https://cache.nixos.org'...\n",
            "copying path '/nix/store/j5chw7v1x3vlmf3wmdpdb5gwh9hl0b80-gzip-1.13' from 'https://nix-cache.fossi-foundation.org'...\n",
            "copying path '/nix/store/scd82w4wrp0955kngpa4xllqp5ly2ycy-http-parser-2.9.4' from 'https://cache.nixos.org'...\n",
            "copying path '/nix/store/rik7p68cq7yzlj5pmfpf4yv6jnrpvlgf-gnutar-1.35' from 'https://nix-cache.fossi-foundation.org'...\n",
            "copying path '/nix/store/wj863gr3vmxmm2ln6n52nkqmrwx75jg3-json-c-0.17' from 'https://cache.nixos.org'...\n",
            "copying path '/nix/store/0vcrqaqf5sk158xy77mcl52374c1dlbi-keyutils-1.6.3-lib' from 'https://cache.nixos.org'...\n",
            "copying path '/nix/store/l738rl0x75xhna5qy2g2nww6i8nwzacf-lame-3.100-lib' from 'https://cache.nixos.org'...\n",
            "copying path '/nix/store/0xj7i7pnp1xyk09qg8dgsvl60gz1psyl-brotli-1.1.0' from 'https://cache.nixos.org'...\n",
            "copying path '/nix/store/alryr2fk5z2n19s72q1yf0r71ych8jml-libICE-1.1.1' from 'https://cache.nixos.org'...\n",
            "copying path '/nix/store/8n7i76nx0k6b0zz752lvd3rv8gym39da-libXau-1.0.11' from 'https://cache.nixos.org'...\n",
            "copying path '/nix/store/x8l5i68xcy2iyr0gwy71s1f0mh8s5c33-isl-0.20' from 'https://cache.nixos.org'...\n",
            "copying path '/nix/store/m7v406dmjc4pzd0qgbhw58d5gswcv412-libXdmcp-1.1.5' from 'https://cache.nixos.org'...\n",
            "copying path '/nix/store/62fdhzhrs5smykxkxvjhw3y6yck2iih4-brotli-1.1.0-dev' from 'https://cache.nixos.org'...\n",
            "copying path '/nix/store/y2ds7vvhg0fsy8gf55q4x1hxjw3xkjp6-libapparmor-3.1.7' from 'https://cache.nixos.org'...\n",
            "copying path '/nix/store/l04bgrdvkbxq81v7yq53nkmr7f1aiav7-libXau-1.0.11-dev' from 'https://cache.nixos.org'...\n",
            "copying path '/nix/store/kflbjsv5gk1vimv0z54damzsqxrrkbf5-libargon2-20190702' from 'https://cache.nixos.org'...\n",
            "copying path '/nix/store/yvhyhcfhc98wm86pw4ygk5jdr804iwrw-libcap-2.69-lib' from 'https://cache.nixos.org'...\n",
            "copying path '/nix/store/jjzrf6hcd65vf9kpqbri6dlmsv7yj199-libcbor-0.11.0' from 'https://cache.nixos.org'...\n",
            "copying path '/nix/store/va5vdkx7nfgfgf96kmy3v1z7yzl3khpf-libdaemon-0.14' from 'https://cache.nixos.org'...\n",
            "copying path '/nix/store/0963cfpba5zmzm0nbxxbyvhr57zzf87q-libdatrie-2019-12-20-lib' from 'https://cache.nixos.org'...\n",
            "copying path '/nix/store/cm58jpx9hqzpg0g1azm1pnif0fifk310-libdeflate-1.20' from 'https://cache.nixos.org'...\n",
            "copying path '/nix/store/sfdhn27q9py7mm74lqbkry1n922mab88-libevdev-1.13.1' from 'https://cache.nixos.org'...\n",
            "copying path '/nix/store/qr0d05pw8cpznhrq4kfyz64pcm6xppcq-libevent-2.1.12' from 'https://cache.nixos.org'...\n",
            "copying path '/nix/store/kbg5m7fyi1w23fyfmxjhhzcbd577rpg0-libffi-3.4.6' from 'https://cache.nixos.org'...\n",
            "copying path '/nix/store/193fnfad15rgch01xxg7vf81rmmfwp8w-libgpg-error-1.48' from 'https://cache.nixos.org'...\n",
            "copying path '/nix/store/pgj3xdvp8hj61wwkcw2k0wfbyr3ni64h-libjpeg-turbo-3.0.3' from 'https://cache.nixos.org'...\n",
            "copying path '/nix/store/5pcy995yarjy7bfdswgkfggbzg48dlq0-libkrb5-1.21.2' from 'https://cache.nixos.org'...\n",
            "copying path '/nix/store/1xcnwyx7pdmdq66xdz20fbl2q0arjzrl-libffi-3.4.6-dev' from 'https://cache.nixos.org'...\n",
            "copying path '/nix/store/2bvbxxq8vzq6lis903p8zmkngsxppmkv-libmd-1.1.0' from 'https://cache.nixos.org'...\n",
            "copying path '/nix/store/br26gam6kclf8yydzbj1wna2assyx3dm-libmnl-1.0.5' from 'https://cache.nixos.org'...\n",
            "copying path '/nix/store/x49fq9q91icvhs7drn92isz3lir2ybxs-libnfnetlink-1.0.2' from 'https://cache.nixos.org'...\n",
            "copying path '/nix/store/fwh4fxd747m0py3ib3s5abamia9nrf90-glibc-2.39-52-dev' from 'https://cache.nixos.org'...\n",
            "copying path '/nix/store/ds2h2v0frms447yhg9cgyk78mrp5240a-libmpg123-1.32.6' from 'https://cache.nixos.org'...\n",
            "copying path '/nix/store/whbs2x9f2nrxbzcrcla5a7pr5mvdqf98-libnl-3.8.0' from 'https://cache.nixos.org'...\n",
            "copying path '/nix/store/brm3iyn8hzixjh7rfhdqm6n2sy9kxnjd-libnftnl-1.2.6' from 'https://cache.nixos.org'...\n",
            "copying path '/nix/store/lfpszg9pqbl4g5gwif16kq5sshv1qcd2-libogg-1.3.5' from 'https://cache.nixos.org'...\n",
            "copying path '/nix/store/mxg79hhk4dgv0lnifhj6k9jgk7xrkcsd-libopus-1.5.2' from 'https://cache.nixos.org'...\n",
            "copying path '/nix/store/zli13vajyx4a3vjnja0pd0irhdk7a34k-libnetfilter_conntrack-1.0.9' from 'https://cache.nixos.org'...\n",
            "copying path '/nix/store/x4z4n4270bqh5549b78xb5yzik9c77xi-libossp-uuid-1.6.2' from 'https://cache.nixos.org'...\n",
            "copying path '/nix/store/2vqgx0si98m8c3yd2fhspmikavf3nvmd-libpsl-0.21.5' from 'https://cache.nixos.org'...\n",
            "copying path '/nix/store/vwzyblmr6md6jimsb4lfhig0qmr9j991-libassuan-2.5.7' from 'https://cache.nixos.org'...\n",
            "copying path '/nix/store/p222av5bbv60iq8pya7bh7rx0rx9gaxx-libbsd-0.11.8' from 'https://cache.nixos.org'...\n",
            "copying path '/nix/store/6c947fh1y2ln5cr8kpcl14b3hfnni0av-libgcrypt-1.10.3' from 'https://cache.nixos.org'...\n",
            "copying path '/nix/store/83jfjv2b6cc33jv7q1lvvd846crkd0wh-libseccomp-2.5.5-lib' from 'https://cache.nixos.org'...\n",
            "copying path '/nix/store/d857vkjzr4rf68ycyfkcpdiax6v4d3c0-libtasn1-4.19.0' from 'https://cache.nixos.org'...\n",
            "copying path '/nix/store/wmwgqi3w2q5gk1nl6pjqkhblqnh9gq8r-abseil-cpp-20210324.2' from 'https://cache.nixos.org'...\n",
            "copying path '/nix/store/n4ipmip39rmapwnypvq5kk31w6aq7gyg-antlr-runtime-cpp-4.13.0' from 'https://cache.nixos.org'...\n",
            "copying path '/nix/store/jxm88kqrs373ydzlj73c7y1yhk7rjc63-coinutils-2.11.10' from 'https://cache.nixos.org'...\n",
            "copying path '/nix/store/2ryq88lrrrrmidsvridcv8rcs3arp1f3-compiler-rt-libc-17.0.6' from 'https://cache.nixos.org'...\n",
            "copying path '/nix/store/3bsk1131lgpvp0amxml4adnb8m5p18nk-fftw-single-3.3.10' from 'https://cache.nixos.org'...\n",
            "copying path '/nix/store/8anib06b270c8k62fglw6dimnwivrcvy-db-4.8.30' from 'https://cache.nixos.org'...\n",
            "copying path '/nix/store/a1vdbxij9xn9i2qs695rlcn3jkwpldd2-flac-1.4.3' from 'https://cache.nixos.org'...\n",
            "copying path '/nix/store/z14w63wj0gk97hr06l76d4s723ynhr2k-gettext-0.21.1' from 'https://cache.nixos.org'...\n",
            "copying path '/nix/store/7ivacs3m2fm19hyxdmrs05xisj82v6y5-gmp-with-cxx-6.3.0' from 'https://nix-cache.fossi-foundation.org'...\n",
            "copying path '/nix/store/rx6nkd40819acppajq29g1hxa4d9r35f-gmp-with-cxx-6.3.0' from 'https://cache.nixos.org'...\n",
            "copying path '/nix/store/11ms8j8iwn7d94x8q5syrss8hxh0w212-graphite2-1.3.14' from 'https://cache.nixos.org'...\n",
            "copying path '/nix/store/g1xqvy5p9xgl33iywjy8192xpsfw33b1-gtest-1.14.0' from 'https://cache.nixos.org'...\n",
            "copying path '/nix/store/lvq4hib247ayxib31hp7gryx444m1l3a-icu4c-73.2' from 'https://nix-cache.fossi-foundation.org'...\n",
            "copying path '/nix/store/0f6mid0waihb60md004x7sc9ix36p2qs-lerc-4.0.0' from 'https://cache.nixos.org'...\n",
            "copying path '/nix/store/hrv0rl13qlmqic54mhzv98wllqvj6zkk-libbsd-0.11.8-dev' from 'https://cache.nixos.org'...\n",
            "copying path '/nix/store/dc36aapzjrqiyh4zzsh6ilwidcfs5xga-libpcap-1.10.4' from 'https://cache.nixos.org'...\n",
            "copying path '/nix/store/38qlr97b3c7dg92sjn7xx8ccb5klz3bj-glpk-5.0' from 'https://cache.nixos.org'...\n",
            "copying path '/nix/store/ha7gbcgbp9bv4hmll7ghy7kqrcpyjlka-abseil-cpp-20240116.2' from 'https://cache.nixos.org'...\n",
            "copying path '/nix/store/gym191qh9gdm4591nkkz26ibsmi2qfxd-isl-0.20' from 'https://cache.nixos.org'...\n",
            "copying path '/nix/store/j0hrn5b7vjg178q1ykg9izmaccq2fayv-libthai-0.1.29' from 'https://cache.nixos.org'...\n",
            "copying path '/nix/store/zbdrwxipqgn9xaz8apbf9frgk6n8mpjm-libtheora-1.1.1' from 'https://cache.nixos.org'...\n",
            "copying path '/nix/store/gsxhddisz2211yzih47vskgabv0ry51x-libtool-2.4.7-lib' from 'https://cache.nixos.org'...\n",
            "copying path '/nix/store/dqgcwada9y3hd6kynlawvp5jrzmc0bfi-libvisual-0.4.1' from 'https://cache.nixos.org'...\n",
            "copying path '/nix/store/r717wgkg911wp6spacgbg3w2dyzybvk7-glibc-iconv-2.39' from 'https://cache.nixos.org'...\n",
            "copying path '/nix/store/d1g6mz24zwx4pcl1wfwja6lgbf8x0m8d-libvorbis-1.3.7' from 'https://cache.nixos.org'...\n",
            "copying path '/nix/store/18kar5zwp16xyppfmigq92xzm1pkcqf1-libxcb-1.17.0' from 'https://cache.nixos.org'...\n",
            "copying path '/nix/store/5xynf9c9ml7d97q70kpq9rpqqmx13xl8-libxcrypt-4.4.36' from 'https://nix-cache.fossi-foundation.org'...\n",
            "copying path '/nix/store/php4qidg2bxzmm79vpri025bqi0fa889-coreutils-9.5' from 'https://nix-cache.fossi-foundation.org'...\n",
            "copying path '/nix/store/88k4pdqc47zv1jdzk3khibpcwl9a3y0b-libyaml-0.2.5' from 'https://cache.nixos.org'...\n",
            "copying path '/nix/store/bylm45pik44qjqq436xc7nf8610fvn0d-lndir-1.0.5' from 'https://cache.nixos.org'...\n",
            "copying path '/nix/store/9wkzjgwdzivacwi50s6xvg6wxd1rc0s4-lz4-1.9.4' from 'https://cache.nixos.org'...\n",
            "copying path '/nix/store/b6bgs55kyriqndagqzck1v7w8ip9dzzn-linux-pam-1.6.1' from 'https://cache.nixos.org'...\n",
            "copying path '/nix/store/bsv4wkwiqgns5w83hayd8n9msclr7qgb-mpdecimal-4.0.0' from 'https://cache.nixos.org'...\n",
            "copying path '/nix/store/isqrn21fmha9dxf1bbl4mm7j6irpw1x8-iptables-1.8.10' from 'https://cache.nixos.org'...\n",
            "copying path '/nix/store/fyr5dbvc94fh9rabx010m7aqv7sd5an1-mpfr-4.2.1' from 'https://cache.nixos.org'...\n",
            "copying path '/nix/store/hhr2s52vw5wdhlwcc60imbc85pi31121-mpfr-4.2.1' from 'https://cache.nixos.org'...\n",
            "copying path '/nix/store/rv8x9609d5nh5z8v7v9gmhy6z1wnrhkk-libsndfile-1.2.2' from 'https://cache.nixos.org'...\n",
            "copying path '/nix/store/n20d5kgnlilhf9hbm336481i2pc0nib5-mtdev-1.1.7' from 'https://cache.nixos.org'...\n",
            "copying path '/nix/store/j4m3lwhh4x0bzilvi77d512ahry775nq-ncurses-6.4' from 'https://cache.nixos.org'...\n",
            "copying path '/nix/store/zcjy82jk8i8y1cvvzaadj5wiz41gvp53-ncurses-abi5-compat-6.4' from 'https://cache.nixos.org'...\n",
            "copying path '/nix/store/i34mknsjgrfyy71k2h79gda0bvagzc2j-diffutils-3.10' from 'https://cache.nixos.org'...\n",
            "copying path '/nix/store/jjcsr5gs4qanf7ln5c6wgcq4sn75a978-findutils-4.9.0' from 'https://cache.nixos.org'...\n",
            "copying path '/nix/store/cya37dqm7s6jg5alb77n8y3c421k0xbi-libmpc-1.3.1' from 'https://cache.nixos.org'...\n",
            "copying path '/nix/store/x9fw7rbdb34gq0f8q750kw344lbv9nk1-libX11-1.8.9' from 'https://cache.nixos.org'...\n",
            "copying path '/nix/store/a9akcdqf2521sa7mcdbxzq6xgg1iv0x2-libmpc-1.3.1' from 'https://cache.nixos.org'...\n",
            "copying path '/nix/store/y28z5yg4v9f8vi6mq97qhr8pqmf1aijx-libxcb-1.17.0-dev' from 'https://cache.nixos.org'...\n",
            "copying path '/nix/store/cfgpxq64il1sfsjqbblghds82jf2a185-nettle-3.9.1' from 'https://cache.nixos.org'...\n",
            "copying path '/nix/store/kw1nc4sg6hp550z8g8pdjb3d3ixz4m3l-nghttp2-1.61.0-lib' from 'https://cache.nixos.org'...\n",
            "copying path '/nix/store/59q5nl573y3znmwqqaw91m0crrss2vgd-npth-1.7' from 'https://cache.nixos.org'...\n",
            "copying path '/nix/store/gp504m4dvw5k2pdx6pccf1km79fkcwgf-openssl-3.0.13' from 'https://cache.nixos.org'...\n",
            "copying path '/nix/store/5rplqz6dwgfhrfazyr4bv45j14iddzlb-orc-0.4.38' from 'https://cache.nixos.org'...\n",
            "copying path '/nix/store/0vjmplyvp26dc08j6bfff8y4ajmwmnlc-gnupg-2.4.5' from 'https://cache.nixos.org'...\n",
            "copying path '/nix/store/0w6sqswywna5x4smm5sxin57a55q00ww-osi-0.108.10' from 'https://cache.nixos.org'...\n",
            "copying path '/nix/store/771mz0x86qzhlphd22awf3s601mhwpkv-p11-kit-0.25.3' from 'https://cache.nixos.org'...\n",
            "copying path '/nix/store/kmp5kw2zjbgmhq58xdgipqaxb3yj1zw8-openblas-0.3.27' from 'https://cache.nixos.org'...\n",
            "copying path '/nix/store/0lfxbmchigx9vs9qmrlbahcy6nxwfnj1-patch-2.7.6' from 'https://cache.nixos.org'...\n",
            "copying path '/nix/store/nbad47q0m0m9c5xid7zh05hiknwircbp-patchelf-0.15.0' from 'https://cache.nixos.org'...\n",
            "copying path '/nix/store/a9srfwlyidwnlddlp3jcryh0kj9za0gz-pcre-8.45' from 'https://cache.nixos.org'...\n",
            "copying path '/nix/store/g3vi60zgyjsvij7xkk6dxky1hkwh0ynd-pcre2-10.43' from 'https://nix-cache.fossi-foundation.org'...\n",
            "copying path '/nix/store/y418s044ij61yx03rpnc0hja07snbp2h-pcsclite-2.1.0-lib' from 'https://cache.nixos.org'...\n",
            "copying path '/nix/store/66x1iwsvnx6lxprakk7wk3r2kz4gxmrv-picosat-965' from 'https://cache.nixos.org'...\n",
            "copying path '/nix/store/0gxrwp9xnzb5li8i7w3q7qmm0lm808qq-libX11-1.8.9-dev' from 'https://cache.nixos.org'...\n",
            "copying path '/nix/store/y16mr4fhn8a8snp5177a6aznq42ci22c-libXcomposite-0.4.6' from 'https://cache.nixos.org'...\n",
            "copying path '/nix/store/gbjygp4wz7b5rgayckmqfc00hy34dqfn-libXext-1.3.6' from 'https://cache.nixos.org'...\n",
            "copying path '/nix/store/1jjjvxa4v0qqjhlc9ig3j6ljdlskm2kr-libXfixes-6.0.1' from 'https://cache.nixos.org'...\n",
            "copying path '/nix/store/37bzg32wlrlknwbrsvjr4cxwmjh8dbzl-libXrender-0.9.11' from 'https://cache.nixos.org'...\n",
            "copying path '/nix/store/cy880gzg1h6awfrq7024543vicphg908-pixman-0.43.4' from 'https://cache.nixos.org'...\n",
            "copying path '/nix/store/28gpmx3z6ss3znd7fhmrzmvk3x5lnfbk-gnugrep-3.11' from 'https://nix-cache.fossi-foundation.org'...\n",
            "copying path '/nix/store/5frkz5kp1p3i6wfgcjgbba38pypg4app-libselinux-3.6' from 'https://cache.nixos.org'...\n",
            "copying path '/nix/store/h967azc5nfhmxjvncbim3d0mxxb8g0ky-libXext-1.3.6-dev' from 'https://cache.nixos.org'...\n",
            "copying path '/nix/store/8dznd000dbv8kjvq93zwj7b5xf5chf6z-libXi-1.8.1' from 'https://cache.nixos.org'...\n",
            "copying path '/nix/store/g1k5ak1wb3xpsbjarjkmql8zbd1nmym4-libXinerama-1.1.5' from 'https://cache.nixos.org'...\n",
            "copying path '/nix/store/2rq584mkybbbvm1ciyams5s2lh8cdq32-libXrandr-1.5.4' from 'https://cache.nixos.org'...\n",
            "copying path '/nix/store/53vv8bkh0nvrfifac45dvhhcs3ybywjb-libXcursor-1.2.2' from 'https://cache.nixos.org'...\n",
            "copying path '/nix/store/2y8irckx5v4fav7r7p9ghaz7rbwdmfb2-libXdamage-1.1.6' from 'https://cache.nixos.org'...\n",
            "copying path '/nix/store/gf6p8dn78x0kscxjjm20zsvgm4rb08pm-libXrender-0.9.11-dev' from 'https://cache.nixos.org'...\n",
            "copying path '/nix/store/0ig3lz1130srhy0g92ss16pwswnzkdjp-libXtst-1.2.4' from 'https://cache.nixos.org'...\n",
            "copying path '/nix/store/6sswk92hhbrlfzqmc6pxl1iqngkwrf0v-libXv-1.0.12' from 'https://cache.nixos.org'...\n",
            "copying path '/nix/store/jz3vvf4nsyirb25rh9dbhksm4gq6wybb-libglvnd-1.7.0' from 'https://cache.nixos.org'...\n",
            "copying path '/nix/store/g1iia7k8ahhmg8590cy5dm13gdg7mrz4-qrencode-4.1.1' from 'https://cache.nixos.org'...\n",
            "copying path '/nix/store/wws29jxqkf3zwg2i97jdgfcwk8mdxld0-soxr-0.1.3' from 'https://cache.nixos.org'...\n",
            "copying path '/nix/store/yh58ccnnkfmhiz2sd0vvrr0yvv67vjyy-spdlog-1.13.0' from 'https://nix-cache.fossi-foundation.org'...\n",
            "copying path '/nix/store/q1fsrgy54qq6shp6hrrjxgvn06mphs32-speexdsp-1.2.1' from 'https://cache.nixos.org'...\n",
            "copying path '/nix/store/7j8mbhf7c3sigq7lwl5vc5h7lhx34m6d-systemd-minimal-libs-255.6' from 'https://cache.nixos.org'...\n",
            "copying path '/nix/store/p16s3zg96afj68mfp17m03svhwmdgcz8-tcl-8.6.13' from 'https://cache.nixos.org'...\n",
            "copying path '/nix/store/w1f1kw8bvg9i12358z5i2ssffl86mi01-tremor-unstable-2018-03-16' from 'https://cache.nixos.org'...\n",
            "copying path '/nix/store/6ff9abnxvgpii09zrjbrv5vcjgbhqk61-unbound-1.20.0-lib' from 'https://cache.nixos.org'...\n",
            "copying path '/nix/store/ygmngxklhr4iw8myam49ld30mfansylv-util-linux-minimal-2.40.1-login' from 'https://cache.nixos.org'...\n",
            "copying path '/nix/store/7rnc20sb0h5zxqm5vims6mvi6gr3iy27-wayland-1.22.0' from 'https://cache.nixos.org'...\n",
            "copying path '/nix/store/db6pm9dj75nb9dvv6ax5b39pvzlnwxxj-xcb-util-0.4.1' from 'https://cache.nixos.org'...\n",
            "copying path '/nix/store/kpkh2i4sqrkycf2b63ajsg9091mph4s0-xcb-util-keysyms-0.4.1' from 'https://cache.nixos.org'...\n",
            "copying path '/nix/store/1m2f289ihjfnbfzc8cdbp9k21sv4yq3h-xcb-util-renderutil-0.3.10' from 'https://cache.nixos.org'...\n",
            "copying path '/nix/store/knay1zabn079xa2zwzgign79whkxmwc7-xcb-util-image-0.4.1' from 'https://cache.nixos.org'...\n",
            "copying path '/nix/store/zmclxbw02c9xwcm8ss1c4m2b2vkif9rz-xcb-util-wm-0.4.2' from 'https://cache.nixos.org'...\n",
            "copying path '/nix/store/lphbn1va4i43fj7f3m9xskf9y86khzf3-xz-5.4.6' from 'https://nix-cache.fossi-foundation.org'...\n",
            "copying path '/nix/store/dxp9ffxm50hj300xvzwhsllwgjwxvwpp-libGL-1.7.0' from 'https://cache.nixos.org'...\n",
            "copying path '/nix/store/by853zqacqy647v0z7l70xm77xl9ifal-zstd-1.5.6' from 'https://cache.nixos.org'...\n",
            "copying path '/nix/store/lv6nackqis28gg7l2ic43f6nk52hb39g-zlib-1.3.1' from 'https://nix-cache.fossi-foundation.org'...\n",
            "copying path '/nix/store/w50yhydmlak1ivrxdc88yyf4n09wrw6k-libepoxy-1.5.10' from 'https://cache.nixos.org'...\n",
            "copying path '/nix/store/4ccjj4v7vc782xc3ljjq2zfqj3d3l276-lvm2-2.03.23-lib' from 'https://cache.nixos.org'...\n",
            "copying path '/nix/store/r2jjxkphbxfyrawn8qvyc6r2wrkyvjwn-libunwind-1.8.1' from 'https://cache.nixos.org'...\n",
            "copying path '/nix/store/6i4xxaa812vsbli9jkq4mksdddrk27lw-xz-5.4.6-bin' from 'https://nix-cache.fossi-foundation.org'...\n",
            "copying path '/nix/store/xajw0924xf27g0kla8cr80xl9lp06n49-re2-2024-05-01' from 'https://cache.nixos.org'...\n",
            "copying path '/nix/store/9amlz11vfaczjwjqbmsyql7kvd2bns9w-kmod-31' from 'https://cache.nixos.org'...\n",
            "copying path '/nix/store/r2q8hr14sxaijryjc2xw5gqvfyhcfhpq-kmod-31-lib' from 'https://cache.nixos.org'...\n",
            "copying path '/nix/store/hxhdhc0zddbhmqvv99nldq2gfmy9983x-zstd-1.5.6-bin' from 'https://cache.nixos.org'...\n",
            "copying path '/nix/store/qannz09m66qpcy3ny1f4nkl4ql0g71ks-openssl-3.0.13-bin' from 'https://cache.nixos.org'...\n",
            "copying path '/nix/store/j3svbki41ax01mhd0bax91y1q8gvc5c4-binutils-2.41-lib' from 'https://cache.nixos.org'...\n",
            "copying path '/nix/store/iia4qvk02272cvfq4lfww1a48fpk08ml-cracklib-2.9.11' from 'https://nix-cache.fossi-foundation.org'...\n",
            "copying path '/nix/store/xx7x1dwybpssfhq8yikvzz38bh3yrq97-file-5.45' from 'https://cache.nixos.org'...\n",
            "copying path '/nix/store/14c6s4xzhy14i2b05s00rjns2j93gzz4-gcc-13.2.0' from 'https://cache.nixos.org'...\n",
            "copying path '/nix/store/nqch0jn2facpjab35sld321s47w9z3m9-cbc-2.10.4' from 'https://cache.nixos.org'...\n",
            "copying path '/nix/store/wf7w1vbis4fphasyn4z3vad6336rxc64-gnutls-3.8.5' from 'https://cache.nixos.org'...\n",
            "copying path '/nix/store/cibpmwf213v9adwh09pg2kk92xzgp39l-kexec-tools-2.0.28' from 'https://cache.nixos.org'...\n",
            "copying path '/nix/store/nkg8ikby80sv07z4qcag77w0h8zl24s0-libfido2-1.14.0' from 'https://cache.nixos.org'...\n",
            "copying path '/nix/store/vz0rlaa0i7r61ivhvpyjcrbianai35yp-libpciaccess-0.18.1' from 'https://cache.nixos.org'...\n",
            "copying path '/nix/store/c834fr2k0c3g8a3s97qilfc5q8z0mxxz-kbd-2.6.4' from 'https://cache.nixos.org'...\n",
            "copying path '/nix/store/55kivg8damd3y2c5k7286nvckw8pb2xf-libpng-apng-1.6.43' from 'https://cache.nixos.org'...\n",
            "copying path '/nix/store/bgcaxhhxswzvmxjbbgvvaximm5hwghz1-binutils-2.41' from 'https://cache.nixos.org'...\n",
            "copying path '/nix/store/vrqy1mn0nw6g6y0w22gipbspknnwr9q5-libssh2-1.11.0' from 'https://cache.nixos.org'...\n",
            "copying path '/nix/store/bgqqrs1c0sy646g3x2l5lv26qw40z964-boost-1.83.0' from 'https://cache.nixos.org'...\n",
            "copying path '/nix/store/8zzadbd854igw91p0qp25qz1lw7n65yg-boost-1.85.0' from 'https://cache.nixos.org'...\n",
            "copying path '/nix/store/ss5nv8y5hqfjxw3l49mb32ngk9wb90wi-boost-1.85.0' from 'https://cache.nixos.org'...\n",
            "copying path '/nix/store/x9pcjqpxv8j7fsc5aivx0m38529fxsmi-compiler-rt-libc-17.0.6-dev' from 'https://cache.nixos.org'...\n",
            "copying path '/nix/store/y31zz9k1v2gqlzrs7p50llx8db6m2gdr-libdrm-2.4.120' from 'https://cache.nixos.org'...\n",
            "copying path '/nix/store/n7nbsn0d6w5m60hqnr7af8gzshnynx5y-libmicrohttpd-0.9.77' from 'https://cache.nixos.org'...\n",
            "copying path '/nix/store/86gmcmapjs9kdkpxvxcimq0aq8ha921q-libpwquality-1.4.5-lib' from 'https://cache.nixos.org'...\n",
            "copying path '/nix/store/c9n99v77q5wrk7dxr4xi16bn1l4cglly-freetype-2.13.2' from 'https://cache.nixos.org'...\n",
            "copying path '/nix/store/36kr91f8s509z2r8hqvpayw5bqyqgyzr-curl-8.7.1' from 'https://cache.nixos.org'...\n",
            "copying path '/nix/store/a59krsrvrc575kmqv7rwcmgny3rz01j8-libgit2-1.7.2-lib' from 'https://cache.nixos.org'...\n",
            "copying path '/nix/store/bmjckrv5ryxahvkldr47jyx7zmlrcan3-libedit-20230828-3.1' from 'https://cache.nixos.org'...\n",
            "copying path '/nix/store/ic5bx78h039m3lfxxb6bl64qlbdxzzj9-libtiff-4.6.0' from 'https://cache.nixos.org'...\n",
            "copying path '/nix/store/kf7fzax0av9him9m4zcmbqmihh5108wq-libxml2-2.12.7' from 'https://cache.nixos.org'...\n",
            "copying path '/nix/store/126hf3b2wc503jvcs85r80mxy1a0pz9a-minisat-2.2.1' from 'https://cache.nixos.org'...\n",
            "copying path '/nix/store/1c9jq1csrx42g5vqynlfl0x63k2nx1x9-ncurses-6.4-dev' from 'https://cache.nixos.org'...\n",
            "copying path '/nix/store/191vca5vdxdlr32k2hpzd66mic98930f-openssl-3.0.13-dev' from 'https://cache.nixos.org'...\n",
            "copying path '/nix/store/r20kl3djvc3r5w5a0gwy4d896mn6b22a-elfutils-0.191' from 'https://cache.nixos.org'...\n",
            "copying path '/nix/store/j4v3byv2scsa3fz577y883aibmrl4b2v-mariadb-connector-c-3.3.5' from 'https://cache.nixos.org'...\n",
            "copying path '/nix/store/1iscdpbd3x9x3s3s25jd5ppl7yra0b77-perl-5.38.2' from 'https://nix-cache.fossi-foundation.org'...\n",
            "copying path '/nix/store/azbphnp68h4fkm0fsbird88bn76ggjsh-fontconfig-2.15.0-lib' from 'https://cache.nixos.org'...\n",
            "copying path '/nix/store/cfg48yxj3wa3mfdbhxa26mf72qjg6adm-libedit-20230828-3.1-dev' from 'https://cache.nixos.org'...\n",
            "copying path '/nix/store/1mv469gq5n0l32cb2lam7mkfl9s22dlg-libxkbcommon-1.7.0' from 'https://cache.nixos.org'...\n",
            "copying path '/nix/store/ax9wbqknwawnl21kvkp8l6jn2r6q0l90-llvm-17.0.6-lib' from 'https://cache.nixos.org'...\n",
            "copying path '/nix/store/n0g1wrj6h8g5knynm8i3832ps41snada-fontconfig-2.15.0-bin' from 'https://cache.nixos.org'...\n",
            "copying path '/nix/store/0kf3d2yigxk6xbbnc09x42c5as8xgjv8-libXft-2.3.8' from 'https://cache.nixos.org'...\n",
            "copying path '/nix/store/xb4h083j02mr2ix7pgj7iawxh2hk100l-postgresql-15.7-lib' from 'https://cache.nixos.org'...\n",
            "copying path '/nix/store/d4s1r8cb969mi7b68lw8095s1y7qga16-protobuf-21.12' from 'https://cache.nixos.org'...\n",
            "copying path '/nix/store/4n8fsrg6kslmnq5g2xsrs6vmpqfbyz2m-readline-8.2p10' from 'https://cache.nixos.org'...\n",
            "copying path '/nix/store/m8dz4ij709536xzxn8prgg2a3jc0s3j6-libbpf-1.4.2' from 'https://cache.nixos.org'...\n",
            "copying path '/nix/store/y5p181lnbh8rrwd3ljp83k0cn3xklyk2-sqlite-3.45.3' from 'https://cache.nixos.org'...\n",
            "copying path '/nix/store/rg6agzlb4gcl4w2126m16qm4mgr8jgi6-stdenv-linux' from 'https://cache.nixos.org'...\n",
            "copying path '/nix/store/sdyn5834dw2w6nkijzn66zj280wwl82x-blas-3' from 'https://cache.nixos.org'...\n",
            "copying path '/nix/store/nm8affp2bycrhli4n1d7iribbn16cbax-gnat-bootstrap-12.1.0-2' from 'https://cache.nixos.org'...\n",
            "copying path '/nix/store/rdd4pnr4x9rqc9wgbibhngv217w2xvxl-bash-interactive-5.2p26' from 'https://cache.nixos.org'...\n",
            "copying path '/nix/store/vh3lcg8gq2c3pxbqkqmrk3fmf3papk52-iverilog-12.0' from 'https://cache.nixos.org'...\n",
            "copying path '/nix/store/ra07lq4fpf8nfwligri4f7yj55v1l587-boost-1.85.0-dev' from 'https://cache.nixos.org'...\n",
            "copying path '/nix/store/c4bdx4dja3h06xg1ksv3f51alp5a44li-ruby-3.1.5' from 'https://cache.nixos.org'...\n",
            "copying path '/nix/store/aj87c04nai6f7pk9lyyic1h2zz9j59ci-tcllib-1.21' from 'https://cache.nixos.org'...\n",
            "copying path '/nix/store/7hnr99nxrd2aw6lghybqdmkckq60j6l9-python3-3.11.9' from 'https://cache.nixos.org'...\n",
            "copying path '/nix/store/gkhv5ld2mr8hr1q44cf9wj3mfsa9gzh9-tclx-8.6.3' from 'https://cache.nixos.org'...\n",
            "copying path '/nix/store/c94l89pbgm24xbflf5ccxbv2aqvfaxag-tk-8.6.13' from 'https://nix-cache.fossi-foundation.org'...\n",
            "copying path '/nix/store/7bd6mlnyj4192ssw50hksnqbxmj98p26-binutils-wrapper-2.41' from 'https://cache.nixos.org'...\n",
            "copying path '/nix/store/kln7kinji3b7sz8r50h4gn9yy6k1js9a-binutils-wrapper-2.41' from 'https://cache.nixos.org'...\n",
            "copying path '/nix/store/lmci3q5pnjkas9d2x81kd05jgmiffkn3-tk-8.6.13' from 'https://cache.nixos.org'...\n",
            "copying path '/nix/store/05n35k0p8l969kfskxqhbqhy8il3a3cq-util-linux-minimal-2.40.1-lib' from 'https://cache.nixos.org'...\n",
            "copying path '/nix/store/6l3aj1gi4lja8z5s4lan2k2cfz9mqkrz-yosys-abc' from 'https://nix-cache.fossi-foundation.org'...\n",
            "copying path '/nix/store/qj9byzfvh7dd61kk0aglj7cwqj1xqg6l-zlib-1.3.1-dev' from 'https://cache.nixos.org'...\n",
            "copying path '/nix/store/hd7c7qjqisx2anb2mpf2rs9dmir08xpa-capnproto-1.0.2' from 'https://cache.nixos.org'...\n",
            "copying path '/nix/store/x8k2sqkbbyh4qlmdb7b258v2fp99yzfv-clp-1.17.9' from 'https://cache.nixos.org'...\n",
            "copying path '/nix/store/1rdmf4lap3f82pqdlmrgj1vjs08dk5xw-libpng-apng-1.6.43-dev' from 'https://cache.nixos.org'...\n",
            "copying path '/nix/store/yi5kdmy956hbvqrvmsi2qxykks4fhnad-cryptsetup-2.7.1' from 'https://cache.nixos.org'...\n",
            "copying path '/nix/store/c2v6ycn0sjcpx9ww8x7j4ima6xnpssry-glib-2.80.2' from 'https://cache.nixos.org'...\n",
            "copying path '/nix/store/h8j225cl14p2yz55xa76rasfins4540w-libSM-1.2.4' from 'https://cache.nixos.org'...\n",
            "copying path '/nix/store/a6yfhfzpmvz8v73796djqk811p4b6wan-freetype-2.13.2-dev' from 'https://cache.nixos.org'...\n",
            "copying path '/nix/store/gkc9xrp06hxgjfp7xbfmfwayidvhfylw-tclreadline-2.3.8' from 'https://cache.nixos.org'...\n",
            "copying path '/nix/store/hw6nhpg3n3wwbvlraw40y3af5dkwl1l1-tpm2-tss-4.1.1' from 'https://cache.nixos.org'...\n",
            "copying path '/nix/store/s3i30zgs08s2a5azm8jzimyvl4yhpw1n-util-linux-minimal-2.40.1-mount' from 'https://cache.nixos.org'...\n",
            "copying path '/nix/store/s0vz12hrphzlc45sj1fp6cc45c75kr8x-util-linux-minimal-2.40.1-swap' from 'https://cache.nixos.org'...\n",
            "copying path '/nix/store/s0mcb1kw1a4a9vdvcm8jpsdpn6bqkljm-fontconfig-2.15.0-dev' from 'https://cache.nixos.org'...\n",
            "copying path '/nix/store/bp74x3bkh8979gxz72wc9hq3jb0hdaq7-systemd-minimal-255.6' from 'https://cache.nixos.org'...\n",
            "copying path '/nix/store/fgvf7jj541gw38ykdsmgvgha1p074p05-libXft-2.3.8-dev' from 'https://cache.nixos.org'...\n",
            "copying path '/nix/store/q5ycjmn0d9awbcq05c75z2rmgwjgbc9g-opensta' from 'https://nix-cache.fossi-foundation.org'...\n",
            "copying path '/nix/store/fbfvlqwm0w9pqvxy0pd5s4wvi8bjmgmz-critcl-3.2' from 'https://cache.nixos.org'...\n",
            "copying path '/nix/store/dvpfisjf3fx338dl46ismrg09kc9wmd4-tk-8.6.13-dev' from 'https://nix-cache.fossi-foundation.org'...\n",
            "copying path '/nix/store/xjiifrz7ha6s29gp0p0j3w0155phxmia-systemd-255.6' from 'https://cache.nixos.org'...\n",
            "copying path '/nix/store/plp73726f09hrpk11ay58pgda6fq69gb-tcllib-1.21' from 'https://cache.nixos.org'...\n",
            "copying path '/nix/store/ly4g5lbsb06amm5ig7p20hfb9p5amp0r-gperftools-2.15' from 'https://cache.nixos.org'...\n",
            "copying path '/nix/store/b9f9c4ml2k6fg0pgc80d9y4a6byqflmp-cairo-1.18.0' from 'https://cache.nixos.org'...\n",
            "copying path '/nix/store/g19314860ijffhbksw25pl2rcagk7wcx-dconf-0.40.0-lib' from 'https://cache.nixos.org'...\n",
            "copying path '/nix/store/k2fmr13zj9rhkr29axhkaizjqn1llxaz-gdk-pixbuf-2.42.11' from 'https://cache.nixos.org'...\n",
            "copying path '/nix/store/3xmijza6nscnn52jry8fw2sw2nzsl9am-glib-2.80.2-bin' from 'https://cache.nixos.org'...\n",
            "copying path '/nix/store/qry8n35h3217nw6jw0gf42skn6my9428-graphene-1.10.8' from 'https://cache.nixos.org'...\n",
            "copying path '/nix/store/d8sw2gwfjkhigipm6jiqsgknxpjzdzrz-harfbuzz-8.4.0' from 'https://cache.nixos.org'...\n",
            "copying path '/nix/store/kh5v9i6xxiqph9sb2850q4p1l8iznp7d-json-glib-1.8.0' from 'https://cache.nixos.org'...\n",
            "copying path '/nix/store/ixhnknjs96z164xf54rz5yg66nvp7vy0-libgudev-238' from 'https://cache.nixos.org'...\n",
            "copying path '/nix/store/l52rz944j7ndzz4ss78wbcszwp4rzfsk-gobject-introspection-1.80.1' from 'https://cache.nixos.org'...\n",
            "copying path '/nix/store/1mldrzcgkfpzs56371gj7zpk9zx95bxk-libsoup-2.74.3' from 'https://cache.nixos.org'...\n",
            "copying path '/nix/store/npb9hyshsbnfwx89jfa1ykrb18ncmw7s-libsoup-3.4.4' from 'https://cache.nixos.org'...\n",
            "copying path '/nix/store/9ijlindhb6bsjkakc3rq2hcpackg2l21-libwacom-2.11.0' from 'https://cache.nixos.org'...\n",
            "copying path '/nix/store/3w639jz93a49sd9a3bm9cgiqf646q0hi-blas-3-dev' from 'https://cache.nixos.org'...\n",
            "copying path '/nix/store/zlr7s45h2mc11kf7vvzdgqipk930kxsh-surelog' from 'https://nix-cache.fossi-foundation.org'...\n",
            "copying path '/nix/store/7ammyzfh4i39dqxj3v0rxs21crrxp4nb-pango-1.52.2' from 'https://cache.nixos.org'...\n",
            "copying path '/nix/store/279k8iw3mb4hdsqxsw22xdym4ayh03ss-libinput-1.25.0' from 'https://cache.nixos.org'...\n",
            "copying path '/nix/store/jd41k79l3nxq4b7b7yvc0kmcjd3lq7sa-dbus-1.14.10-lib' from 'https://cache.nixos.org'...\n",
            "copying path '/nix/store/jza1j1lqb26l36m1q6gdh8nlcc48jzjn-avahi-0.8' from 'https://cache.nixos.org'...\n",
            "copying path '/nix/store/ha8i7q6xf4794idzrzh35vsycb5lmjzn-libpulseaudio-17.0' from 'https://cache.nixos.org'...\n",
            "copying path '/nix/store/0bp09zmflpq2igy8cm2b83dl0rpmyw90-cups-2.4.7-lib' from 'https://cache.nixos.org'...\n",
            "copying path '/nix/store/np28inlwlqafqk2n6s7ylzf59bh3aa8c-tracker-3.7.3' from 'https://cache.nixos.org'...\n",
            "copying path '/nix/store/qpk85xnnx7w7fc8zkiq6mav3n4jiiffr-qtbase-5.15.12' from 'https://cache.nixos.org'...\n",
            "copying path '/nix/store/4hfh7f74sndd10ck47xifsxpr5n5j67y-tclFull' from 'https://nix-cache.fossi-foundation.org'...\n",
            "copying path '/nix/store/6rigmq2ycbpgywmq9jjyhdr6vs8k8h8x-at-spi2-core-2.52.0' from 'https://cache.nixos.org'...\n",
            "copying path '/nix/store/6pzxmb82pda01y6zxncdmmp7lhafb75h-gtk+3-3.24.41' from 'https://cache.nixos.org'...\n",
            "copying path '/nix/store/4i8k74x7dy9l54g9l9jw712rlkbpsk02-qtdeclarative-5.15.12' from 'https://cache.nixos.org'...\n",
            "copying path '/nix/store/vn30pj6dmv6igq5ldrnyshs7v219m6hg-qtsvg-5.15.12' from 'https://cache.nixos.org'...\n",
            "copying path '/nix/store/wyn8ivahb900pl2d6bh5xscjn7nimjn2-qttools-5.15.12' from 'https://cache.nixos.org'...\n",
            "copying path '/nix/store/xzi28s2b4117fn05y3f9d7xlq4dkqq99-qtcharts-5.15.12' from 'https://cache.nixos.org'...\n",
            "copying path '/nix/store/2bvcvq2if4fw4wyqkn3f422mdrwa9h04-qtsvg-5.15.12-bin' from 'https://cache.nixos.org'...\n",
            "copying path '/nix/store/nz0w9rx1bmhaa3a888ryvbcripj7ydr4-qtbase-5.15.12-bin' from 'https://cache.nixos.org'...\n",
            "copying path '/nix/store/s5md4rhqvdimz0rljncsm78khvfvx42q-qtcharts-5.15.12-bin' from 'https://cache.nixos.org'...\n",
            "copying path '/nix/store/i518pv0gp22rp7kh6m7fxqx9v8g76h84-qtdeclarative-5.15.12-bin' from 'https://cache.nixos.org'...\n",
            "copying path '/nix/store/20nrlmvmflghnqs5xbna8mn1fb345cf2-qtquickcontrols-5.15.12' from 'https://cache.nixos.org'...\n",
            "copying path '/nix/store/dxh1wyxbkg6fbrfmcq8xknrqfac2fjv8-qttools-5.15.12-bin' from 'https://cache.nixos.org'...\n",
            "copying path '/nix/store/7spw2ns49wsc2x3zdg783rsi5979xghb-qtwayland-5.15.12' from 'https://cache.nixos.org'...\n",
            "copying path '/nix/store/qqva51zs01b6xgd5jy3k5hy8s8xwjh3f-qtxmlpatterns-5.15.12' from 'https://cache.nixos.org'...\n",
            "copying path '/nix/store/hjg4qxxm6iirrvz434s8fbr3jyr5qa8p-qtwayland-5.15.12-bin' from 'https://cache.nixos.org'...\n",
            "copying path '/nix/store/4flhri1nwh8n0d8a4bx2yjnyigpz00bg-python3.11-click-8.1.7' from 'https://cache.nixos.org'...\n",
            "copying path '/nix/store/n90qk04jw71dk42g7c1ifwdswmbpm3ml-gstreamer-1.24.2' from 'https://cache.nixos.org'...\n",
            "copying path '/nix/store/d55q9bly3qrnbkif0sc6nmmvba3law57-netgen' from 'https://nix-cache.fossi-foundation.org'...\n",
            "copying path '/nix/store/kalmrzx2fllfk713lm0m1yb1p5rqw1ly-python3.11-mdurl-0.1.2' from 'https://cache.nixos.org'...\n",
            "copying path '/nix/store/lwjnn5iyh8jzzhbvlqw31498mhhkmhcx-python3.11-packaging-24.0' from 'https://nix-cache.fossi-foundation.org'...\n",
            "copying path '/nix/store/60calfq476h3lcrvgy5ihkr46a6v21pn-python3.11-protobuf-4.21.12' from 'https://cache.nixos.org'...\n",
            "copying path '/nix/store/ylvsb39l0wq5q6xdphrq35an6dxqhjw9-python3.11-numpy-1.26.4' from 'https://cache.nixos.org'...\n",
            "copying path '/nix/store/cid5kxmrjdgikliwbhry3wq6j0117595-python3.11-pygments-2.17.2' from 'https://cache.nixos.org'...\n",
            "copying path '/nix/store/v05ziwqwbfnrgdd7bgqaygj4wj2asfgs-python3.11-pyyaml-6.0.1' from 'https://cache.nixos.org'...\n",
            "copying path '/nix/store/g4h9138sa5wh6kkfwc7f49q169wcs8s9-python3.11-setuptools-69.5.1' from 'https://cache.nixos.org'...\n",
            "copying path '/nix/store/yjys7hkz89mais5f7j012zbz213qd27z-python3.11-wheel-0.43.0' from 'https://cache.nixos.org'...\n",
            "copying path '/nix/store/klj6938h32ra3mlwkavcr285d2387h38-python3.11-markdown-it-py-3.0.0' from 'https://cache.nixos.org'...\n",
            "copying path '/nix/store/gdr1ghkakyjfdj8bc6n0virwllm4zpwz-glib-2.80.2-dev' from 'https://cache.nixos.org'...\n",
            "copying path '/nix/store/wdgnb83nybfn9k74ik4qdh7j6p5y59m9-python3-3.11.9-env' from 'https://cache.nixos.org'...\n",
            "copying path '/nix/store/gbkfy60wfrhq229pchp6n7321pdk7zsj-yosys-sby' from 'https://nix-cache.fossi-foundation.org'...\n",
            "copying path '/nix/store/fjqvwg4hxszzna6znkran8zqcj3h6a6a-gst-plugins-base-1.24.2' from 'https://cache.nixos.org'...\n",
            "copying path '/nix/store/ljrz822j7b6db3jnmw1jiafgrm8armcw-cairo-1.18.0-dev' from 'https://cache.nixos.org'...\n",
            "copying path '/nix/store/bi3ki0z1bdwf0apbjl108z1al1i3cr34-python3-3.11.9-env' from 'https://cache.nixos.org'...\n",
            "copying path '/nix/store/cvvch3mi6xyiazvyxiv8cyqapydrm4zb-python3-3.11.9-env' from 'https://nix-cache.fossi-foundation.org'...\n",
            "copying path '/nix/store/gkfkq6d57dran0fkgz81738zc8wc3w13-python3.11-rich-13.7.1' from 'https://cache.nixos.org'...\n",
            "copying path '/nix/store/f5xfhkss8f3rrmb0k3mbmpdpdads8qw2-qtmultimedia-5.15.12' from 'https://cache.nixos.org'...\n",
            "copying path '/nix/store/7wg9ck2rbn1anzx3j9ghwjjar7k2mnkm-qtmultimedia-5.15.12-bin' from 'https://cache.nixos.org'...\n",
            "copying path '/nix/store/jzpyz5b68vhp1l6wq64kgg6c8swgs920-klayout' from 'https://nix-cache.fossi-foundation.org'...\n",
            "copying path '/nix/store/9r0bh7sp051dpm8km8bqlb028anpd3v3-yosys' from 'https://nix-cache.fossi-foundation.org'...\n",
            "copying path '/nix/store/9bv7dcvmfcjnmg5mnqwqlq2wxfn8d7yi-gcc-wrapper-13.2.0' from 'https://nix-cache.fossi-foundation.org'...\n",
            "copying path '/nix/store/mky7gdsf8m3da333lxz2mjf2n3n1v1xy-verilator' from 'https://nix-cache.fossi-foundation.org'...\n",
            "copying path '/nix/store/d4awhg7d4f5nq1nljk8fd8qqysf6pp82-cryptominisat-5.11.21' from 'https://cache.nixos.org'...\n",
            "copying path '/nix/store/idlf6vx1hscsfgkh47zlcgvfyaq44926-bitwuzla-unstable-2022-10-03' from 'https://nix-cache.fossi-foundation.org'...\n",
            "copying path '/nix/store/vvmhlk6ffa4m6sqz8rijbij29c4iw3a7-or-tools-9.4' from 'https://cache.nixos.org'...\n",
            "copying path '/nix/store/7vsbsrhbj6kx5lfdc8qs9wlccxfb8f7h-yosys-synlig-sv' from 'https://nix-cache.fossi-foundation.org'...\n",
            "copying path '/nix/store/wxxgsgjxbnkkyczgf8lkbfrsqiywm8bi-clang-17.0.6-lib' from 'https://nix-cache.fossi-foundation.org'...\n",
            "copying path '/nix/store/6ia2skn5r0sryd3pn5398d0zm8xsyk69-openmp-17.0.6' from 'https://cache.nixos.org'...\n",
            "copying path '/nix/store/zzypcxbrgw1qink1l7fwgwpbk7fvdwpg-openroad' from 'https://nix-cache.fossi-foundation.org'...\n",
            "copying path '/nix/store/mckrz4w3hn8ixnnzjy5gzyrz4ycpp7js-gnat-12.3.0-lib' from 'https://cache.nixos.org'...\n",
            "copying path '/nix/store/gpc329ris11zp7k3ss7m4imdmhvd0673-gnat-12.3.0' from 'https://cache.nixos.org'...\n",
            "warning: download buffer is full; consider increasing the 'download-buffer-size' setting\n",
            "copying path '/nix/store/784j83ynrvz85rsqnlz32fzvby4wabaz-openroad-python3-3.11.9-env' from 'https://nix-cache.fossi-foundation.org'...\n",
            "copying path '/nix/store/gx27b857v63sm7syli75gjzdvayf2xsr-clang-17.0.6' from 'https://cache.nixos.org'...\n",
            "copying path '/nix/store/ym0zzc1ixlgraf114nabkyr664r41537-ghdl-mcode-4.1.0' from 'https://cache.nixos.org'...\n",
            "copying path '/nix/store/mzhqknx2mc94jdz4n320hn1lml86398y-clang-wrapper-17.0.6' from 'https://cache.nixos.org'...\n",
            "copying path '/nix/store/kh8imbr9x09a76n3bww3s674l5jxvvxp-magic-vlsi' from 'https://nix-cache.fossi-foundation.org'...\n",
            "copying path '/nix/store/17rj91ys7rmdjjalvj450y1xlhhilllk-yosys-f4pga-sdc' from 'https://nix-cache.fossi-foundation.org'...\n",
            "copying path '/nix/store/gna3lkpzc7wjcmqfwqv7lcv4syjl86rl-yosys-eqy' from 'https://nix-cache.fossi-foundation.org'...\n",
            "copying path '/nix/store/r3xmhhl5bwa4hqs8kn038x5d4nyrmpcm-yosys-ghdl' from 'https://nix-cache.fossi-foundation.org'...\n",
            "copying path '/nix/store/klshy15prwsp55yzy963rs0fqbwz9pz6-yosys-lighter' from 'https://nix-cache.fossi-foundation.org'...\n",
            "copying path '/nix/store/y4lsl792fjahppq4xk68s5ckh7mwks70-yosys-with-plugins' from 'https://nix-cache.fossi-foundation.org'...\n",
            "copying path '/nix/store/zdhr86kv5rxlp0s58rzxk1aki1igankx-yosys-with-plugins-python3-3.11.9-env' from 'https://nix-cache.fossi-foundation.org'...\n",
            "building '/nix/store/wxd6wah477mx6xhnmgkj7l52ddhf13lm-librelane-colab-env.drv'...\n"
          ]
        },
        {
          "output_type": "display_data",
          "data": {
            "text/plain": [
              "<IPython.core.display.HTML object>"
            ],
            "text/html": [
              "<h3>Downloading Python dependencies using PIP…</a>"
            ]
          },
          "metadata": {}
        },
        {
          "output_type": "display_data",
          "data": {
            "text/plain": [
              "<IPython.core.display.HTML object>"
            ],
            "text/html": [
              "<h3>Downloading PDK…</a>"
            ]
          },
          "metadata": {}
        },
        {
          "output_type": "display_data",
          "data": {
            "text/plain": [
              "Version 0fe599b2afb6708d281543108caf8310912f54af not found locally, attempting to download…\n"
            ],
            "text/html": [
              "<pre style=\"white-space:pre;overflow-x:auto;line-height:normal;font-family:Menlo,'DejaVu Sans Mono',consolas,'Courier New',monospace\">Version 0fe599b2afb6708d281543108caf8310912f54af not found locally, attempting to download…\n",
              "</pre>\n"
            ]
          },
          "metadata": {}
        },
        {
          "output_type": "display_data",
          "data": {
            "text/plain": [
              "Output()"
            ],
            "application/vnd.jupyter.widget-view+json": {
              "version_major": 2,
              "version_minor": 0,
              "model_id": "b62b3695678a45498c1618b07736cb41"
            }
          },
          "metadata": {}
        },
        {
          "output_type": "display_data",
          "data": {
            "text/plain": [],
            "text/html": [
              "<pre style=\"white-space:pre;overflow-x:auto;line-height:normal;font-family:Menlo,'DejaVu Sans Mono',consolas,'Courier New',monospace\"></pre>\n"
            ]
          },
          "metadata": {}
        },
        {
          "output_type": "display_data",
          "data": {
            "text/plain": [
              "Output()"
            ],
            "application/vnd.jupyter.widget-view+json": {
              "version_major": 2,
              "version_minor": 0,
              "model_id": "ec539fa505d64513a391b65915b76c02"
            }
          },
          "metadata": {}
        },
        {
          "output_type": "display_data",
          "data": {
            "text/plain": [],
            "text/html": [
              "<pre style=\"white-space:pre;overflow-x:auto;line-height:normal;font-family:Menlo,'DejaVu Sans Mono',consolas,'Courier New',monospace\"></pre>\n"
            ]
          },
          "metadata": {}
        },
        {
          "output_type": "display_data",
          "data": {
            "text/plain": [
              "Output()"
            ],
            "application/vnd.jupyter.widget-view+json": {
              "version_major": 2,
              "version_minor": 0,
              "model_id": "d79753e6ecbe49bea11f0fef8f3ab322"
            }
          },
          "metadata": {}
        },
        {
          "output_type": "display_data",
          "data": {
            "text/plain": [],
            "text/html": [
              "<pre style=\"white-space:pre;overflow-x:auto;line-height:normal;font-family:Menlo,'DejaVu Sans Mono',consolas,'Courier New',monospace\"></pre>\n"
            ]
          },
          "metadata": {}
        },
        {
          "output_type": "display_data",
          "data": {
            "text/plain": [
              "Output()"
            ],
            "application/vnd.jupyter.widget-view+json": {
              "version_major": 2,
              "version_minor": 0,
              "model_id": "da3d850038e048f082919107c3832a2f"
            }
          },
          "metadata": {}
        },
        {
          "output_type": "display_data",
          "data": {
            "text/plain": [],
            "text/html": [
              "<pre style=\"white-space:pre;overflow-x:auto;line-height:normal;font-family:Menlo,'DejaVu Sans Mono',consolas,'Courier New',monospace\"></pre>\n"
            ]
          },
          "metadata": {}
        },
        {
          "output_type": "display_data",
          "data": {
            "text/plain": [
              "Output()"
            ],
            "application/vnd.jupyter.widget-view+json": {
              "version_major": 2,
              "version_minor": 0,
              "model_id": "2b28766de9db4d32a6ea8abae8888c39"
            }
          },
          "metadata": {}
        },
        {
          "output_type": "display_data",
          "data": {
            "text/plain": [],
            "text/html": [
              "<pre style=\"white-space:pre;overflow-x:auto;line-height:normal;font-family:Menlo,'DejaVu Sans Mono',consolas,'Courier New',monospace\"></pre>\n"
            ]
          },
          "metadata": {}
        },
        {
          "output_type": "display_data",
          "data": {
            "text/plain": [
              "Output()"
            ],
            "application/vnd.jupyter.widget-view+json": {
              "version_major": 2,
              "version_minor": 0,
              "model_id": "80a998210d8b436284be1e8d7710ba1f"
            }
          },
          "metadata": {}
        },
        {
          "output_type": "display_data",
          "data": {
            "text/plain": [],
            "text/html": [
              "<pre style=\"white-space:pre;overflow-x:auto;line-height:normal;font-family:Menlo,'DejaVu Sans Mono',consolas,'Courier New',monospace\"></pre>\n"
            ]
          },
          "metadata": {}
        },
        {
          "output_type": "display_data",
          "data": {
            "text/plain": [
              "Output()"
            ],
            "application/vnd.jupyter.widget-view+json": {
              "version_major": 2,
              "version_minor": 0,
              "model_id": "5a438b4968cd4d209817d0073e5b90db"
            }
          },
          "metadata": {}
        },
        {
          "output_type": "display_data",
          "data": {
            "text/plain": [],
            "text/html": [
              "<pre style=\"white-space:pre;overflow-x:auto;line-height:normal;font-family:Menlo,'DejaVu Sans Mono',consolas,'Courier New',monospace\"></pre>\n"
            ]
          },
          "metadata": {}
        },
        {
          "output_type": "display_data",
          "data": {
            "text/plain": [
              "Output()"
            ],
            "application/vnd.jupyter.widget-view+json": {
              "version_major": 2,
              "version_minor": 0,
              "model_id": "988b7885e7e64eaba9dc57b80483ba6a"
            }
          },
          "metadata": {}
        },
        {
          "output_type": "display_data",
          "data": {
            "text/plain": [],
            "text/html": [
              "<pre style=\"white-space:pre;overflow-x:auto;line-height:normal;font-family:Menlo,'DejaVu Sans Mono',consolas,'Courier New',monospace\"></pre>\n"
            ]
          },
          "metadata": {}
        },
        {
          "output_type": "display_data",
          "data": {
            "text/plain": [
              "Output()"
            ],
            "application/vnd.jupyter.widget-view+json": {
              "version_major": 2,
              "version_minor": 0,
              "model_id": "3622c7d88b6c4a96955a4ec46c4c951b"
            }
          },
          "metadata": {}
        },
        {
          "output_type": "display_data",
          "data": {
            "text/plain": [],
            "text/html": [
              "<pre style=\"white-space:pre;overflow-x:auto;line-height:normal;font-family:Menlo,'DejaVu Sans Mono',consolas,'Courier New',monospace\"></pre>\n"
            ]
          },
          "metadata": {}
        },
        {
          "output_type": "display_data",
          "data": {
            "text/plain": [
              "Output()"
            ],
            "application/vnd.jupyter.widget-view+json": {
              "version_major": 2,
              "version_minor": 0,
              "model_id": "bd66a9fa05b5469faec59f9dde2037ee"
            }
          },
          "metadata": {}
        },
        {
          "output_type": "display_data",
          "data": {
            "text/plain": [],
            "text/html": [
              "<pre style=\"white-space:pre;overflow-x:auto;line-height:normal;font-family:Menlo,'DejaVu Sans Mono',consolas,'Courier New',monospace\"></pre>\n"
            ]
          },
          "metadata": {}
        },
        {
          "output_type": "display_data",
          "data": {
            "text/plain": [
              "Output()"
            ],
            "application/vnd.jupyter.widget-view+json": {
              "version_major": 2,
              "version_minor": 0,
              "model_id": "5a4e4e98bbbc4a779d551ee97b2c0002"
            }
          },
          "metadata": {}
        },
        {
          "output_type": "display_data",
          "data": {
            "text/plain": [],
            "text/html": [
              "<pre style=\"white-space:pre;overflow-x:auto;line-height:normal;font-family:Menlo,'DejaVu Sans Mono',consolas,'Courier New',monospace\"></pre>\n"
            ]
          },
          "metadata": {}
        },
        {
          "output_type": "display_data",
          "data": {
            "text/plain": [],
            "text/html": [
              "<pre style=\"white-space:pre;overflow-x:auto;line-height:normal;font-family:Menlo,'DejaVu Sans Mono',consolas,'Courier New',monospace\"></pre>\n"
            ]
          },
          "metadata": {}
        },
        {
          "output_type": "display_data",
          "data": {
            "text/plain": [
              "Output()"
            ],
            "application/vnd.jupyter.widget-view+json": {
              "version_major": 2,
              "version_minor": 0,
              "model_id": "82054e3a7a1945fd9f4879c0db040d39"
            }
          },
          "metadata": {}
        },
        {
          "output_type": "display_data",
          "data": {
            "text/plain": [],
            "text/html": [
              "<pre style=\"white-space:pre;overflow-x:auto;line-height:normal;font-family:Menlo,'DejaVu Sans Mono',consolas,'Courier New',monospace\"></pre>\n"
            ]
          },
          "metadata": {}
        },
        {
          "output_type": "display_data",
          "data": {
            "text/plain": [
              "Output()"
            ],
            "application/vnd.jupyter.widget-view+json": {
              "version_major": 2,
              "version_minor": 0,
              "model_id": "a1ab807197a64c85ba4928b3b13a82f6"
            }
          },
          "metadata": {}
        },
        {
          "output_type": "display_data",
          "data": {
            "text/plain": [],
            "text/html": [
              "<pre style=\"white-space:pre;overflow-x:auto;line-height:normal;font-family:Menlo,'DejaVu Sans Mono',consolas,'Courier New',monospace\"></pre>\n"
            ]
          },
          "metadata": {}
        },
        {
          "output_type": "display_data",
          "data": {
            "text/plain": [],
            "text/html": [
              "<pre style=\"white-space:pre;overflow-x:auto;line-height:normal;font-family:Menlo,'DejaVu Sans Mono',consolas,'Courier New',monospace\"></pre>\n"
            ]
          },
          "metadata": {}
        },
        {
          "output_type": "display_data",
          "data": {
            "text/plain": [
              "Version 0fe599b2afb6708d281543108caf8310912f54af enabled for the sky130 PDK.\n"
            ],
            "text/html": [
              "<pre style=\"white-space:pre;overflow-x:auto;line-height:normal;font-family:Menlo,'DejaVu Sans Mono',consolas,'Courier New',monospace\">Version 0fe599b2afb6708d281543108caf8310912f54af enabled for the sky130 PDK.\n",
              "</pre>\n"
            ]
          },
          "metadata": {}
        },
        {
          "output_type": "display_data",
          "data": {
            "text/plain": [
              "<IPython.core.display.HTML object>"
            ],
            "text/html": [
              "<h3>⭕️ Done.</a>"
            ]
          },
          "metadata": {}
        }
      ],
      "source": [
        "# @title Get LibreLane {display-mode: \"form\"}\n",
        "# @markdown Click the ▷ button to download and install LibreLane.\n",
        "# @markdown\n",
        "# @markdown This will install LibreLane's tool dependencies using Nix,\n",
        "# @markdown and LibreLane itself using PIP.\n",
        "# @markdown\n",
        "# @markdown Note that `python3-tk` may need to be installed using your OS's\n",
        "# @markdown package manager.\n",
        "import os\n",
        "import subprocess\n",
        "import IPython\n",
        "\n",
        "librelane_version = \"latest\"  # @param {key:\"LibreLane Version\", type:\"string\"}\n",
        "\n",
        "if librelane_version == \"latest\":\n",
        "    librelane_version = \"main\"\n",
        "\n",
        "pdk_root = \"~/.ciel\"  # @param {key:\"PDK Root\", type:\"string\"}\n",
        "\n",
        "pdk_root = os.path.expanduser(pdk_root)\n",
        "\n",
        "pdk = \"sky130\"  # @param {key:\"PDK (without the variant)\", type:\"string\"}\n",
        "\n",
        "librelane_ipynb_path = os.path.join(os.getcwd(), \"librelane_ipynb\")\n",
        "\n",
        "display(IPython.display.HTML(\"<h3>Downloading LibreLane…</a>\"))\n",
        "\n",
        "\n",
        "TESTING_LOCALLY = False\n",
        "!rm -rf {librelane_ipynb_path}\n",
        "!mkdir -p {librelane_ipynb_path}\n",
        "if TESTING_LOCALLY:\n",
        "    !ln -s {os.getcwd()} {librelane_ipynb_path}\n",
        "else:\n",
        "    !curl -L \"https://github.com/librelane/librelane/tarball/{librelane_version}\" | tar -xzC {librelane_ipynb_path} --strip-components 1\n",
        "\n",
        "try:\n",
        "    import tkinter\n",
        "except ImportError:\n",
        "    if \"google.colab\" in sys.modules:\n",
        "        !sudo apt-get install python-tk\n",
        "\n",
        "try:\n",
        "    import tkinter\n",
        "except ImportError as e:\n",
        "    display(\n",
        "        IPython.display.HTML(\n",
        "            '<h3 style=\"color: #800020\";>❌ Failed to import the <code>tkinter</code> library for Python, which is required to load PDK configuration values. Make sure <code>python3-tk</code> or equivalent is installed on your system.</a>'\n",
        "        )\n",
        "    )\n",
        "    raise e from None\n",
        "\n",
        "\n",
        "display(IPython.display.HTML(\"<h3>Downloading LibreLane's dependencies…</a>\"))\n",
        "try:\n",
        "    with subprocess.Popen(\n",
        "        [\n",
        "            \"nix\",\n",
        "            \"profile\",\n",
        "            \"install\",\n",
        "            \".#colab-env\",\n",
        "        ],\n",
        "        cwd=librelane_ipynb_path,\n",
        "        stdout=subprocess.PIPE,\n",
        "        stderr=subprocess.STDOUT,\n",
        "        encoding=\"utf8\",\n",
        "    ) as p:\n",
        "        for line in p.stdout:\n",
        "            print(line, end=\"\")\n",
        "except subprocess.CalledProcessError as e:\n",
        "    display(\n",
        "        IPython.display.HTML(\n",
        "            '<h3 style=\"color: #800020\";>❌ Failed to install binary dependencies using Nix…</h3>'\n",
        "        )\n",
        "    )\n",
        "\n",
        "display(IPython.display.HTML(\"<h3>Downloading Python dependencies using PIP…</a>\"))\n",
        "try:\n",
        "    subprocess.check_call(\n",
        "        [\"pip3\", \"install\", \".\"],\n",
        "        cwd=librelane_ipynb_path,\n",
        "    )\n",
        "except subprocess.CalledProcessError as e:\n",
        "    display(\n",
        "        IPython.display.HTML(\n",
        "            '<h3 style=\"color: #800020\";>❌ Failed to install Python dependencies using PIP…</h3>'\n",
        "        )\n",
        "    )\n",
        "    raise e from None\n",
        "\n",
        "display(IPython.display.HTML(\"<h3>Downloading PDK…</a>\"))\n",
        "import ciel\n",
        "from ciel.source import StaticWebDataSource\n",
        "\n",
        "ciel.enable(\n",
        "    ciel.get_ciel_home(pdk_root),\n",
        "    pdk,\n",
        "    open(\n",
        "        os.path.join(librelane_ipynb_path, \"librelane\", \"open_pdks_rev\"),\n",
        "        encoding=\"utf8\",\n",
        "    )\n",
        "    .read()\n",
        "    .strip(),\n",
        "    data_source=StaticWebDataSource(\"https://fossi-foundation.github.io/ciel-releases\"),\n",
        ")\n",
        "\n",
        "sys.path.insert(0, librelane_ipynb_path)\n",
        "display(IPython.display.HTML(\"<h3>⭕️ Done.</a>\"))\n",
        "\n",
        "import logging\n",
        "\n",
        "# Remove the stupid default colab logging handler\n",
        "logging.getLogger().handlers.clear()"
      ]
    },
    {
      "cell_type": "code",
      "execution_count": null,
      "metadata": {
        "id": "SyvTC0kgCay_"
      },
      "outputs": [],
      "source": [
        "import librelane\n",
        "\n",
        "print(librelane.__version__)"
      ]
    },
    {
      "cell_type": "markdown",
      "metadata": {
        "id": "6fRdoSHYCazA"
      },
      "source": [
        "### Creating the design\n",
        "\n",
        "Now that LibreLane is set up, we can write a Verilog file as follows:"
      ]
    },
    {
      "cell_type": "code",
      "execution_count": null,
      "metadata": {
        "id": "4d1TsU4gCazB"
      },
      "outputs": [],
      "source": [
        "%%writefile spm.v\n",
        "module spm(clk, rst, x, y, p);\n",
        "    parameter size = 32;\n",
        "    input clk, rst;\n",
        "    input y;\n",
        "    input[size-1:0] x;\n",
        "    output p;\n",
        "\n",
        "    wire[size-1:1] pp;\n",
        "    wire[size-1:0] xy;\n",
        "\n",
        "    genvar i;\n",
        "\n",
        "    CSADD csa0 (.clk(clk), .rst(rst), .x(x[0]&y), .y(pp[1]), .sum(p));\n",
        "    generate for(i=1; i<size-1; i=i+1) begin\n",
        "        CSADD csa (.clk(clk), .rst(rst), .x(x[i]&y), .y(pp[i+1]), .sum(pp[i]));\n",
        "    end endgenerate\n",
        "    TCMP tcmp (.clk(clk), .rst(rst), .a(x[size-1]&y), .s(pp[size-1]));\n",
        "\n",
        "endmodule\n",
        "\n",
        "module TCMP(clk, rst, a, s);\n",
        "    input clk, rst;\n",
        "    input a;\n",
        "    output reg s;\n",
        "\n",
        "    reg z;\n",
        "\n",
        "    always @(posedge clk or posedge rst) begin\n",
        "        if (rst) begin\n",
        "            //Reset logic goes here.\n",
        "            s <= 1'b0;\n",
        "            z <= 1'b0;\n",
        "        end\n",
        "        else begin\n",
        "            //Sequential logic goes here.\n",
        "            z <= a | z;\n",
        "            s <= a ^ z;\n",
        "        end\n",
        "    end\n",
        "endmodule\n",
        "\n",
        "module CSADD(clk, rst, x, y, sum);\n",
        "    input clk, rst;\n",
        "    input x, y;\n",
        "    output reg sum;\n",
        "\n",
        "    reg sc;\n",
        "\n",
        "    // Half Adders logic\n",
        "    wire hsum1, hco1;\n",
        "    assign hsum1 = y ^ sc;\n",
        "    assign hco1 = y & sc;\n",
        "\n",
        "    wire hsum2, hco2;\n",
        "    assign hsum2 = x ^ hsum1;\n",
        "    assign hco2 = x & hsum1;\n",
        "\n",
        "    always @(posedge clk or posedge rst) begin\n",
        "        if (rst) begin\n",
        "            //Reset logic goes here.\n",
        "            sum <= 1'b0;\n",
        "            sc <= 1'b0;\n",
        "        end\n",
        "        else begin\n",
        "            //Sequential logic goes here.\n",
        "            sum <= hsum2;\n",
        "            sc <= hco1 ^ hco2;\n",
        "        end\n",
        "    end\n",
        "endmodule"
      ]
    },
    {
      "cell_type": "markdown",
      "metadata": {
        "id": "hVuL3CPSCazB"
      },
      "source": [
        "### Setting up the configuration\n",
        "\n",
        "OpenLane requries you to configure any Flow before using it. This is done using\n",
        "the `config` module.\n",
        "\n",
        "For colaboratories, REPLs and other interactive environments where there is no\n",
        "concrete Flow object, the Configuration may be initialized using `Config.interactive`,\n",
        "which will automatically propagate the configuration to any future steps.\n",
        "\n",
        "You can find the documentation for `Config.interactive` [here](https://librelane.readthedocs.io/en/latest/reference/api/config/index.html#librelane.config.Config.interactive).\n",
        "\n"
      ]
    },
    {
      "cell_type": "code",
      "execution_count": null,
      "metadata": {
        "id": "90m4NvoxCazC"
      },
      "outputs": [],
      "source": [
        "from librelane.config import Config\n",
        "\n",
        "Config.interactive(\n",
        "    \"spm\",\n",
        "    PDK=\"sky130A\",\n",
        "    CLOCK_PORT=\"clk\",\n",
        "    CLOCK_NET=\"clk\",\n",
        "    CLOCK_PERIOD=10,\n",
        "    PRIMARY_GDSII_STREAMOUT_TOOL=\"klayout\",\n",
        ")"
      ]
    },
    {
      "cell_type": "markdown",
      "metadata": {
        "id": "-ZwzKXVkCazD"
      },
      "source": [
        "### Running implementation steps\n",
        "\n",
        "There are two ways to obtain LibreLane's built-in implementation steps:\n",
        "\n",
        "* via directly importing from the `steps` module using its category:\n",
        "    * `from librelane.steps import Yosys` then `Synthesis = Yosys.Synthesis`\n",
        "* by using the step's id from the registry:\n",
        "    * `from librelane.steps import Step` then `Synthesis = Step.factory.get(\"Yosys.Synthesis\")`\n",
        "\n",
        "You can find a full list of included steps here: https://librelane.readthedocs.io/en/latest/reference/step_config_vars.html"
      ]
    },
    {
      "cell_type": "code",
      "execution_count": null,
      "metadata": {
        "id": "u7XMzdWLCazD"
      },
      "outputs": [],
      "source": [
        "from librelane.steps import Step"
      ]
    },
    {
      "cell_type": "markdown",
      "metadata": {
        "id": "vV4LfyiPCazD"
      },
      "source": [
        "* First, get the step (and display its help)..."
      ]
    },
    {
      "cell_type": "code",
      "execution_count": null,
      "metadata": {
        "id": "8hp74TIpCazE"
      },
      "outputs": [],
      "source": [
        "Synthesis = Step.factory.get(\"Yosys.Synthesis\")\n",
        "\n",
        "Synthesis.display_help()"
      ]
    },
    {
      "cell_type": "markdown",
      "metadata": {
        "id": "2YojnjK1CazE"
      },
      "source": [
        "* Then run it. Note you can pass step-specific configs using Python keyword\n",
        "  arguments."
      ]
    },
    {
      "cell_type": "markdown",
      "metadata": {
        "id": "i7LRGZpoCazE"
      },
      "source": [
        "### Synthesis\n",
        "\n",
        "We need to start by converting our high-level Verilog to one that just shows\n",
        "the connections between small silicon patterns called \"standard cells\" in process\n",
        "called Synthesis. We can do this by passing the Verilog files as a configuration\n",
        "variable to `Yosys.Synthesis` as follows, then running it.\n",
        "\n",
        "As this is the first step, we need to create an empty state and pass it to it."
      ]
    },
    {
      "cell_type": "code",
      "execution_count": null,
      "metadata": {
        "scrolled": true,
        "id": "ya5kYZW0CazE"
      },
      "outputs": [],
      "source": [
        "from librelane.state import State\n",
        "\n",
        "synthesis = Synthesis(\n",
        "    VERILOG_FILES=[\"./spm.v\"],\n",
        "    state_in=State(),\n",
        ")\n",
        "synthesis.start()"
      ]
    },
    {
      "cell_type": "code",
      "execution_count": null,
      "metadata": {
        "id": "BmZzBeWoCazE"
      },
      "outputs": [],
      "source": [
        "display(synthesis)"
      ]
    },
    {
      "cell_type": "markdown",
      "metadata": {
        "id": "ujhorHsgCazF"
      },
      "source": [
        "### Floorplanning\n",
        "\n",
        "Floorplanning does two things:\n",
        "\n",
        "* Determines the dimensions of the final chip.\n",
        "* Creates the \"cell placement grid\" which placed cells must be aligned to.\n",
        "    * Each cell in the grid is called a \"site.\" Cells can occupy multiple\n",
        "      sites, with the overwhelming majority of cells occupying multiple sites\n",
        "      by width, and some standard cell libraries supporting varying heights as well.\n",
        "\n",
        "> Don't forget- you may call `display_help()` on any Step class to get a full\n",
        "> list of configuration variables.\n",
        ""
      ]
    },
    {
      "cell_type": "code",
      "execution_count": null,
      "metadata": {
        "id": "JnW_n_DhCazF"
      },
      "outputs": [],
      "source": [
        "Floorplan = Step.factory.get(\"OpenROAD.Floorplan\")\n",
        "\n",
        "floorplan = Floorplan(state_in=synthesis.state_out)\n",
        "floorplan.start()"
      ]
    },
    {
      "cell_type": "code",
      "execution_count": null,
      "metadata": {
        "id": "U53_kJzhCazF"
      },
      "outputs": [],
      "source": [
        "display(floorplan)"
      ]
    },
    {
      "cell_type": "markdown",
      "metadata": {
        "id": "B-Y2NkAqCazF"
      },
      "source": [
        "### Tap/Endcap Cell Insertion\n",
        "\n",
        "This places two kinds of cells on the floorplan:\n",
        "\n",
        "* End cap/boundary cells: Added at the beginning and end of each row. True to\n",
        "  their name, they \"cap off\" the core area of a design.\n",
        "* Tap cells: Placed in a polka dot-ish fashion across the rows. Tap cells\n",
        "  connect VDD to the nwell and the psubstrate to VSS, which the majority of cells\n",
        "  do not do themselves to save area- but if you go long enough without one such\n",
        "  connection you end up with the cell \"latching-up\"; i.e.; refusing to switch\n",
        "  back to LO from HI.\n",
        "\n",
        "  There is a maximum distance between tap cells enforced as part of every\n",
        "  foundry process."
      ]
    },
    {
      "cell_type": "code",
      "execution_count": null,
      "metadata": {
        "id": "WHsaQOStCazG"
      },
      "outputs": [],
      "source": [
        "TapEndcapInsertion = Step.factory.get(\"OpenROAD.TapEndcapInsertion\")\n",
        "\n",
        "tdi = TapEndcapInsertion(state_in=floorplan.state_out)\n",
        "tdi.start()"
      ]
    },
    {
      "cell_type": "code",
      "execution_count": null,
      "metadata": {
        "id": "lnhd7Oo3CazG"
      },
      "outputs": [],
      "source": [
        "display(tdi)"
      ]
    },
    {
      "cell_type": "markdown",
      "metadata": {
        "id": "gHrKfoWdCazG"
      },
      "source": [
        "### I/O Placement\n",
        "\n",
        "This places metal pins at the edges of the design corresponding to the top level\n",
        "inputs and outputs for your design. These pins act as the interface with other\n",
        "designs when you integrate it with other designs."
      ]
    },
    {
      "cell_type": "code",
      "execution_count": null,
      "metadata": {
        "scrolled": true,
        "id": "q3PkWmJECazG"
      },
      "outputs": [],
      "source": [
        "IOPlacement = Step.factory.get(\"OpenROAD.IOPlacement\")\n",
        "\n",
        "ioplace = IOPlacement(state_in=tdi.state_out)\n",
        "ioplace.start()"
      ]
    },
    {
      "cell_type": "code",
      "execution_count": null,
      "metadata": {
        "id": "7gp0jEj7CazG"
      },
      "outputs": [],
      "source": [
        "display(ioplace)"
      ]
    },
    {
      "cell_type": "markdown",
      "metadata": {
        "id": "ZHCvGEdoCazG"
      },
      "source": [
        "### Generating the Power Distribution Network (PDN)\n",
        "\n",
        "This creates the power distribution network for your design, which is essentially\n",
        "a plaid pattern of horizontal and vertical \"straps\" across the design that is\n",
        "then connected to the rails' VDD and VSS (via the tap cells.)\n",
        "\n",
        "You can find an explanation of how the power distribution network works at this\n",
        "link: https://librelane.readthedocs.io/en/latest/usage/hardening_macros.html#pdn-generation\n",
        "\n",
        "While we typically don't need to mess with the PDN too much, the SPM is a small\n",
        "design, so we're going to need to make the plaid pattern formed by the PDN a bit\n",
        "smaller."
      ]
    },
    {
      "cell_type": "code",
      "execution_count": null,
      "metadata": {
        "scrolled": true,
        "id": "4yNJHlwFCazH"
      },
      "outputs": [],
      "source": [
        "GeneratePDN = Step.factory.get(\"OpenROAD.GeneratePDN\")\n",
        "\n",
        "pdn = GeneratePDN(\n",
        "    state_in=ioplace.state_out,\n",
        "    FP_PDN_VWIDTH=2,\n",
        "    FP_PDN_HWIDTH=2,\n",
        "    FP_PDN_VPITCH=30,\n",
        "    FP_PDN_HPITCH=30,\n",
        ")\n",
        "pdn.start()"
      ]
    },
    {
      "cell_type": "code",
      "execution_count": null,
      "metadata": {
        "id": "vP9puDWRCazH"
      },
      "outputs": [],
      "source": [
        "display(pdn)"
      ]
    },
    {
      "cell_type": "markdown",
      "metadata": {
        "id": "UHVE78TECazH"
      },
      "source": [
        "### Global Placement\n",
        "\n",
        "Global Placement is deciding on a fuzzy, non-final location for each of the cells,\n",
        "with the aim of minimizing the distance between cells that are connected\n",
        "together (more specifically, the total length of the not-yet-created wires that\n",
        "will connect them).\n",
        "\n",
        "As you will see in the `.display()` in the second cell below, the placement is\n",
        "considered \"illegal\", i.e., not properly aligned with the cell placement grid.\n",
        "This is addressed by \"Detailed Placement\", also referred to as \"placement\n",
        "legalization\", which is the next step."
      ]
    },
    {
      "cell_type": "code",
      "execution_count": null,
      "metadata": {
        "id": "r1AM1XL1CazH"
      },
      "outputs": [],
      "source": [
        "GlobalPlacement = Step.factory.get(\"OpenROAD.GlobalPlacement\")\n",
        "\n",
        "gpl = GlobalPlacement(state_in=pdn.state_out)\n",
        "gpl.start()"
      ]
    },
    {
      "cell_type": "code",
      "execution_count": null,
      "metadata": {
        "id": "FXgZcosICazI"
      },
      "outputs": [],
      "source": [
        "display(gpl)"
      ]
    },
    {
      "cell_type": "markdown",
      "metadata": {
        "id": "5ldVPsbpCazI"
      },
      "source": [
        "### Detailed Placement\n",
        "\n",
        "This aligns the fuzzy placement from before with the grid, \"legalizing\" it."
      ]
    },
    {
      "cell_type": "code",
      "execution_count": null,
      "metadata": {
        "id": "VyYJOwbpCazI"
      },
      "outputs": [],
      "source": [
        "DetailedPlacement = Step.factory.get(\"OpenROAD.DetailedPlacement\")\n",
        "\n",
        "dpl = DetailedPlacement(state_in=gpl.state_out)\n",
        "dpl.start()"
      ]
    },
    {
      "cell_type": "code",
      "execution_count": null,
      "metadata": {
        "id": "Z-reaq6jCazI"
      },
      "outputs": [],
      "source": [
        "display(dpl)"
      ]
    },
    {
      "cell_type": "markdown",
      "metadata": {
        "id": "W1DRxUW3CazJ"
      },
      "source": [
        "### Clock Tree Synthesis (CTS)\n",
        "\n",
        "With the cells now having a final placement, we can go ahead and create what\n",
        "is known as the clock tree, i.e., the hierarchical set of buffers used\n",
        "for clock signal to minimize what is known as \"clock skew\"- variable delay\n",
        "of the clock cycle from register to register because of factors such as metal\n",
        "wire length, clock load (number of gates connected to the same clock buffer,)\n",
        "et cetera.\n",
        "\n",
        "The CTS step creates the cells and places the between the gaps in the detailed\n",
        "placement above."
      ]
    },
    {
      "cell_type": "code",
      "execution_count": null,
      "metadata": {
        "id": "1YgrB_w9CazJ"
      },
      "outputs": [],
      "source": [
        "CTS = Step.factory.get(\"OpenROAD.CTS\")\n",
        "\n",
        "cts = CTS(state_in=dpl.state_out)\n",
        "cts.start()"
      ]
    },
    {
      "cell_type": "code",
      "execution_count": null,
      "metadata": {
        "id": "ki5ATfMDCazJ"
      },
      "outputs": [],
      "source": [
        "display(cts)"
      ]
    },
    {
      "cell_type": "markdown",
      "metadata": {
        "id": "VnV_6y0BCazJ"
      },
      "source": [
        "### Global Routing\n",
        "\n",
        "Global routing \"plans\" the routes the wires between two gates (or gates and\n",
        "I/O pins/the PDN) will take. The results of global routing (which are called\n",
        "\"routing guides\") are stored in internal data structures and have no effect on\n",
        "the actual design, so there is no `display()` statement."
      ]
    },
    {
      "cell_type": "code",
      "execution_count": null,
      "metadata": {
        "id": "7hInYulfCazJ"
      },
      "outputs": [],
      "source": [
        "GlobalRouting = Step.factory.get(\"OpenROAD.GlobalRouting\")\n",
        "\n",
        "grt = GlobalRouting(state_in=cts.state_out)\n",
        "grt.start()"
      ]
    },
    {
      "cell_type": "markdown",
      "metadata": {
        "id": "EJBYNs8CCazN"
      },
      "source": [
        "### Detailed Routing\n",
        "\n",
        "Detailed routing uses the guides from Global Routing to actually create wires\n",
        "on the metal layers and connect the gates, making the connections finally physical.\n",
        "\n",
        "This is typically the longest step in the flow."
      ]
    },
    {
      "cell_type": "code",
      "execution_count": null,
      "metadata": {
        "id": "h5cy9-QMCazN"
      },
      "outputs": [],
      "source": [
        "DetailedRouting = Step.factory.get(\"OpenROAD.DetailedRouting\")\n",
        "\n",
        "drt = DetailedRouting(state_in=grt.state_out)\n",
        "drt.start()"
      ]
    },
    {
      "cell_type": "code",
      "execution_count": null,
      "metadata": {
        "id": "evSAR6ubCazO"
      },
      "outputs": [],
      "source": [
        "display(drt)"
      ]
    },
    {
      "cell_type": "markdown",
      "metadata": {
        "id": "NEBQ_87YCazO"
      },
      "source": [
        "### Fill Insertion\n",
        "\n",
        "Finally, as we're done placing all the essential cells, the only thing left to\n",
        "do is fill in the gaps.\n",
        "\n",
        "We prioritize the use of decap (decoupling capacitor) cells, which\n",
        "further supports the power distribution network, but when there aren't any\n",
        "small enough cells, we just use regular fill cells."
      ]
    },
    {
      "cell_type": "code",
      "execution_count": null,
      "metadata": {
        "id": "Q8MiWZBmCazO"
      },
      "outputs": [],
      "source": [
        "FillInsertion = Step.factory.get(\"OpenROAD.FillInsertion\")\n",
        "\n",
        "fill = FillInsertion(state_in=drt.state_out)\n",
        "fill.start()"
      ]
    },
    {
      "cell_type": "code",
      "execution_count": null,
      "metadata": {
        "id": "M9-AiQkSCazO"
      },
      "outputs": [],
      "source": [
        "display(fill)"
      ]
    },
    {
      "cell_type": "markdown",
      "metadata": {
        "id": "CFgR9LB7CazP"
      },
      "source": [
        "### Parasitics Extraction a.k.a. Resistance/Capacitance Extraction (RCX)\n",
        "\n",
        "This step does not alter the design- rather, it computes the\n",
        "[Parasitic elements](https://en.wikipedia.org/wiki/Parasitic_element_(electrical_networks))\n",
        "of the circuit, which have an effect of timing, as we prepare to do the final\n",
        "timing analysis.\n",
        "\n",
        "The parasitic elements are saved in the **Standard Parasitics Exchange Format**,\n",
        "or SPEF. OpenLane creates a SPEF file for each interconnect corner as described in\n",
        "the [Corners and STA](https://librelane.readthedocs.io/en/latest/usage/corners_and_sta.html)\n",
        "section of the documentation."
      ]
    },
    {
      "cell_type": "code",
      "execution_count": null,
      "metadata": {
        "id": "_vJpbBvzCazP"
      },
      "outputs": [],
      "source": [
        "RCX = Step.factory.get(\"OpenROAD.RCX\")\n",
        "\n",
        "rcx = RCX(state_in=fill.state_out)\n",
        "rcx.start()"
      ]
    },
    {
      "cell_type": "markdown",
      "metadata": {
        "id": "rUyA4cLDCazP"
      },
      "source": [
        "### Static Timing Analysis (Post-PnR)\n",
        "\n",
        "STA is a process that verifies that a chip meets certain constraints on clock\n",
        "and data timings to run at its rated clock speed. See [Corners and STA](https://librelane.readthedocs.io/en/latest/usage/corners_and_sta.html)\n",
        "in the documentation for more info.\n",
        "\n",
        "---\n",
        "\n",
        "This step generates two kinds of files:\n",
        "* `.lib`: Liberty™-compatible Library files. Can be used to do static timing\n",
        "  analysis when creating a design with this design as a sub-macro.\n",
        "* `.sdf`: Standard Delay Format. Can be used with certain simulation software\n",
        "  to do *dynamic* timing analysis.\n",
        "\n",
        "Unfortunately, the `.lib` files coming out of LibreLane right now are not super\n",
        "reliable for timing purposes and are only provided for completeness.\n",
        "\n",
        "When using LibreLane-created macros withing other designs, it is best to use the\n",
        "macro's final netlist and extracted parasitics instead."
      ]
    },
    {
      "cell_type": "code",
      "execution_count": null,
      "metadata": {
        "id": "gHYxrFXWCazP"
      },
      "outputs": [],
      "source": [
        "STAPostPNR = Step.factory.get(\"OpenROAD.STAPostPNR\")\n",
        "\n",
        "sta_post_pnr = STAPostPNR(state_in=rcx.state_out)\n",
        "sta_post_pnr.start()"
      ]
    },
    {
      "cell_type": "markdown",
      "metadata": {
        "id": "6nUmKGr4CazQ"
      },
      "source": [
        "### Stream-out\n",
        "\n",
        "Stream-out is the process of converting the designs from the abstract formats\n",
        "using during floorplanning, placement and routing into a concrete format called\n",
        "GDSII (lit. Graphic Design System 2), which is the final file that is then sent\n",
        "for fabrication."
      ]
    },
    {
      "cell_type": "code",
      "execution_count": null,
      "metadata": {
        "id": "I5NfQfwvCazQ"
      },
      "outputs": [],
      "source": [
        "StreamOut = Step.factory.get(\"KLayout.StreamOut\")\n",
        "\n",
        "gds = StreamOut(state_in=sta_post_pnr.state_out)\n",
        "gds.start()"
      ]
    },
    {
      "cell_type": "code",
      "execution_count": null,
      "metadata": {
        "id": "Nt6J8X6rCazQ"
      },
      "outputs": [],
      "source": [
        "display(gds)"
      ]
    },
    {
      "cell_type": "markdown",
      "metadata": {
        "id": "l7mMvRGiCazQ"
      },
      "source": [
        "### Design Rule Checks (DRC)\n",
        "\n",
        "DRC determines that the final layout does not violate any of the rules set by\n",
        "the foundry to ensure the design is actually manufacturable- for example,\n",
        "not enough space between two wires, *too much* space between tap cells, and so\n",
        "on.\n",
        "\n",
        "A design not passing DRC will typically be rejected by the foundry, who\n",
        "also run DRC on their side."
      ]
    },
    {
      "cell_type": "code",
      "execution_count": null,
      "metadata": {
        "id": "u5G_hSXGCazR"
      },
      "outputs": [],
      "source": [
        "DRC = Step.factory.get(\"Magic.DRC\")\n",
        "\n",
        "drc = DRC(state_in=gds.state_out)\n",
        "drc.start()"
      ]
    },
    {
      "cell_type": "markdown",
      "metadata": {
        "id": "4wLrDGgBCazR"
      },
      "source": [
        "### SPICE Extraction for Layout vs. Schematic Check\n",
        "\n",
        "This step tries to reconstruct a SPICE netlist from the GDSII file, so it can\n",
        "later be used for the **Layout vs. Schematic** (LVS) check."
      ]
    },
    {
      "cell_type": "code",
      "execution_count": null,
      "metadata": {
        "id": "sNFJbVAvCazR"
      },
      "outputs": [],
      "source": [
        "SpiceExtraction = Step.factory.get(\"Magic.SpiceExtraction\")\n",
        "\n",
        "spx = SpiceExtraction(state_in=drc.state_out)\n",
        "spx.start()"
      ]
    },
    {
      "cell_type": "markdown",
      "metadata": {
        "id": "jQGoZ5GLCazR"
      },
      "source": [
        "### Layout vs. Schematic (LVS)\n",
        "\n",
        "A comparison between the final Verilog netlist (from PnR) and the final\n",
        "SPICE netlist (extracted.)\n",
        "\n",
        "This check effectively compares the physically implemented circuit to the final\n",
        "Verilog netlist output by OpenROAD.\n",
        "\n",
        "The idea is, if there are any disconnects, shorts or other mismatches in the\n",
        "physical implementation that do not exist in the logical view of the design,\n",
        "they would be caught at this step.\n",
        "\n",
        "Common issues that result in LVS violations include:\n",
        "* Lack of fill cells or tap cells in the design\n",
        "* Two unrelated signals to be shorted, or a wire to be disconnected (most\n",
        "  commonly seen with misconfigured PDN)\n",
        "\n",
        "Chips with LVS errors are typically dead on arrival."
      ]
    },
    {
      "cell_type": "code",
      "execution_count": 1,
      "metadata": {
        "colab": {
          "base_uri": "https://localhost:8080/",
          "height": 193
        },
        "id": "Y4reGPdYCazR",
        "outputId": "37bd9c42-a8c1-4905-cf16-01ceb30d7e3a"
      },
      "outputs": [
        {
          "output_type": "error",
          "ename": "NameError",
          "evalue": "name 'Step' is not defined",
          "traceback": [
            "\u001b[0;31m---------------------------------------------------------------------------\u001b[0m",
            "\u001b[0;31mNameError\u001b[0m                                 Traceback (most recent call last)",
            "\u001b[0;32m/tmp/ipython-input-1611348791.py\u001b[0m in \u001b[0;36m<cell line: 0>\u001b[0;34m()\u001b[0m\n\u001b[0;32m----> 1\u001b[0;31m \u001b[0mLVS\u001b[0m \u001b[0;34m=\u001b[0m \u001b[0mStep\u001b[0m\u001b[0;34m.\u001b[0m\u001b[0mfactory\u001b[0m\u001b[0;34m.\u001b[0m\u001b[0mget\u001b[0m\u001b[0;34m(\u001b[0m\u001b[0;34m\"Netgen.LVS\"\u001b[0m\u001b[0;34m)\u001b[0m\u001b[0;34m\u001b[0m\u001b[0;34m\u001b[0m\u001b[0m\n\u001b[0m\u001b[1;32m      2\u001b[0m \u001b[0;34m\u001b[0m\u001b[0m\n\u001b[1;32m      3\u001b[0m \u001b[0mlvs\u001b[0m \u001b[0;34m=\u001b[0m \u001b[0mLVS\u001b[0m\u001b[0;34m(\u001b[0m\u001b[0mstate_in\u001b[0m\u001b[0;34m=\u001b[0m\u001b[0mspx\u001b[0m\u001b[0;34m.\u001b[0m\u001b[0mstate_out\u001b[0m\u001b[0;34m)\u001b[0m\u001b[0;34m\u001b[0m\u001b[0;34m\u001b[0m\u001b[0m\n\u001b[1;32m      4\u001b[0m \u001b[0mlvs\u001b[0m\u001b[0;34m.\u001b[0m\u001b[0mstart\u001b[0m\u001b[0;34m(\u001b[0m\u001b[0;34m)\u001b[0m\u001b[0;34m\u001b[0m\u001b[0;34m\u001b[0m\u001b[0m\n",
            "\u001b[0;31mNameError\u001b[0m: name 'Step' is not defined"
          ]
        }
      ],
      "source": [
        "LVS = Step.factory.get(\"Netgen.LVS\")\n",
        "\n",
        "lvs = LVS(state_in=spx.state_out)\n",
        "lvs.start()"
      ]
    }
  ],
  "metadata": {
    "kernelspec": {
      "display_name": "Python 3 (ipykernel)",
      "language": "python",
      "name": "python3"
    },
    "language_info": {
      "codemirror_mode": {
        "name": "ipython",
        "version": 3
      },
      "file_extension": ".py",
      "mimetype": "text/x-python",
      "name": "python",
      "nbconvert_exporter": "python",
      "pygments_lexer": "ipython3",
      "version": "3.11.6"
    },
    "vscode": {
      "interpreter": {
        "hash": "259a389b4057ccde35404af821e33afdf5883d9f2d987c370b23bfef9f2c3eb5"
      }
    },
    "colab": {
      "provenance": [],
      "include_colab_link": true
    },
    "widgets": {
      "application/vnd.jupyter.widget-state+json": {
        "b62b3695678a45498c1618b07736cb41": {
          "model_module": "@jupyter-widgets/output",
          "model_name": "OutputModel",
          "model_module_version": "1.0.0",
          "state": {
            "_dom_classes": [],
            "_model_module": "@jupyter-widgets/output",
            "_model_module_version": "1.0.0",
            "_model_name": "OutputModel",
            "_view_count": null,
            "_view_module": "@jupyter-widgets/output",
            "_view_module_version": "1.0.0",
            "_view_name": "OutputView",
            "layout": "IPY_MODEL_311b197edda7490ab7cc200237fcaac1",
            "msg_id": "",
            "outputs": [
              {
                "output_type": "display_data",
                "data": {
                  "text/plain": "Downloading common.tar.zst… \u001b[38;2;249;38;114m━━━━━━━━━━━━━━━━━━━━━━━━━━━━━━━━━━━━\u001b[0m\u001b[38;5;237m╺\u001b[0m\u001b[38;5;237m━━━\u001b[0m \u001b[35m 90%\u001b[0m \u001b[36m0:00:01\u001b[0m\n",
                  "text/html": "<pre style=\"white-space:pre;overflow-x:auto;line-height:normal;font-family:Menlo,'DejaVu Sans Mono',consolas,'Courier New',monospace\">Downloading common.tar.zst… <span style=\"color: #f92672; text-decoration-color: #f92672\">━━━━━━━━━━━━━━━━━━━━━━━━━━━━━━━━━━━━</span><span style=\"color: #3a3a3a; text-decoration-color: #3a3a3a\">╺━━━</span> <span style=\"color: #800080; text-decoration-color: #800080\"> 90%</span> <span style=\"color: #008080; text-decoration-color: #008080\">0:00:01</span>\n</pre>\n"
                },
                "metadata": {}
              }
            ]
          }
        },
        "311b197edda7490ab7cc200237fcaac1": {
          "model_module": "@jupyter-widgets/base",
          "model_name": "LayoutModel",
          "model_module_version": "1.2.0",
          "state": {
            "_model_module": "@jupyter-widgets/base",
            "_model_module_version": "1.2.0",
            "_model_name": "LayoutModel",
            "_view_count": null,
            "_view_module": "@jupyter-widgets/base",
            "_view_module_version": "1.2.0",
            "_view_name": "LayoutView",
            "align_content": null,
            "align_items": null,
            "align_self": null,
            "border": null,
            "bottom": null,
            "display": null,
            "flex": null,
            "flex_flow": null,
            "grid_area": null,
            "grid_auto_columns": null,
            "grid_auto_flow": null,
            "grid_auto_rows": null,
            "grid_column": null,
            "grid_gap": null,
            "grid_row": null,
            "grid_template_areas": null,
            "grid_template_columns": null,
            "grid_template_rows": null,
            "height": null,
            "justify_content": null,
            "justify_items": null,
            "left": null,
            "margin": null,
            "max_height": null,
            "max_width": null,
            "min_height": null,
            "min_width": null,
            "object_fit": null,
            "object_position": null,
            "order": null,
            "overflow": null,
            "overflow_x": null,
            "overflow_y": null,
            "padding": null,
            "right": null,
            "top": null,
            "visibility": null,
            "width": null
          }
        },
        "ec539fa505d64513a391b65915b76c02": {
          "model_module": "@jupyter-widgets/output",
          "model_name": "OutputModel",
          "model_module_version": "1.0.0",
          "state": {
            "_dom_classes": [],
            "_model_module": "@jupyter-widgets/output",
            "_model_module_version": "1.0.0",
            "_model_name": "OutputModel",
            "_view_count": null,
            "_view_module": "@jupyter-widgets/output",
            "_view_module_version": "1.0.0",
            "_view_name": "OutputView",
            "layout": "IPY_MODEL_d6dcc0b50d464207a13bc5072fd2770c",
            "msg_id": "",
            "outputs": [
              {
                "output_type": "display_data",
                "data": {
                  "text/plain": "\u001b[32m⠧\u001b[0m Unpacking common.tar.zst…\n",
                  "text/html": "<pre style=\"white-space:pre;overflow-x:auto;line-height:normal;font-family:Menlo,'DejaVu Sans Mono',consolas,'Courier New',monospace\"><span style=\"color: #008000; text-decoration-color: #008000\">⠧</span> Unpacking common.tar.zst…\n</pre>\n"
                },
                "metadata": {}
              }
            ]
          }
        },
        "d6dcc0b50d464207a13bc5072fd2770c": {
          "model_module": "@jupyter-widgets/base",
          "model_name": "LayoutModel",
          "model_module_version": "1.2.0",
          "state": {
            "_model_module": "@jupyter-widgets/base",
            "_model_module_version": "1.2.0",
            "_model_name": "LayoutModel",
            "_view_count": null,
            "_view_module": "@jupyter-widgets/base",
            "_view_module_version": "1.2.0",
            "_view_name": "LayoutView",
            "align_content": null,
            "align_items": null,
            "align_self": null,
            "border": null,
            "bottom": null,
            "display": null,
            "flex": null,
            "flex_flow": null,
            "grid_area": null,
            "grid_auto_columns": null,
            "grid_auto_flow": null,
            "grid_auto_rows": null,
            "grid_column": null,
            "grid_gap": null,
            "grid_row": null,
            "grid_template_areas": null,
            "grid_template_columns": null,
            "grid_template_rows": null,
            "height": null,
            "justify_content": null,
            "justify_items": null,
            "left": null,
            "margin": null,
            "max_height": null,
            "max_width": null,
            "min_height": null,
            "min_width": null,
            "object_fit": null,
            "object_position": null,
            "order": null,
            "overflow": null,
            "overflow_x": null,
            "overflow_y": null,
            "padding": null,
            "right": null,
            "top": null,
            "visibility": null,
            "width": null
          }
        },
        "d79753e6ecbe49bea11f0fef8f3ab322": {
          "model_module": "@jupyter-widgets/output",
          "model_name": "OutputModel",
          "model_module_version": "1.0.0",
          "state": {
            "_dom_classes": [],
            "_model_module": "@jupyter-widgets/output",
            "_model_module_version": "1.0.0",
            "_model_name": "OutputModel",
            "_view_count": null,
            "_view_module": "@jupyter-widgets/output",
            "_view_module_version": "1.0.0",
            "_view_name": "OutputView",
            "layout": "IPY_MODEL_04270036aeb6446fbd7a6d156eb574c9",
            "msg_id": "",
            "outputs": [
              {
                "output_type": "display_data",
                "data": {
                  "text/plain": "Downloading sky130_fd_io.tar.zst… \u001b[38;2;249;38;114m━━━━━━━━━━━━━━━━━━━━━━━━━━━━━━━━━━━━━\u001b[0m\u001b[38;5;237m╺\u001b[0m\u001b[38;5;237m━━\u001b[0m \u001b[35m 93%\u001b[0m \u001b[36m0:00:01\u001b[0m\n",
                  "text/html": "<pre style=\"white-space:pre;overflow-x:auto;line-height:normal;font-family:Menlo,'DejaVu Sans Mono',consolas,'Courier New',monospace\">Downloading sky130_fd_io.tar.zst… <span style=\"color: #f92672; text-decoration-color: #f92672\">━━━━━━━━━━━━━━━━━━━━━━━━━━━━━━━━━━━━━</span><span style=\"color: #3a3a3a; text-decoration-color: #3a3a3a\">╺━━</span> <span style=\"color: #800080; text-decoration-color: #800080\"> 93%</span> <span style=\"color: #008080; text-decoration-color: #008080\">0:00:01</span>\n</pre>\n"
                },
                "metadata": {}
              }
            ]
          }
        },
        "04270036aeb6446fbd7a6d156eb574c9": {
          "model_module": "@jupyter-widgets/base",
          "model_name": "LayoutModel",
          "model_module_version": "1.2.0",
          "state": {
            "_model_module": "@jupyter-widgets/base",
            "_model_module_version": "1.2.0",
            "_model_name": "LayoutModel",
            "_view_count": null,
            "_view_module": "@jupyter-widgets/base",
            "_view_module_version": "1.2.0",
            "_view_name": "LayoutView",
            "align_content": null,
            "align_items": null,
            "align_self": null,
            "border": null,
            "bottom": null,
            "display": null,
            "flex": null,
            "flex_flow": null,
            "grid_area": null,
            "grid_auto_columns": null,
            "grid_auto_flow": null,
            "grid_auto_rows": null,
            "grid_column": null,
            "grid_gap": null,
            "grid_row": null,
            "grid_template_areas": null,
            "grid_template_columns": null,
            "grid_template_rows": null,
            "height": null,
            "justify_content": null,
            "justify_items": null,
            "left": null,
            "margin": null,
            "max_height": null,
            "max_width": null,
            "min_height": null,
            "min_width": null,
            "object_fit": null,
            "object_position": null,
            "order": null,
            "overflow": null,
            "overflow_x": null,
            "overflow_y": null,
            "padding": null,
            "right": null,
            "top": null,
            "visibility": null,
            "width": null
          }
        },
        "da3d850038e048f082919107c3832a2f": {
          "model_module": "@jupyter-widgets/output",
          "model_name": "OutputModel",
          "model_module_version": "1.0.0",
          "state": {
            "_dom_classes": [],
            "_model_module": "@jupyter-widgets/output",
            "_model_module_version": "1.0.0",
            "_model_name": "OutputModel",
            "_view_count": null,
            "_view_module": "@jupyter-widgets/output",
            "_view_module_version": "1.0.0",
            "_view_name": "OutputView",
            "layout": "IPY_MODEL_2d155dbc86244bcfa0303a348a90e623",
            "msg_id": "",
            "outputs": [
              {
                "output_type": "display_data",
                "data": {
                  "text/plain": "\u001b[32m⠇\u001b[0m Unpacking sky130_fd_io.tar.zst…\n",
                  "text/html": "<pre style=\"white-space:pre;overflow-x:auto;line-height:normal;font-family:Menlo,'DejaVu Sans Mono',consolas,'Courier New',monospace\"><span style=\"color: #008000; text-decoration-color: #008000\">⠇</span> Unpacking sky130_fd_io.tar.zst…\n</pre>\n"
                },
                "metadata": {}
              }
            ]
          }
        },
        "2d155dbc86244bcfa0303a348a90e623": {
          "model_module": "@jupyter-widgets/base",
          "model_name": "LayoutModel",
          "model_module_version": "1.2.0",
          "state": {
            "_model_module": "@jupyter-widgets/base",
            "_model_module_version": "1.2.0",
            "_model_name": "LayoutModel",
            "_view_count": null,
            "_view_module": "@jupyter-widgets/base",
            "_view_module_version": "1.2.0",
            "_view_name": "LayoutView",
            "align_content": null,
            "align_items": null,
            "align_self": null,
            "border": null,
            "bottom": null,
            "display": null,
            "flex": null,
            "flex_flow": null,
            "grid_area": null,
            "grid_auto_columns": null,
            "grid_auto_flow": null,
            "grid_auto_rows": null,
            "grid_column": null,
            "grid_gap": null,
            "grid_row": null,
            "grid_template_areas": null,
            "grid_template_columns": null,
            "grid_template_rows": null,
            "height": null,
            "justify_content": null,
            "justify_items": null,
            "left": null,
            "margin": null,
            "max_height": null,
            "max_width": null,
            "min_height": null,
            "min_width": null,
            "object_fit": null,
            "object_position": null,
            "order": null,
            "overflow": null,
            "overflow_x": null,
            "overflow_y": null,
            "padding": null,
            "right": null,
            "top": null,
            "visibility": null,
            "width": null
          }
        },
        "2b28766de9db4d32a6ea8abae8888c39": {
          "model_module": "@jupyter-widgets/output",
          "model_name": "OutputModel",
          "model_module_version": "1.0.0",
          "state": {
            "_dom_classes": [],
            "_model_module": "@jupyter-widgets/output",
            "_model_module_version": "1.0.0",
            "_model_name": "OutputModel",
            "_view_count": null,
            "_view_module": "@jupyter-widgets/output",
            "_view_module_version": "1.0.0",
            "_view_name": "OutputView",
            "layout": "IPY_MODEL_44d38fd7f54b473f8ef1afe74e713056",
            "msg_id": "",
            "outputs": [
              {
                "output_type": "display_data",
                "data": {
                  "text/plain": "Downloading sky130_fd_pr.tar.zst… \u001b[38;2;249;38;114m━━━━━━━━━━━━━━━━━━━━━━━━━━━━━━━━━━━━━━\u001b[0m\u001b[38;5;237m╺\u001b[0m\u001b[38;5;237m━\u001b[0m \u001b[35m 96%\u001b[0m \u001b[36m0:00:01\u001b[0m\n",
                  "text/html": "<pre style=\"white-space:pre;overflow-x:auto;line-height:normal;font-family:Menlo,'DejaVu Sans Mono',consolas,'Courier New',monospace\">Downloading sky130_fd_pr.tar.zst… <span style=\"color: #f92672; text-decoration-color: #f92672\">━━━━━━━━━━━━━━━━━━━━━━━━━━━━━━━━━━━━━━</span><span style=\"color: #3a3a3a; text-decoration-color: #3a3a3a\">╺━</span> <span style=\"color: #800080; text-decoration-color: #800080\"> 96%</span> <span style=\"color: #008080; text-decoration-color: #008080\">0:00:01</span>\n</pre>\n"
                },
                "metadata": {}
              }
            ]
          }
        },
        "44d38fd7f54b473f8ef1afe74e713056": {
          "model_module": "@jupyter-widgets/base",
          "model_name": "LayoutModel",
          "model_module_version": "1.2.0",
          "state": {
            "_model_module": "@jupyter-widgets/base",
            "_model_module_version": "1.2.0",
            "_model_name": "LayoutModel",
            "_view_count": null,
            "_view_module": "@jupyter-widgets/base",
            "_view_module_version": "1.2.0",
            "_view_name": "LayoutView",
            "align_content": null,
            "align_items": null,
            "align_self": null,
            "border": null,
            "bottom": null,
            "display": null,
            "flex": null,
            "flex_flow": null,
            "grid_area": null,
            "grid_auto_columns": null,
            "grid_auto_flow": null,
            "grid_auto_rows": null,
            "grid_column": null,
            "grid_gap": null,
            "grid_row": null,
            "grid_template_areas": null,
            "grid_template_columns": null,
            "grid_template_rows": null,
            "height": null,
            "justify_content": null,
            "justify_items": null,
            "left": null,
            "margin": null,
            "max_height": null,
            "max_width": null,
            "min_height": null,
            "min_width": null,
            "object_fit": null,
            "object_position": null,
            "order": null,
            "overflow": null,
            "overflow_x": null,
            "overflow_y": null,
            "padding": null,
            "right": null,
            "top": null,
            "visibility": null,
            "width": null
          }
        },
        "80a998210d8b436284be1e8d7710ba1f": {
          "model_module": "@jupyter-widgets/output",
          "model_name": "OutputModel",
          "model_module_version": "1.0.0",
          "state": {
            "_dom_classes": [],
            "_model_module": "@jupyter-widgets/output",
            "_model_module_version": "1.0.0",
            "_model_name": "OutputModel",
            "_view_count": null,
            "_view_module": "@jupyter-widgets/output",
            "_view_module_version": "1.0.0",
            "_view_name": "OutputView",
            "layout": "IPY_MODEL_80add7c377d0430a8e288063ab247b22",
            "msg_id": "",
            "outputs": [
              {
                "output_type": "display_data",
                "data": {
                  "text/plain": "\u001b[32m⠹\u001b[0m Unpacking sky130_fd_pr.tar.zst…\n",
                  "text/html": "<pre style=\"white-space:pre;overflow-x:auto;line-height:normal;font-family:Menlo,'DejaVu Sans Mono',consolas,'Courier New',monospace\"><span style=\"color: #008000; text-decoration-color: #008000\">⠹</span> Unpacking sky130_fd_pr.tar.zst…\n</pre>\n"
                },
                "metadata": {}
              }
            ]
          }
        },
        "80add7c377d0430a8e288063ab247b22": {
          "model_module": "@jupyter-widgets/base",
          "model_name": "LayoutModel",
          "model_module_version": "1.2.0",
          "state": {
            "_model_module": "@jupyter-widgets/base",
            "_model_module_version": "1.2.0",
            "_model_name": "LayoutModel",
            "_view_count": null,
            "_view_module": "@jupyter-widgets/base",
            "_view_module_version": "1.2.0",
            "_view_name": "LayoutView",
            "align_content": null,
            "align_items": null,
            "align_self": null,
            "border": null,
            "bottom": null,
            "display": null,
            "flex": null,
            "flex_flow": null,
            "grid_area": null,
            "grid_auto_columns": null,
            "grid_auto_flow": null,
            "grid_auto_rows": null,
            "grid_column": null,
            "grid_gap": null,
            "grid_row": null,
            "grid_template_areas": null,
            "grid_template_columns": null,
            "grid_template_rows": null,
            "height": null,
            "justify_content": null,
            "justify_items": null,
            "left": null,
            "margin": null,
            "max_height": null,
            "max_width": null,
            "min_height": null,
            "min_width": null,
            "object_fit": null,
            "object_position": null,
            "order": null,
            "overflow": null,
            "overflow_x": null,
            "overflow_y": null,
            "padding": null,
            "right": null,
            "top": null,
            "visibility": null,
            "width": null
          }
        },
        "5a438b4968cd4d209817d0073e5b90db": {
          "model_module": "@jupyter-widgets/output",
          "model_name": "OutputModel",
          "model_module_version": "1.0.0",
          "state": {
            "_dom_classes": [],
            "_model_module": "@jupyter-widgets/output",
            "_model_module_version": "1.0.0",
            "_model_name": "OutputModel",
            "_view_count": null,
            "_view_module": "@jupyter-widgets/output",
            "_view_module_version": "1.0.0",
            "_view_name": "OutputView",
            "layout": "IPY_MODEL_99908bff672a40ed843c957b5966d21b",
            "msg_id": "",
            "outputs": [
              {
                "output_type": "display_data",
                "data": {
                  "text/plain": "Downloading sky130_fd_sc_hd.tar.zst… \u001b[38;2;249;38;114m━━━━━━━━━━━━━━━━━━━━━━━━━━━━━━━━━━━━\u001b[0m\u001b[38;5;237m╺\u001b[0m\u001b[38;5;237m━━━\u001b[0m \u001b[35m 91%\u001b[0m \u001b[36m0:00:01\u001b[0m\n",
                  "text/html": "<pre style=\"white-space:pre;overflow-x:auto;line-height:normal;font-family:Menlo,'DejaVu Sans Mono',consolas,'Courier New',monospace\">Downloading sky130_fd_sc_hd.tar.zst… <span style=\"color: #f92672; text-decoration-color: #f92672\">━━━━━━━━━━━━━━━━━━━━━━━━━━━━━━━━━━━━</span><span style=\"color: #3a3a3a; text-decoration-color: #3a3a3a\">╺━━━</span> <span style=\"color: #800080; text-decoration-color: #800080\"> 91%</span> <span style=\"color: #008080; text-decoration-color: #008080\">0:00:01</span>\n</pre>\n"
                },
                "metadata": {}
              }
            ]
          }
        },
        "99908bff672a40ed843c957b5966d21b": {
          "model_module": "@jupyter-widgets/base",
          "model_name": "LayoutModel",
          "model_module_version": "1.2.0",
          "state": {
            "_model_module": "@jupyter-widgets/base",
            "_model_module_version": "1.2.0",
            "_model_name": "LayoutModel",
            "_view_count": null,
            "_view_module": "@jupyter-widgets/base",
            "_view_module_version": "1.2.0",
            "_view_name": "LayoutView",
            "align_content": null,
            "align_items": null,
            "align_self": null,
            "border": null,
            "bottom": null,
            "display": null,
            "flex": null,
            "flex_flow": null,
            "grid_area": null,
            "grid_auto_columns": null,
            "grid_auto_flow": null,
            "grid_auto_rows": null,
            "grid_column": null,
            "grid_gap": null,
            "grid_row": null,
            "grid_template_areas": null,
            "grid_template_columns": null,
            "grid_template_rows": null,
            "height": null,
            "justify_content": null,
            "justify_items": null,
            "left": null,
            "margin": null,
            "max_height": null,
            "max_width": null,
            "min_height": null,
            "min_width": null,
            "object_fit": null,
            "object_position": null,
            "order": null,
            "overflow": null,
            "overflow_x": null,
            "overflow_y": null,
            "padding": null,
            "right": null,
            "top": null,
            "visibility": null,
            "width": null
          }
        },
        "988b7885e7e64eaba9dc57b80483ba6a": {
          "model_module": "@jupyter-widgets/output",
          "model_name": "OutputModel",
          "model_module_version": "1.0.0",
          "state": {
            "_dom_classes": [],
            "_model_module": "@jupyter-widgets/output",
            "_model_module_version": "1.0.0",
            "_model_name": "OutputModel",
            "_view_count": null,
            "_view_module": "@jupyter-widgets/output",
            "_view_module_version": "1.0.0",
            "_view_name": "OutputView",
            "layout": "IPY_MODEL_ce71136566fb464ba76642620008edba",
            "msg_id": "",
            "outputs": [
              {
                "output_type": "display_data",
                "data": {
                  "text/plain": "\u001b[32m⠹\u001b[0m Unpacking sky130_fd_sc_hd.tar.zst…\n",
                  "text/html": "<pre style=\"white-space:pre;overflow-x:auto;line-height:normal;font-family:Menlo,'DejaVu Sans Mono',consolas,'Courier New',monospace\"><span style=\"color: #008000; text-decoration-color: #008000\">⠹</span> Unpacking sky130_fd_sc_hd.tar.zst…\n</pre>\n"
                },
                "metadata": {}
              }
            ]
          }
        },
        "ce71136566fb464ba76642620008edba": {
          "model_module": "@jupyter-widgets/base",
          "model_name": "LayoutModel",
          "model_module_version": "1.2.0",
          "state": {
            "_model_module": "@jupyter-widgets/base",
            "_model_module_version": "1.2.0",
            "_model_name": "LayoutModel",
            "_view_count": null,
            "_view_module": "@jupyter-widgets/base",
            "_view_module_version": "1.2.0",
            "_view_name": "LayoutView",
            "align_content": null,
            "align_items": null,
            "align_self": null,
            "border": null,
            "bottom": null,
            "display": null,
            "flex": null,
            "flex_flow": null,
            "grid_area": null,
            "grid_auto_columns": null,
            "grid_auto_flow": null,
            "grid_auto_rows": null,
            "grid_column": null,
            "grid_gap": null,
            "grid_row": null,
            "grid_template_areas": null,
            "grid_template_columns": null,
            "grid_template_rows": null,
            "height": null,
            "justify_content": null,
            "justify_items": null,
            "left": null,
            "margin": null,
            "max_height": null,
            "max_width": null,
            "min_height": null,
            "min_width": null,
            "object_fit": null,
            "object_position": null,
            "order": null,
            "overflow": null,
            "overflow_x": null,
            "overflow_y": null,
            "padding": null,
            "right": null,
            "top": null,
            "visibility": null,
            "width": null
          }
        },
        "3622c7d88b6c4a96955a4ec46c4c951b": {
          "model_module": "@jupyter-widgets/output",
          "model_name": "OutputModel",
          "model_module_version": "1.0.0",
          "state": {
            "_dom_classes": [],
            "_model_module": "@jupyter-widgets/output",
            "_model_module_version": "1.0.0",
            "_model_name": "OutputModel",
            "_view_count": null,
            "_view_module": "@jupyter-widgets/output",
            "_view_module_version": "1.0.0",
            "_view_name": "OutputView",
            "layout": "IPY_MODEL_1de8bee8bbcb4522aefb77ec9af16e05",
            "msg_id": "",
            "outputs": [
              {
                "output_type": "display_data",
                "data": {
                  "text/plain": "Downloading sky130_fd_sc_hvl.tar.zst… \u001b[38;2;249;38;114m━━━━━━━━━━━━━━━━━━━━━━━━━━━━━━━━━━━━\u001b[0m\u001b[38;2;249;38;114m╸\u001b[0m\u001b[38;5;237m━━━\u001b[0m \u001b[35m 92%\u001b[0m \u001b[36m0:00:01\u001b[0m\n",
                  "text/html": "<pre style=\"white-space:pre;overflow-x:auto;line-height:normal;font-family:Menlo,'DejaVu Sans Mono',consolas,'Courier New',monospace\">Downloading sky130_fd_sc_hvl.tar.zst… <span style=\"color: #f92672; text-decoration-color: #f92672\">━━━━━━━━━━━━━━━━━━━━━━━━━━━━━━━━━━━━╸</span><span style=\"color: #3a3a3a; text-decoration-color: #3a3a3a\">━━━</span> <span style=\"color: #800080; text-decoration-color: #800080\"> 92%</span> <span style=\"color: #008080; text-decoration-color: #008080\">0:00:01</span>\n</pre>\n"
                },
                "metadata": {}
              }
            ]
          }
        },
        "1de8bee8bbcb4522aefb77ec9af16e05": {
          "model_module": "@jupyter-widgets/base",
          "model_name": "LayoutModel",
          "model_module_version": "1.2.0",
          "state": {
            "_model_module": "@jupyter-widgets/base",
            "_model_module_version": "1.2.0",
            "_model_name": "LayoutModel",
            "_view_count": null,
            "_view_module": "@jupyter-widgets/base",
            "_view_module_version": "1.2.0",
            "_view_name": "LayoutView",
            "align_content": null,
            "align_items": null,
            "align_self": null,
            "border": null,
            "bottom": null,
            "display": null,
            "flex": null,
            "flex_flow": null,
            "grid_area": null,
            "grid_auto_columns": null,
            "grid_auto_flow": null,
            "grid_auto_rows": null,
            "grid_column": null,
            "grid_gap": null,
            "grid_row": null,
            "grid_template_areas": null,
            "grid_template_columns": null,
            "grid_template_rows": null,
            "height": null,
            "justify_content": null,
            "justify_items": null,
            "left": null,
            "margin": null,
            "max_height": null,
            "max_width": null,
            "min_height": null,
            "min_width": null,
            "object_fit": null,
            "object_position": null,
            "order": null,
            "overflow": null,
            "overflow_x": null,
            "overflow_y": null,
            "padding": null,
            "right": null,
            "top": null,
            "visibility": null,
            "width": null
          }
        },
        "bd66a9fa05b5469faec59f9dde2037ee": {
          "model_module": "@jupyter-widgets/output",
          "model_name": "OutputModel",
          "model_module_version": "1.0.0",
          "state": {
            "_dom_classes": [],
            "_model_module": "@jupyter-widgets/output",
            "_model_module_version": "1.0.0",
            "_model_name": "OutputModel",
            "_view_count": null,
            "_view_module": "@jupyter-widgets/output",
            "_view_module_version": "1.0.0",
            "_view_name": "OutputView",
            "layout": "IPY_MODEL_6a3afba9bc9344ddaac5052e864ac3f8",
            "msg_id": "",
            "outputs": [
              {
                "output_type": "display_data",
                "data": {
                  "text/plain": "\u001b[32m⠙\u001b[0m Unpacking sky130_fd_sc_hvl.tar.zst…\n",
                  "text/html": "<pre style=\"white-space:pre;overflow-x:auto;line-height:normal;font-family:Menlo,'DejaVu Sans Mono',consolas,'Courier New',monospace\"><span style=\"color: #008000; text-decoration-color: #008000\">⠙</span> Unpacking sky130_fd_sc_hvl.tar.zst…\n</pre>\n"
                },
                "metadata": {}
              }
            ]
          }
        },
        "6a3afba9bc9344ddaac5052e864ac3f8": {
          "model_module": "@jupyter-widgets/base",
          "model_name": "LayoutModel",
          "model_module_version": "1.2.0",
          "state": {
            "_model_module": "@jupyter-widgets/base",
            "_model_module_version": "1.2.0",
            "_model_name": "LayoutModel",
            "_view_count": null,
            "_view_module": "@jupyter-widgets/base",
            "_view_module_version": "1.2.0",
            "_view_name": "LayoutView",
            "align_content": null,
            "align_items": null,
            "align_self": null,
            "border": null,
            "bottom": null,
            "display": null,
            "flex": null,
            "flex_flow": null,
            "grid_area": null,
            "grid_auto_columns": null,
            "grid_auto_flow": null,
            "grid_auto_rows": null,
            "grid_column": null,
            "grid_gap": null,
            "grid_row": null,
            "grid_template_areas": null,
            "grid_template_columns": null,
            "grid_template_rows": null,
            "height": null,
            "justify_content": null,
            "justify_items": null,
            "left": null,
            "margin": null,
            "max_height": null,
            "max_width": null,
            "min_height": null,
            "min_width": null,
            "object_fit": null,
            "object_position": null,
            "order": null,
            "overflow": null,
            "overflow_x": null,
            "overflow_y": null,
            "padding": null,
            "right": null,
            "top": null,
            "visibility": null,
            "width": null
          }
        },
        "5a4e4e98bbbc4a779d551ee97b2c0002": {
          "model_module": "@jupyter-widgets/output",
          "model_name": "OutputModel",
          "model_module_version": "1.0.0",
          "state": {
            "_dom_classes": [],
            "_model_module": "@jupyter-widgets/output",
            "_model_module_version": "1.0.0",
            "_model_name": "OutputModel",
            "_view_count": null,
            "_view_module": "@jupyter-widgets/output",
            "_view_module_version": "1.0.0",
            "_view_name": "OutputView",
            "layout": "IPY_MODEL_9b9923b2ecde487d89f02f98256e81f6",
            "msg_id": "",
            "outputs": [
              {
                "output_type": "display_data",
                "data": {
                  "text/plain": "Downloading sky130_ml_xx_hd.tar.zst… \u001b[38;5;237m━━━━━━━━━━━━━━━━━━━━━━━━━━━━━━━━━━━━━━━━\u001b[0m \u001b[35m  0%\u001b[0m \u001b[36m-:--:--\u001b[0m\n",
                  "text/html": "<pre style=\"white-space:pre;overflow-x:auto;line-height:normal;font-family:Menlo,'DejaVu Sans Mono',consolas,'Courier New',monospace\">Downloading sky130_ml_xx_hd.tar.zst… <span style=\"color: #3a3a3a; text-decoration-color: #3a3a3a\">━━━━━━━━━━━━━━━━━━━━━━━━━━━━━━━━━━━━━━━━</span> <span style=\"color: #800080; text-decoration-color: #800080\">  0%</span> <span style=\"color: #008080; text-decoration-color: #008080\">-:--:--</span>\n</pre>\n"
                },
                "metadata": {}
              }
            ]
          }
        },
        "9b9923b2ecde487d89f02f98256e81f6": {
          "model_module": "@jupyter-widgets/base",
          "model_name": "LayoutModel",
          "model_module_version": "1.2.0",
          "state": {
            "_model_module": "@jupyter-widgets/base",
            "_model_module_version": "1.2.0",
            "_model_name": "LayoutModel",
            "_view_count": null,
            "_view_module": "@jupyter-widgets/base",
            "_view_module_version": "1.2.0",
            "_view_name": "LayoutView",
            "align_content": null,
            "align_items": null,
            "align_self": null,
            "border": null,
            "bottom": null,
            "display": null,
            "flex": null,
            "flex_flow": null,
            "grid_area": null,
            "grid_auto_columns": null,
            "grid_auto_flow": null,
            "grid_auto_rows": null,
            "grid_column": null,
            "grid_gap": null,
            "grid_row": null,
            "grid_template_areas": null,
            "grid_template_columns": null,
            "grid_template_rows": null,
            "height": null,
            "justify_content": null,
            "justify_items": null,
            "left": null,
            "margin": null,
            "max_height": null,
            "max_width": null,
            "min_height": null,
            "min_width": null,
            "object_fit": null,
            "object_position": null,
            "order": null,
            "overflow": null,
            "overflow_x": null,
            "overflow_y": null,
            "padding": null,
            "right": null,
            "top": null,
            "visibility": null,
            "width": null
          }
        },
        "82054e3a7a1945fd9f4879c0db040d39": {
          "model_module": "@jupyter-widgets/output",
          "model_name": "OutputModel",
          "model_module_version": "1.0.0",
          "state": {
            "_dom_classes": [],
            "_model_module": "@jupyter-widgets/output",
            "_model_module_version": "1.0.0",
            "_model_name": "OutputModel",
            "_view_count": null,
            "_view_module": "@jupyter-widgets/output",
            "_view_module_version": "1.0.0",
            "_view_name": "OutputView",
            "layout": "IPY_MODEL_34e4ac5b4f9d4d08b19f3d752b3727db",
            "msg_id": "",
            "outputs": [
              {
                "output_type": "display_data",
                "data": {
                  "text/plain": "Downloading sky130_sram_macros.tar.zst… \u001b[38;2;249;38;114m━━━━━━━━━━━━━━━━━━━━━\u001b[0m\u001b[38;2;249;38;114m╸\u001b[0m\u001b[38;5;237m━━━━━━━━━━━━━━━━━━\u001b[0m \u001b[35m 55%\u001b[0m \u001b[36m0:00:01\u001b[0m\n",
                  "text/html": "<pre style=\"white-space:pre;overflow-x:auto;line-height:normal;font-family:Menlo,'DejaVu Sans Mono',consolas,'Courier New',monospace\">Downloading sky130_sram_macros.tar.zst… <span style=\"color: #f92672; text-decoration-color: #f92672\">━━━━━━━━━━━━━━━━━━━━━╸</span><span style=\"color: #3a3a3a; text-decoration-color: #3a3a3a\">━━━━━━━━━━━━━━━━━━</span> <span style=\"color: #800080; text-decoration-color: #800080\"> 55%</span> <span style=\"color: #008080; text-decoration-color: #008080\">0:00:01</span>\n</pre>\n"
                },
                "metadata": {}
              }
            ]
          }
        },
        "34e4ac5b4f9d4d08b19f3d752b3727db": {
          "model_module": "@jupyter-widgets/base",
          "model_name": "LayoutModel",
          "model_module_version": "1.2.0",
          "state": {
            "_model_module": "@jupyter-widgets/base",
            "_model_module_version": "1.2.0",
            "_model_name": "LayoutModel",
            "_view_count": null,
            "_view_module": "@jupyter-widgets/base",
            "_view_module_version": "1.2.0",
            "_view_name": "LayoutView",
            "align_content": null,
            "align_items": null,
            "align_self": null,
            "border": null,
            "bottom": null,
            "display": null,
            "flex": null,
            "flex_flow": null,
            "grid_area": null,
            "grid_auto_columns": null,
            "grid_auto_flow": null,
            "grid_auto_rows": null,
            "grid_column": null,
            "grid_gap": null,
            "grid_row": null,
            "grid_template_areas": null,
            "grid_template_columns": null,
            "grid_template_rows": null,
            "height": null,
            "justify_content": null,
            "justify_items": null,
            "left": null,
            "margin": null,
            "max_height": null,
            "max_width": null,
            "min_height": null,
            "min_width": null,
            "object_fit": null,
            "object_position": null,
            "order": null,
            "overflow": null,
            "overflow_x": null,
            "overflow_y": null,
            "padding": null,
            "right": null,
            "top": null,
            "visibility": null,
            "width": null
          }
        },
        "a1ab807197a64c85ba4928b3b13a82f6": {
          "model_module": "@jupyter-widgets/output",
          "model_name": "OutputModel",
          "model_module_version": "1.0.0",
          "state": {
            "_dom_classes": [],
            "_model_module": "@jupyter-widgets/output",
            "_model_module_version": "1.0.0",
            "_model_name": "OutputModel",
            "_view_count": null,
            "_view_module": "@jupyter-widgets/output",
            "_view_module_version": "1.0.0",
            "_view_name": "OutputView",
            "layout": "IPY_MODEL_5cd10945797543b6980e7bf3a01b1da9",
            "msg_id": "",
            "outputs": [
              {
                "output_type": "display_data",
                "data": {
                  "text/plain": "\u001b[32m⠧\u001b[0m Unpacking sky130_sram_macros.tar.zst…\n",
                  "text/html": "<pre style=\"white-space:pre;overflow-x:auto;line-height:normal;font-family:Menlo,'DejaVu Sans Mono',consolas,'Courier New',monospace\"><span style=\"color: #008000; text-decoration-color: #008000\">⠧</span> Unpacking sky130_sram_macros.tar.zst…\n</pre>\n"
                },
                "metadata": {}
              }
            ]
          }
        },
        "5cd10945797543b6980e7bf3a01b1da9": {
          "model_module": "@jupyter-widgets/base",
          "model_name": "LayoutModel",
          "model_module_version": "1.2.0",
          "state": {
            "_model_module": "@jupyter-widgets/base",
            "_model_module_version": "1.2.0",
            "_model_name": "LayoutModel",
            "_view_count": null,
            "_view_module": "@jupyter-widgets/base",
            "_view_module_version": "1.2.0",
            "_view_name": "LayoutView",
            "align_content": null,
            "align_items": null,
            "align_self": null,
            "border": null,
            "bottom": null,
            "display": null,
            "flex": null,
            "flex_flow": null,
            "grid_area": null,
            "grid_auto_columns": null,
            "grid_auto_flow": null,
            "grid_auto_rows": null,
            "grid_column": null,
            "grid_gap": null,
            "grid_row": null,
            "grid_template_areas": null,
            "grid_template_columns": null,
            "grid_template_rows": null,
            "height": null,
            "justify_content": null,
            "justify_items": null,
            "left": null,
            "margin": null,
            "max_height": null,
            "max_width": null,
            "min_height": null,
            "min_width": null,
            "object_fit": null,
            "object_position": null,
            "order": null,
            "overflow": null,
            "overflow_x": null,
            "overflow_y": null,
            "padding": null,
            "right": null,
            "top": null,
            "visibility": null,
            "width": null
          }
        }
      }
    }
  },
  "nbformat": 4,
  "nbformat_minor": 0
}